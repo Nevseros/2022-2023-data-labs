{
 "cells": [
  {
   "cell_type": "markdown",
   "id": "b98d1f5f",
   "metadata": {},
   "source": [
    "# <center> Лабораторная работа № 4</center>\n",
    "Перед началом выполнения каждой лабораторной работы, необходимо выполнить код в двух ячейках ниже. В случае если модуль `datetime` не установлен нужно установить. В последнем принте нужно вывести свою фамилию и инициалы."
   ]
  },
  {
   "cell_type": "code",
   "execution_count": 39,
   "id": "f8704410",
   "metadata": {
    "scrolled": true
   },
   "outputs": [
    {
     "name": "stdout",
     "output_type": "stream",
     "text": [
      "kaneva\\ҐЄ вҐаЁ\n"
     ]
    }
   ],
   "source": [
    "!whoami"
   ]
  },
  {
   "cell_type": "code",
   "execution_count": 2,
   "id": "7be587bf",
   "metadata": {},
   "outputs": [
    {
     "name": "stdout",
     "output_type": "stream",
     "text": [
      "2022-12-07 14:15:12.740319\n",
      "Kaneva E.P.\n"
     ]
    }
   ],
   "source": [
    "from datetime import datetime\n",
    "\n",
    "current_time = datetime.now()\n",
    "print(current_time)\n",
    "print(\"Kaneva E.P.\") # написать здесь свою фамилию и инициалы"
   ]
  },
  {
   "cell_type": "markdown",
   "id": "8de792ce",
   "metadata": {},
   "source": [
    "# Задания"
   ]
  },
  {
   "cell_type": "code",
   "execution_count": 1,
   "id": "f75b8192",
   "metadata": {},
   "outputs": [],
   "source": [
    "import pandas as pd\n",
    "df = pd.read_csv('data.csv', sep = ';')"
   ]
  },
  {
   "cell_type": "markdown",
   "id": "b3298390",
   "metadata": {},
   "source": [
    "**Задание 1.** В датафрейме `df` задана некоторая таблица. Написать функцию `get_rows_after_5(df, n)`, возвращающую датафрейм, в котором записано `n` строк, начиная с пятой сверху (включая 5-ю). Например, `get_row_after_5(df, 1)` должна вернуть только пятую строку, а `get_row_after_5(df, 2)` — 5-ю и 6-ю.\n",
    "\n",
    "**Внимание!** Индексами (именами строк) могут быть не числа, а что угодно."
   ]
  },
  {
   "cell_type": "code",
   "execution_count": 2,
   "id": "33117ec9",
   "metadata": {},
   "outputs": [
    {
     "name": "stdout",
     "output_type": "stream",
     "text": [
      "    ID                                             Region  global_id  \\\n",
      "4  302  город Москва (за исключением Троицкого и Новом...   19693301   \n",
      "5  313  город Москва (за исключением Троицкого и Новом...   19693302   \n",
      "\n",
      "       TariffItem UnitOfMeasure   StartDate     EndDate MeasureDeviceAvail  \\\n",
      "4  Электроэнергия     руб/кВт.ч  01.07.2012  31.07.2012                 да   \n",
      "5       Отопление      руб/Гкал  01.09.2012  31.12.2012                 да   \n",
      "\n",
      "  StoveType                          ConsumptionTime ConsumptionTarget  \\\n",
      "4   газовая  с 17:00 по 21:00 ч (многотарифный учет)  на бытовые нужды   \n",
      "5       NaN                                      NaN               NaN   \n",
      "\n",
      "                                              Agency  TariffValue  Unnamed: 13  \n",
      "4                                ОАО «Мосэнергосбыт»         4.03          NaN  \n",
      "5  ОАО «МОЭК» и иные, кроме ОАО «Мосэнерго» и ОАО...      1440.50          NaN  \n"
     ]
    }
   ],
   "source": [
    "def get_rows_after_5(df, n):\n",
    "    n += 4\n",
    "    new_df = df.iloc[4:n]\n",
    "    return new_df\n",
    "\n",
    "print(get_rows_after_5(df, 2))"
   ]
  },
  {
   "cell_type": "markdown",
   "id": "29181d2d",
   "metadata": {},
   "source": [
    "**Задание 2.** В датафрейме `df` задана некоторая таблица, её индексами являются целые числа, не обязательно идущие по порядку. Написать функцию `between(df, n, m)`, возвращающую все строки этой таблицы, расположенные между строками с индексами `n` и `m`, включая строки с индексами `n` и `m`. Гарантируется, что строка с индексом `n` встречается раньше строки с индексом `m`."
   ]
  },
  {
   "cell_type": "code",
   "execution_count": 38,
   "id": "b6197bd0",
   "metadata": {},
   "outputs": [
    {
     "name": "stdout",
     "output_type": "stream",
     "text": [
      "    ID                                             Region  global_id  \\\n",
      "2  285  город Москва (за исключением Троицкого и Новом...   19693299   \n",
      "3  301  город Москва (за исключением Троицкого и Новом...   19693300   \n",
      "4  302  город Москва (за исключением Троицкого и Новом...   19693301   \n",
      "\n",
      "       TariffItem UnitOfMeasure  StartDate    EndDate MeasureDeviceAvail  \\\n",
      "2  Электроэнергия     руб/кВт.ч 2012-01-01 2012-06-30                 да   \n",
      "3  Электроэнергия     руб/кВт.ч 2012-01-07 2012-07-31                 да   \n",
      "4  Электроэнергия     руб/кВт.ч 2012-01-07 2012-07-31                 да   \n",
      "\n",
      "  StoveType                          ConsumptionTime ConsumptionTarget  \\\n",
      "2   газовая  с 07:00 по 10:00 ч (многотарифный учет)  на бытовые нужды   \n",
      "3   газовая  с 07:00 по 10:00 ч (многотарифный учет)  на бытовые нужды   \n",
      "4   газовая  с 17:00 по 21:00 ч (многотарифный учет)  на бытовые нужды   \n",
      "\n",
      "                Agency  TariffValue  Unnamed: 13  \n",
      "2  ОАО «Мосэнергосбыт»         3.80          NaN  \n",
      "3  ОАО «Мосэнергосбыт»         4.03          NaN  \n",
      "4  ОАО «Мосэнергосбыт»         4.03          NaN  \n"
     ]
    }
   ],
   "source": [
    "def between(df, n, m):\n",
    "    m += 1\n",
    "    new_df = df.iloc[n:m]\n",
    "    return new_df\n",
    "\n",
    "print(between(df, 2, 4))"
   ]
  },
  {
   "cell_type": "markdown",
   "id": "b21b69ff",
   "metadata": {},
   "source": [
    "**Задание 3.** Загрузите файл `data.csv` (приложен к лабораторной работе). \n",
    "\n",
    "3.1. Определите типы данных в каждом столбце и объем используемой памяти таблицей.\n",
    "\n",
    "3.2. Столбцы с датами `StartDate` и `EndDate` приведети к типу `datetime64` (можно использовать функцию `pd.to_datetime()`) .\n",
    "\n",
    "3.3. Выберите из датафрейма агенство **ОАО «Мосэнергосбыт»** и подсчитайте среднее значение тарифа (`TariffValue`).\n",
    "\n",
    "3.4. Подсчитайте для каждого агенства _сумму, максимальное, минимальное, среднее, медианое_ значения тарифа (`TariffValue`)."
   ]
  },
  {
   "cell_type": "code",
   "execution_count": 15,
   "id": "701c3232",
   "metadata": {
    "scrolled": true
   },
   "outputs": [
    {
     "name": "stdout",
     "output_type": "stream",
     "text": [
      "Data types:\n",
      "ID                      int64\n",
      "Region                 object\n",
      "global_id               int64\n",
      "TariffItem             object\n",
      "UnitOfMeasure          object\n",
      "StartDate              object\n",
      "EndDate                object\n",
      "MeasureDeviceAvail     object\n",
      "StoveType              object\n",
      "ConsumptionTime        object\n",
      "ConsumptionTarget      object\n",
      "Agency                 object\n",
      "TariffValue           float64\n",
      "Unnamed: 13           float64\n",
      "dtype: object\n",
      "\n",
      "Memory used: 8080 bytes\n"
     ]
    }
   ],
   "source": [
    "# import pandas as pd\n",
    "# df = pd.read_csv(\"data.csv\", sep=';') - уже было сделано выше\n",
    "\n",
    "# 3.1.\n",
    "\n",
    "print(f'Data types:\\n{df.dtypes}\\n')\n",
    "print(f'Memory used: {sum(df.memory_usage())} bytes')"
   ]
  },
  {
   "cell_type": "code",
   "execution_count": 17,
   "id": "2e54b61e",
   "metadata": {},
   "outputs": [
    {
     "name": "stdout",
     "output_type": "stream",
     "text": [
      "Data types after the edit:\n",
      "ID                             int64\n",
      "Region                        object\n",
      "global_id                      int64\n",
      "TariffItem                    object\n",
      "UnitOfMeasure                 object\n",
      "StartDate             datetime64[ns]\n",
      "EndDate               datetime64[ns]\n",
      "MeasureDeviceAvail            object\n",
      "StoveType                     object\n",
      "ConsumptionTime               object\n",
      "ConsumptionTarget             object\n",
      "Agency                        object\n",
      "TariffValue                  float64\n",
      "Unnamed: 13                  float64\n",
      "dtype: object\n",
      "\n"
     ]
    }
   ],
   "source": [
    "# 3.2.\n",
    "\n",
    "df['StartDate'] = pd.to_datetime(df['StartDate'])\n",
    "df['EndDate'] = pd.to_datetime(df['EndDate'])\n",
    "print(f'Data types after the edit:\\n{df.dtypes}\\n')"
   ]
  },
  {
   "cell_type": "code",
   "execution_count": 22,
   "id": "46e4076d",
   "metadata": {},
   "outputs": [
    {
     "name": "stdout",
     "output_type": "stream",
     "text": [
      "Mean value: 2.5712499999999996\n"
     ]
    }
   ],
   "source": [
    "# 3.3.\n",
    "\n",
    "new_df = df[df['Agency'] == 'ОАО «Мосэнергосбыт»']\n",
    "print(f'Mean value: {new_df[\"TariffValue\"].mean()}')"
   ]
  },
  {
   "cell_type": "code",
   "execution_count": 37,
   "id": "93a865dc",
   "metadata": {},
   "outputs": [
    {
     "name": "stdout",
     "output_type": "stream",
     "text": [
      "                                                         Sum  MaxValue  \\\n",
      "ООО «Мосрегионгаз»                                      7.02      4.09   \n",
      "ОАО «Мосэнерго» и ОАО «МТК»                          3366.70   1075.43   \n",
      "ОАО «Мосэнергосбыт»                                    82.28      4.03   \n",
      "ООО «Газпром межрегионгаз Москва»                   13021.28   3370.00   \n",
      "ОАО «МОЭК» и иные, кроме ОАО «Мосэнерго» и ОАО ...   4484.41   1440.50   \n",
      "ОАО «Мосгаз»                                         1126.00   1126.00   \n",
      "МГУП «Мосводоканал»                                   129.52     26.75   \n",
      "\n",
      "                                                    MinValue    MeanValue  \\\n",
      "ООО «Мосрегионгаз»                                      2.93     3.510000   \n",
      "ОАО «Мосэнерго» и ОАО «МТК»                            84.62   561.116667   \n",
      "ОАО «Мосэнергосбыт»                                     0.67     2.571250   \n",
      "ООО «Газпром межрегионгаз Москва»                       4.09   723.404444   \n",
      "ОАО «МОЭК» и иные, кроме ОАО «Мосэнерго» и ОАО ...    105.45   747.401667   \n",
      "ОАО «Мосгаз»                                         1126.00  1126.000000   \n",
      "МГУП «Мосводоканал»                                    16.65    21.586667   \n",
      "\n",
      "                                                    MedianValue  \n",
      "ООО «Мосрегионгаз»                                        3.510  \n",
      "ОАО «Мосэнерго» и ОАО «МТК»                             541.455  \n",
      "ОАО «Мосэнергосбыт»                                       2.735  \n",
      "ООО «Газпром межрегионгаз Москва»                        36.460  \n",
      "ОАО «МОЭК» и иные, кроме ОАО «Мосэнерго» и ОАО ...      720.850  \n",
      "ОАО «Мосгаз»                                           1126.000  \n",
      "МГУП «Мосводоканал»                                      21.155  \n"
     ]
    }
   ],
   "source": [
    "# 3.4.\n",
    "\n",
    "agencies_list = list(set(df['Agency']))\n",
    "# print(agencies_list) - просто осталось с проверки адекватности того, что пишу\n",
    "\n",
    "new_df = pd.DataFrame({\n",
    "    'Sum': 0.00,\n",
    "    'MaxValue': 0.00,\n",
    "    'MinValue': 0.00,\n",
    "    'MeanValue': 0.00,\n",
    "    'MedianValue': 0.00},\n",
    "    index = agencies_list,)\n",
    "# print(new_df) - просто осталось с проверки адекватности того, что пишу\n",
    "\n",
    "for agency in agencies_list:\n",
    "    agency_split = df[df[\"Agency\"] == agency]\n",
    "    agency_tariff = agency_split[\"TariffValue\"]\n",
    "    new_df.Sum[agency] = sum(list(agency_tariff))\n",
    "    new_df.MaxValue[agency] = max(list(agency_tariff))\n",
    "    new_df.MinValue[agency] = min(list(agency_tariff))\n",
    "    new_df.MeanValue[agency] = agency_tariff.mean()\n",
    "    new_df.MedianValue[agency] = agency_tariff.median()\n",
    "\n",
    "print(new_df)"
   ]
  }
 ],
 "metadata": {
  "kernelspec": {
   "display_name": "Python 3 (ipykernel)",
   "language": "python",
   "name": "python3"
  },
  "language_info": {
   "codemirror_mode": {
    "name": "ipython",
    "version": 3
   },
   "file_extension": ".py",
   "mimetype": "text/x-python",
   "name": "python",
   "nbconvert_exporter": "python",
   "pygments_lexer": "ipython3",
   "version": "3.9.7"
  },
  "toc": {
   "base_numbering": 1,
   "nav_menu": {},
   "number_sections": false,
   "sideBar": true,
   "skip_h1_title": false,
   "title_cell": "Table of Contents",
   "title_sidebar": "Contents",
   "toc_cell": false,
   "toc_position": {},
   "toc_section_display": true,
   "toc_window_display": false
  }
 },
 "nbformat": 4,
 "nbformat_minor": 5
}
