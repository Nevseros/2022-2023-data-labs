{
 "cells": [
  {
   "cell_type": "markdown",
   "id": "b98d1f5f",
   "metadata": {},
   "source": [
    "# <center> Лабораторная работа № 4</center>\n",
    "Перед началом выполнения каждой лабораторной работы, необходимо выполнить код в двух ячейках ниже. В случае если модуль `datetime` не установлен нужно установить. В последнем принте нужно вывести свою фамилию и инициалы."
   ]
  },
  {
   "cell_type": "code",
   "execution_count": 1,
   "id": "f8704410",
   "metadata": {},
   "outputs": [
    {
     "name": "stdout",
     "output_type": "stream",
     "text": [
      "nevseros\\ҐЄ вҐаЁ­ \n"
     ]
    }
   ],
   "source": [
    "!whoami"
   ]
  },
  {
   "cell_type": "code",
   "execution_count": 2,
   "id": "7be587bf",
   "metadata": {},
   "outputs": [
    {
     "name": "stdout",
     "output_type": "stream",
     "text": [
      "2022-12-07 14:15:12.740319\n",
      "Kaneva E.P.\n"
     ]
    }
   ],
   "source": [
    "from datetime import datetime\n",
    "\n",
    "current_time = datetime.now()\n",
    "print(current_time)\n",
    "print(\"Kaneva E.P.\") # написать здесь свою фамилию и инициалы"
   ]
  },
  {
   "cell_type": "markdown",
   "id": "8de792ce",
   "metadata": {},
   "source": [
    "# Задания"
   ]
  },
  {
   "cell_type": "markdown",
   "id": "b3298390",
   "metadata": {},
   "source": [
    "**Задание 1.** В датафрейме `df` задана некоторая таблица. Написать функцию `get_rows_after_5(df, n)`, возвращающую датафрейм, в котором записано `n` строк, начиная с пятой сверху (включая 5-ю). Например, `get_row_after_5(df, 1)` должна вернуть только пятую строку, а `get_row_after_5(df, 2)` — 5-ю и 6-ю.\n",
    "\n",
    "**Внимание!** Индексами (именами строк) могут быть не числа, а что угодно."
   ]
  },
  {
   "cell_type": "markdown",
   "id": "29181d2d",
   "metadata": {},
   "source": [
    "**Задание 2.** В датафрейме `df` задана некоторая таблица, её индексами являются целые числа, не обязательно идущие по порядку. Написать функцию `between(df, n, m)`, возвращающую все строки этой таблицы, расположенные между строками с индексами `n` и `m`, включая строки с индексами `n` и `m`. Гарантируется, что строка с индексом `n` встречается раньше строки с индексом `m`."
   ]
  },
  {
   "cell_type": "markdown",
   "id": "b21b69ff",
   "metadata": {},
   "source": [
    "**Задание 3.** Загрузите файл `data.csv` (приложен к лабораторной работе). \n",
    "\n",
    "3.1. Определите типы данных в каждом столбце и объем используемой памяти таблицей.\n",
    "\n",
    "3.2. Столбцы с датами `StartDate` и `EndDate` приведети к типу `datetime64` (можно использовать функцию `pd.to_datetime()`) .\n",
    "\n",
    "3.3. Выберите из датафрейма агенство **ОАО «Мосэнергосбыт»** и подсчитайте среднее значение тарифа (`TariffValue`).\n",
    "\n",
    "3.4. Подсчитайте для каждого агенства _сумму, максимальное, минимальное, среднее, медианое_ значения тарифа (`TariffValue`)."
   ]
  }
 ],
 "metadata": {
  "kernelspec": {
   "display_name": "Python 3 (ipykernel)",
   "language": "python",
   "name": "python3"
  },
  "language_info": {
   "codemirror_mode": {
    "name": "ipython",
    "version": 3
   },
   "file_extension": ".py",
   "mimetype": "text/x-python",
   "name": "python",
   "nbconvert_exporter": "python",
   "pygments_lexer": "ipython3",
   "version": "3.9.7"
  },
  "toc": {
   "base_numbering": 1,
   "nav_menu": {},
   "number_sections": false,
   "sideBar": true,
   "skip_h1_title": false,
   "title_cell": "Table of Contents",
   "title_sidebar": "Contents",
   "toc_cell": false,
   "toc_position": {},
   "toc_section_display": true,
   "toc_window_display": false
  }
 },
 "nbformat": 4,
 "nbformat_minor": 5
}
