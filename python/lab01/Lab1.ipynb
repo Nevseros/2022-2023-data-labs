{
 "cells": [
  {
   "cell_type": "markdown",
   "id": "b98d1f5f",
   "metadata": {},
   "source": [
    "# <center> Лабораторная работа № 1</center>\n",
    "Перед началом выполнения каждой лабораторной работы, необходимо выполнить код в двух ячейках ниже. В случае если модуль `datetime` не установлен нужно установить. В последнем принте, вывести свою фамилию и инициалы."
   ]
  },
  {
   "cell_type": "code",
   "execution_count": 1,
   "id": "f8704410",
   "metadata": {},
   "outputs": [
    {
     "name": "stdout",
     "output_type": "stream",
     "text": [
      "nevseros\\ҐЄ вҐаЁ­ \n"
     ]
    }
   ],
   "source": [
    "!whoami"
   ]
  },
  {
   "cell_type": "code",
   "execution_count": 2,
   "id": "7be587bf",
   "metadata": {},
   "outputs": [
    {
     "name": "stdout",
     "output_type": "stream",
     "text": [
      "2022-11-29 00:31:10.641188\n",
      "Kaneva E.P.\n"
     ]
    }
   ],
   "source": [
    "from datetime import datetime\n",
    "\n",
    "current_time = datetime.now()\n",
    "print(current_time)\n",
    "print(\"Kaneva E.P.\") # написать здесь свою фамилию и инициалы"
   ]
  },
  {
   "cell_type": "markdown",
   "id": "8de792ce",
   "metadata": {},
   "source": [
    "# Задания"
   ]
  },
  {
   "cell_type": "markdown",
   "id": "b3298390",
   "metadata": {},
   "source": [
    "**Задание 1.** Программа должна заращивать у пользователя ввести любое положительное число и вывести первую и последню цифру этого числа, кол-во цифр в числе, сумму цифр в числе."
   ]
  },
  {
   "cell_type": "code",
   "execution_count": 3,
   "id": "f20d4ded",
   "metadata": {},
   "outputs": [
    {
     "name": "stdout",
     "output_type": "stream",
     "text": [
      "Input positive number: 0.123456\n",
      "1st digit: 0\n",
      "Last digit: 6\n",
      "Number of digits: 7\n",
      "Sum of digits: 21\n"
     ]
    }
   ],
   "source": [
    "import time\n",
    "\n",
    "print(\"Input positive number: \", end = \"\")\n",
    "time.sleep(0.5) # а то он запрос раньше сообщения выводит\n",
    "number = float(input())\n",
    "\n",
    "# check\n",
    "while number < 0:\n",
    "    print(\"Try again\")\n",
    "    print(\"Input positive number: \", end = \"\")\n",
    "    number = float(input())\n",
    "\n",
    "# 1st digit\n",
    "a = str(number)\n",
    "print(\"1st digit:\", int(a[0]))\n",
    "\n",
    "# last digit\n",
    "print(\"Last digit:\", int(a[-1]))\n",
    "\n",
    "# number of digits\n",
    "if number == int(number):\n",
    "    print(\"Number of digits:\", len(str(number)))\n",
    "else:                                                   # если числа целые, то\n",
    "    print(\"Number of digits:\", len(str(number)) - 1)    # эта ветка else не нужна\n",
    "\n",
    "# sum\n",
    "sumOfDigits = 0\n",
    "if number != int(number):\n",
    "    a = number % 1\n",
    "    len_a = len(str(a)) - 2\n",
    "    a = int(a * (10 ** len_a))\n",
    "    digits_a = [int(digit) for digit in list(str(a))]\n",
    "else:\n",
    "    digits_a = [0]\n",
    "b = int(number)\n",
    "digits_b = [int(digit) for digit in list(str(b))]\n",
    "sumOfDigits = sum(digits_a) + sum(digits_b)\n",
    "print(\"Sum of digits:\", sumOfDigits)\n",
    "\n",
    "# если всё целое, то сумму можно реализовать так:\n",
    "# digits = [int(digit) for digit in list(str(number))]\n",
    "# print(\"Sum of digits:\", sum(digits))"
   ]
  },
  {
   "cell_type": "markdown",
   "id": "29181d2d",
   "metadata": {},
   "source": [
    "**Задание 2.** Программа должна заращивать у пользователя ввести любое  положительное пятизначное число и вывести третью цифру этого числа."
   ]
  },
  {
   "cell_type": "code",
   "execution_count": 4,
   "id": "a636a141",
   "metadata": {},
   "outputs": [
    {
     "name": "stdout",
     "output_type": "stream",
     "text": [
      "Input positive whole number: 12345\n",
      "3rd digit: 3\n"
     ]
    }
   ],
   "source": [
    "from time import sleep\n",
    "\n",
    "# input\n",
    "print(\"Input positive whole number: \", end = \"\")\n",
    "time.sleep(0.5) # а то он запрос раньше сообщения выводит\n",
    "number = float(input())\n",
    "\n",
    "# check\n",
    "while number < 0 or number != int(number):\n",
    "    print(\"Try again\")\n",
    "    print(\"Input positive whole number: \", end = \"\")\n",
    "    number = float(input())\n",
    "\n",
    "# main\n",
    "number = str(number)\n",
    "print(\"3rd digit:\", number[2])"
   ]
  },
  {
   "cell_type": "markdown",
   "id": "b21b69ff",
   "metadata": {},
   "source": [
    "**Задание 3.** Определить. \n",
    "Программа должна заращивать у пользователя ввести любое два `a` и `b` положительных числа.\n",
    "Затем необходимо вычислить выражения `a//-b` и `a%-b`, а после объяснить (в ячейке *markdown*) как происходит вычисления в подобных выражениях."
   ]
  },
  {
   "cell_type": "code",
   "execution_count": 5,
   "id": "1968ac02",
   "metadata": {},
   "outputs": [
    {
     "name": "stdout",
     "output_type": "stream",
     "text": [
      "Input positive whole number a: 1234\n",
      "Input positive whole number b: 123\n",
      "a // -b = -11 \n",
      "a % -b = -119\n"
     ]
    }
   ],
   "source": [
    "# input\n",
    "a = int(input(\"Input positive whole number a: \"))\n",
    "b = int(input(\"Input positive whole number b: \"))\n",
    "\n",
    "# check\n",
    "while a < 0 or b < 0:\n",
    "    print(\"Try again\")\n",
    "    a = int(input(\"Input positive whole number a: \"))\n",
    "    b = int(input(\"Input positive whole number b: \"))\n",
    "\n",
    "# main\n",
    "print(\"a // -b =\", a // (-b), \"\\na % -b =\", a % (-b))"
   ]
  },
  {
   "cell_type": "markdown",
   "id": "d4af4d3a",
   "metadata": {},
   "source": [
    "При делении положительного числа на отрицательное остаток отрицателен, т.е. `1234 % -123 = -119`, т.к. `1234 = -11 * -123 + (-119)`."
   ]
  },
  {
   "cell_type": "markdown",
   "id": "6313c279",
   "metadata": {},
   "source": [
    "**Задание 4.** Напишите, программу, чтобы текст выводился в таком виде, как представлен ниже. Программа должна запращивать два значения размер партии и кол-во бракованных единиц `batch_size, number_of_defective`, и посчитать долю брака в процентах `percentage_of_defective`. Если процент брака больше 15, тогда напечатать слово **ужасны**, вместо **прекрасны** (вместо **почти нет** на **много**).\n",
    "\n",
    "\n",
    "    Хотим сообщить, что ваши ноутбуки прекрасны(ужасны) и брака почти нет (много).\n",
    "    Из партии, которую вы нам прислали, в размере\n",
    "    batch_size\n",
    "    единиц, всего\n",
    "    number_of_defective\n",
    "    ноутбуков были бракованными. Что составляет около\n",
    "    percentage_of_defective %. \n",
    "\n",
    "    С уважением и любовью,\n",
    "    Иван Иванович\n",
    "    тел. +7234567891"
   ]
  },
  {
   "cell_type": "code",
   "execution_count": 6,
   "id": "8dd2b079",
   "metadata": {},
   "outputs": [
    {
     "name": "stdout",
     "output_type": "stream",
     "text": [
      "Введите размер партии: 123456\n",
      "Введите количество брака: 123\n",
      "Хотим сообщить, что ваши ноутбуки прекрасны и брака почти нет.\n",
      "Из партии, которую вы нам прислали, в размере\n",
      "123456\n",
      "единиц, всего\n",
      "123\n",
      "ноутбуков были бракованными. Что составляет около\n",
      "0.09963063763608088 %.\n",
      "\n",
      "С уважением и любовью,\n",
      "Иван Иванович\n",
      "тел. +7234567891\n"
     ]
    }
   ],
   "source": [
    "batch_size = int(input(\"Введите размер партии: \"))\n",
    "number_of_defective = int(input(\"Введите количество брака: \"))\n",
    "percentage_of_defective = (number_of_defective / batch_size) * 100\n",
    "\n",
    "if percentage_of_defective > 15:\n",
    "    insert_1 = \"ужасны\"\n",
    "    insert_2 = \"много\"\n",
    "else:\n",
    "    insert_1 = \"прекрасны\"\n",
    "    insert_2 = \"почти нет\"\n",
    "    \n",
    "print(\n",
    "f\"\"\"Хотим сообщить, что ваши ноутбуки {insert_1} и брака {insert_2}.\n",
    "Из партии, которую вы нам прислали, в размере\n",
    "{batch_size}\n",
    "единиц, всего\n",
    "{number_of_defective}\n",
    "ноутбуков были бракованными. Что составляет около\n",
    "{percentage_of_defective} %.\\n\n",
    "С уважением и любовью,\n",
    "Иван Иванович\n",
    "тел. +7234567891\"\"\"\n",
    ")"
   ]
  }
 ],
 "metadata": {
  "kernelspec": {
   "display_name": "Python 3 (ipykernel)",
   "language": "python",
   "name": "python3"
  },
  "language_info": {
   "codemirror_mode": {
    "name": "ipython",
    "version": 3
   },
   "file_extension": ".py",
   "mimetype": "text/x-python",
   "name": "python",
   "nbconvert_exporter": "python",
   "pygments_lexer": "ipython3",
   "version": "3.11.7"
  },
  "toc": {
   "base_numbering": 1,
   "nav_menu": {},
   "number_sections": false,
   "sideBar": true,
   "skip_h1_title": false,
   "title_cell": "Table of Contents",
   "title_sidebar": "Contents",
   "toc_cell": false,
   "toc_position": {},
   "toc_section_display": true,
   "toc_window_display": false
  }
 },
 "nbformat": 4,
 "nbformat_minor": 5
}
