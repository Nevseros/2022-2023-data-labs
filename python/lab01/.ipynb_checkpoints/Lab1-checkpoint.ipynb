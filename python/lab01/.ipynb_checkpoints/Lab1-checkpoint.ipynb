{
 "cells": [
  {
   "cell_type": "markdown",
   "id": "b98d1f5f",
   "metadata": {},
   "source": [
    "# <center> Лабораторная работа № 1</center>\n",
    "Перед началом выполнения каждой лабораторной работы, необходимо выполнить код в двух ячейках ниже. В случае если модуль `datetime` не установлен нужно установить. В последнем принте, вывести свою фамилию и инициалы."
   ]
  },
  {
   "cell_type": "code",
   "execution_count": 1,
   "id": "f8704410",
   "metadata": {},
   "outputs": [
    {
     "name": "stdout",
     "output_type": "stream",
     "text": [
      "nevseros\\ҐЄ вҐаЁ­ \n"
     ]
    }
   ],
   "source": [
    "!whoami"
   ]
  },
  {
   "cell_type": "code",
   "execution_count": 3,
   "id": "7be587bf",
   "metadata": {},
   "outputs": [
    {
     "name": "stdout",
     "output_type": "stream",
     "text": [
      "2022-11-28 20:32:23.545308\n",
      "Kaneva E.P.\n"
     ]
    }
   ],
   "source": [
    "from datetime import datetime\n",
    "\n",
    "current_time = datetime.now()\n",
    "print(current_time)\n",
    "print(\"Kaneva E.P.\") # написать здесь свою фамилию и инициалы"
   ]
  },
  {
   "cell_type": "markdown",
   "id": "8de792ce",
   "metadata": {},
   "source": [
    "# Задания"
   ]
  },
  {
   "cell_type": "markdown",
   "id": "b3298390",
   "metadata": {},
   "source": [
    "**Задание 1.** Программа должна заращивать у пользователя ввести любое положительное число и вывести первую и последню цифру этого числа, кол-во цифр в числе, сумму цифр в числе."
   ]
  },
  {
   "cell_type": "code",
   "execution_count": null,
   "id": "33ab0458",
   "metadata": {},
   "outputs": [],
   "source": [
    "print(\"Введите положительное число: \")\n",
    "a = float(input())\n",
    "\n",
    "while a < 0:\n",
    "    print(\"Ошибка, попробуйте снова.\")\n",
    "    print(\"Введите положительное число: \")\n",
    "    a = float(input())\n",
    "\n",
    "while a % 1 != 0:\n",
    "    a *= 10\n",
    "\n",
    "print(\"Последняя цифра: \")\n",
    "print(int(a % 10))"
   ]
  },
  {
   "cell_type": "markdown",
   "id": "29181d2d",
   "metadata": {},
   "source": [
    "**Задание 2.** Программа должна заращивать у пользователя ввести любое  положительное пятизначное число и вывести третью цифру этого числа."
   ]
  },
  {
   "cell_type": "markdown",
   "id": "b21b69ff",
   "metadata": {},
   "source": [
    "**Задание 3.** Определить. \n",
    "Программа должна заращивать у пользователя ввести любое два `a` и `b` положительных числа.\n",
    "Затем необходимо вычислить выражения `a//-b` и `a%-b`, а после объяснить (в ячейке *markdown*) как происходит вычисления в подобных выражениях."
   ]
  },
  {
   "cell_type": "markdown",
   "id": "6313c279",
   "metadata": {},
   "source": [
    "**Задание 4.** Напишите, программу, чтобы текст выводился в таком виде, как представлен ниже. Программа должна запращивать два значения размер партии и кол-во бракованных единиц `batch_size, number_of_defective`, и посчитать долю брака в процентах `percentage_of_defective`. Если процент брака больше 15, тогда напечатать слово **ужасны**, вместо **прекрасны** (вместо **почти нет** на **много**).\n",
    "\n",
    "\n",
    "    Хотим сообщить, что ваши ноутбуки прекрасны(ужасны) и брака почти нет (много).\n",
    "    Из партии, которую вы нам прислали, в размере\n",
    "    batch_size\n",
    "    единиц, всего\n",
    "    number_of_defective\n",
    "    ноутбуков были бракованными. Что составляет около\n",
    "    percentage_of_defective %. \n",
    "\n",
    "    С уважением и любовью,\n",
    "    Иван Иванович\n",
    "    тел. +7234567891"
   ]
  }
 ],
 "metadata": {
  "kernelspec": {
   "display_name": "Python 3 (ipykernel)",
   "language": "python",
   "name": "python3"
  },
  "language_info": {
   "codemirror_mode": {
    "name": "ipython",
    "version": 3
   },
   "file_extension": ".py",
   "mimetype": "text/x-python",
   "name": "python",
   "nbconvert_exporter": "python",
   "pygments_lexer": "ipython3",
   "version": "3.9.7"
  },
  "toc": {
   "base_numbering": 1,
   "nav_menu": {},
   "number_sections": false,
   "sideBar": true,
   "skip_h1_title": false,
   "title_cell": "Table of Contents",
   "title_sidebar": "Contents",
   "toc_cell": false,
   "toc_position": {},
   "toc_section_display": true,
   "toc_window_display": false
  }
 },
 "nbformat": 4,
 "nbformat_minor": 5
}
