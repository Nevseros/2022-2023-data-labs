{
 "cells": [
  {
   "cell_type": "markdown",
   "metadata": {},
   "source": [
    "# Работа с таблицами в библиотеке Pandas ч. 1\n",
    "* Работа с файлами открытие (чтение) файлов. Обзор возможностей библиотеки pandas."
   ]
  },
  {
   "cell_type": "markdown",
   "metadata": {},
   "source": [
    "Мы обсуждали разные структуры данных — списки, словари, массивы, сложные структуры, составленные из списков и словарей и т.д. Однако самый распространённый вид, в котором обычно представляют данные для их анализа — это таблицы. Проще всего сохранить таблицу в Python в списке, элементами которого являются списки — строки таблицы. Например, вот такая табличка:\n",
    "\n",
    "<table>\n",
    "<tr>\n",
    "<td>1</td><td>2</td><td>3</td>\n",
    "</tr>\n",
    "<tr>\n",
    "<td>4</td><td>5</td><td>6</td>\n",
    "</tr>\n",
    "</table>\n",
    "\n",
    "будет записана вот в таком виде:"
   ]
  },
  {
   "cell_type": "code",
   "execution_count": 1,
   "metadata": {},
   "outputs": [],
   "source": [
    "table = [[1, 2, 3], [4, 5, 6]]"
   ]
  },
  {
   "cell_type": "code",
   "execution_count": 2,
   "metadata": {},
   "outputs": [
    {
     "data": {
      "text/plain": [
       "[[1, 2, 3], [4, 5, 6]]"
      ]
     },
     "execution_count": 2,
     "metadata": {},
     "output_type": "execute_result"
    }
   ],
   "source": [
    "table"
   ]
  },
  {
   "cell_type": "markdown",
   "metadata": {},
   "source": [
    "Например, можно получить третий элемент второй строки вот так:"
   ]
  },
  {
   "cell_type": "code",
   "execution_count": 3,
   "metadata": {},
   "outputs": [
    {
     "data": {
      "text/plain": [
       "6"
      ]
     },
     "execution_count": 3,
     "metadata": {},
     "output_type": "execute_result"
    }
   ],
   "source": [
    "table[1][2]"
   ]
  },
  {
   "cell_type": "markdown",
   "metadata": {},
   "source": [
    "Или целиком первую строку:"
   ]
  },
  {
   "cell_type": "code",
   "execution_count": 4,
   "metadata": {},
   "outputs": [
    {
     "data": {
      "text/plain": [
       "[1, 2, 3]"
      ]
     },
     "execution_count": 4,
     "metadata": {},
     "output_type": "execute_result"
    }
   ],
   "source": [
    "table[0]"
   ]
  },
  {
   "cell_type": "markdown",
   "metadata": {},
   "source": [
    "Эта структура простая и понятная, однако не слишком удобная. Например, получить первый *столбец* уже не так просто. (Хорошее упражнение — написать для этого правильный код.)\n",
    "\n",
    "Есть ещё одна проблема: такая структура очень медленная. К счастью, хорошие люди уже написали для нас библиотеку по работе с табличными данными. Она называется *pandas*."
   ]
  },
  {
   "cell_type": "markdown",
   "metadata": {},
   "source": [
    "### Датафреймы"
   ]
  },
  {
   "cell_type": "code",
   "execution_count": 5,
   "metadata": {},
   "outputs": [],
   "source": [
    "import pandas as pd"
   ]
  },
  {
   "cell_type": "markdown",
   "metadata": {},
   "source": [
    "В pandas реализованы типы данных с разным числом измерений: одномерный тип (просто ряд) называется `Series`, двумерный (табличка) — `DataFrame`, трёхмерный — `Panel`. Мы будем обсуждать преимущественно `DataFrame`. Про `Series` скажем пока только то, что эта штука очень похожа на `np.array` (массив в библиотеки `numpy`)."
   ]
  },
  {
   "cell_type": "markdown",
   "metadata": {},
   "source": [
    "Давайте сделаем Series из нашей таблички использовав одну лишь строку."
   ]
  },
  {
   "cell_type": "code",
   "execution_count": 15,
   "metadata": {},
   "outputs": [
    {
     "name": "stdout",
     "output_type": "stream",
     "text": [
      "0    1\n",
      "1    2\n",
      "2    3\n",
      "dtype: int64\n"
     ]
    },
    {
     "data": {
      "text/plain": [
       "pandas.core.series.Series"
      ]
     },
     "execution_count": 15,
     "metadata": {},
     "output_type": "execute_result"
    }
   ],
   "source": [
    "s = pd.Series(table[0]) #создаем объект Series c первой строки таблицы\n",
    "print(s) #напечатем данный объект\n",
    "type(s) #выведим тип данного объекта"
   ]
  },
  {
   "cell_type": "markdown",
   "metadata": {},
   "source": [
    "Давайте сделаем датафрейм из нашей таблички."
   ]
  },
  {
   "cell_type": "code",
   "execution_count": 17,
   "metadata": {},
   "outputs": [],
   "source": [
    "df = pd.DataFrame(table)"
   ]
  },
  {
   "cell_type": "code",
   "execution_count": 18,
   "metadata": {},
   "outputs": [
    {
     "data": {
      "text/html": [
       "<div>\n",
       "<style scoped>\n",
       "    .dataframe tbody tr th:only-of-type {\n",
       "        vertical-align: middle;\n",
       "    }\n",
       "\n",
       "    .dataframe tbody tr th {\n",
       "        vertical-align: top;\n",
       "    }\n",
       "\n",
       "    .dataframe thead th {\n",
       "        text-align: right;\n",
       "    }\n",
       "</style>\n",
       "<table border=\"1\" class=\"dataframe\">\n",
       "  <thead>\n",
       "    <tr style=\"text-align: right;\">\n",
       "      <th></th>\n",
       "      <th>0</th>\n",
       "      <th>1</th>\n",
       "      <th>2</th>\n",
       "    </tr>\n",
       "  </thead>\n",
       "  <tbody>\n",
       "    <tr>\n",
       "      <th>0</th>\n",
       "      <td>1</td>\n",
       "      <td>2</td>\n",
       "      <td>3</td>\n",
       "    </tr>\n",
       "    <tr>\n",
       "      <th>1</th>\n",
       "      <td>4</td>\n",
       "      <td>5</td>\n",
       "      <td>6</td>\n",
       "    </tr>\n",
       "  </tbody>\n",
       "</table>\n",
       "</div>"
      ],
      "text/plain": [
       "   0  1  2\n",
       "0  1  2  3\n",
       "1  4  5  6"
      ]
     },
     "execution_count": 18,
     "metadata": {},
     "output_type": "execute_result"
    }
   ],
   "source": [
    "df"
   ]
  },
  {
   "cell_type": "markdown",
   "metadata": {},
   "source": [
    "У такой таблицы можно обращаться к строкам, а можно и к столбцам:"
   ]
  },
  {
   "cell_type": "code",
   "execution_count": 19,
   "metadata": {},
   "outputs": [
    {
     "data": {
      "text/plain": [
       "0    1\n",
       "1    4\n",
       "Name: 0, dtype: int64"
      ]
     },
     "execution_count": 19,
     "metadata": {},
     "output_type": "execute_result"
    }
   ],
   "source": [
    "df[0] # первый столбец"
   ]
  },
  {
   "cell_type": "markdown",
   "metadata": {},
   "source": [
    "Номера слева соответствуют номерам (а точнее индексам) строк. Перед нами объект `pd.Series`, представляющий собой нечто среднее между `np.array` и словарём (ниже мы столкнёмся с этим более явно, когда индексы будут не последовательными целыми числами, а строками)."
   ]
  },
  {
   "cell_type": "code",
   "execution_count": 20,
   "metadata": {},
   "outputs": [
    {
     "data": {
      "text/plain": [
       "0    1\n",
       "1    2\n",
       "2    3\n",
       "Name: 0, dtype: int64"
      ]
     },
     "execution_count": 20,
     "metadata": {},
     "output_type": "execute_result"
    }
   ],
   "source": [
    "df.loc[0] # первая строка"
   ]
  },
  {
   "cell_type": "code",
   "execution_count": 21,
   "metadata": {},
   "outputs": [
    {
     "data": {
      "text/plain": [
       "0    4\n",
       "1    5\n",
       "2    6\n",
       "Name: 1, dtype: int64"
      ]
     },
     "execution_count": 21,
     "metadata": {},
     "output_type": "execute_result"
    }
   ],
   "source": [
    "df.loc[1] # вторая строка"
   ]
  },
  {
   "cell_type": "markdown",
   "metadata": {},
   "source": [
    "### Загрузка датафрейма из CSV-файла"
   ]
  },
  {
   "cell_type": "markdown",
   "metadata": {},
   "source": [
    "Для дальнейшего рассмотрим простой CSV-файл с данными, изображающими результаты нескольких виртуальных студентов по некоторым домашкам."
   ]
  },
  {
   "cell_type": "code",
   "execution_count": 24,
   "metadata": {},
   "outputs": [],
   "source": [
    "df = pd.read_csv(\"student_list.csv\")"
   ]
  },
  {
   "cell_type": "code",
   "execution_count": 25,
   "metadata": {
    "scrolled": true
   },
   "outputs": [
    {
     "data": {
      "text/html": [
       "<div>\n",
       "<style scoped>\n",
       "    .dataframe tbody tr th:only-of-type {\n",
       "        vertical-align: middle;\n",
       "    }\n",
       "\n",
       "    .dataframe tbody tr th {\n",
       "        vertical-align: top;\n",
       "    }\n",
       "\n",
       "    .dataframe thead th {\n",
       "        text-align: right;\n",
       "    }\n",
       "</style>\n",
       "<table border=\"1\" class=\"dataframe\">\n",
       "  <thead>\n",
       "    <tr style=\"text-align: right;\">\n",
       "      <th></th>\n",
       "      <th>Assignment</th>\n",
       "      <th>Ann</th>\n",
       "      <th>Bob</th>\n",
       "      <th>Claudia</th>\n",
       "      <th>Daniel</th>\n",
       "    </tr>\n",
       "  </thead>\n",
       "  <tbody>\n",
       "    <tr>\n",
       "      <th>0</th>\n",
       "      <td>Limits</td>\n",
       "      <td>1.0</td>\n",
       "      <td>2.0</td>\n",
       "      <td>3.0</td>\n",
       "      <td>2.0</td>\n",
       "    </tr>\n",
       "    <tr>\n",
       "      <th>1</th>\n",
       "      <td>Derivatives</td>\n",
       "      <td>2.3</td>\n",
       "      <td>1.2</td>\n",
       "      <td>3.2</td>\n",
       "      <td>1.2</td>\n",
       "    </tr>\n",
       "    <tr>\n",
       "      <th>2</th>\n",
       "      <td>Integrals</td>\n",
       "      <td>2.1</td>\n",
       "      <td>2.3</td>\n",
       "      <td>2.3</td>\n",
       "      <td>2.2</td>\n",
       "    </tr>\n",
       "    <tr>\n",
       "      <th>3</th>\n",
       "      <td>Vectors</td>\n",
       "      <td>4.0</td>\n",
       "      <td>2.5</td>\n",
       "      <td>2.4</td>\n",
       "      <td>1.2</td>\n",
       "    </tr>\n",
       "    <tr>\n",
       "      <th>4</th>\n",
       "      <td>Operators</td>\n",
       "      <td>6.0</td>\n",
       "      <td>5.0</td>\n",
       "      <td>4.0</td>\n",
       "      <td>5.0</td>\n",
       "    </tr>\n",
       "  </tbody>\n",
       "</table>\n",
       "</div>"
      ],
      "text/plain": [
       "    Assignment   Ann  Bob  Claudia  Daniel\n",
       "0       Limits   1.0  2.0      3.0     2.0\n",
       "1  Derivatives   2.3  1.2      3.2     1.2\n",
       "2    Integrals   2.1  2.3      2.3     2.2\n",
       "3      Vectors   4.0  2.5      2.4     1.2\n",
       "4    Operators   6.0  5.0      4.0     5.0"
      ]
     },
     "execution_count": 25,
     "metadata": {},
     "output_type": "execute_result"
    }
   ],
   "source": [
    "df"
   ]
  },
  {
   "cell_type": "markdown",
   "metadata": {},
   "source": [
    "Здесь `Ann`, `Bob` и т.д. — имена студентов, `Limits`, `Derivatives` и т.д. — названия домашних работ. Загрузим наш файл в `Pandas` — для этого его даже не нужно скачивать — можно передать функции `pd.read_csv()` URL (сетевой адрес) нашего файла (хотя, конечно, можно было бы открыть и локальный файл с тем же успехом):"
   ]
  },
  {
   "cell_type": "markdown",
   "metadata": {},
   "source": [
    "Заметим, что верхняя строчка выделена полужирным — это потому, что она рассматривается не как строчка с данными, а как строчка с именами столбцов. К столбцам можно обращаться по имени (примерно как к элементам словарей)."
   ]
  },
  {
   "cell_type": "code",
   "execution_count": 26,
   "metadata": {},
   "outputs": [
    {
     "data": {
      "text/plain": [
       "0    2.0\n",
       "1    1.2\n",
       "2    2.3\n",
       "3    2.5\n",
       "4    5.0\n",
       "Name: Bob, dtype: float64"
      ]
     },
     "execution_count": 26,
     "metadata": {},
     "output_type": "execute_result"
    }
   ],
   "source": [
    "df['Bob']"
   ]
  },
  {
   "cell_type": "markdown",
   "metadata": {},
   "source": [
    "У строк по умолчанию нет имён, и им присваивются номера (левая полужирная колонка). Можно было бы загрузить файл таким образом, чтобы первый столбец рассматривался как столбец с именами строк (индексам), для этого надо передать `pd.read_csv()` параметр `index_col` с номером нужного столбца:"
   ]
  },
  {
   "cell_type": "code",
   "execution_count": 27,
   "metadata": {},
   "outputs": [],
   "source": [
    "df = pd.read_csv(\n",
    "    \"student_list.csv\", \n",
    "    index_col=0\n",
    ")"
   ]
  },
  {
   "cell_type": "code",
   "execution_count": 28,
   "metadata": {},
   "outputs": [
    {
     "data": {
      "text/html": [
       "<div>\n",
       "<style scoped>\n",
       "    .dataframe tbody tr th:only-of-type {\n",
       "        vertical-align: middle;\n",
       "    }\n",
       "\n",
       "    .dataframe tbody tr th {\n",
       "        vertical-align: top;\n",
       "    }\n",
       "\n",
       "    .dataframe thead th {\n",
       "        text-align: right;\n",
       "    }\n",
       "</style>\n",
       "<table border=\"1\" class=\"dataframe\">\n",
       "  <thead>\n",
       "    <tr style=\"text-align: right;\">\n",
       "      <th></th>\n",
       "      <th>Ann</th>\n",
       "      <th>Bob</th>\n",
       "      <th>Claudia</th>\n",
       "      <th>Daniel</th>\n",
       "    </tr>\n",
       "    <tr>\n",
       "      <th>Assignment</th>\n",
       "      <th></th>\n",
       "      <th></th>\n",
       "      <th></th>\n",
       "      <th></th>\n",
       "    </tr>\n",
       "  </thead>\n",
       "  <tbody>\n",
       "    <tr>\n",
       "      <th>Limits</th>\n",
       "      <td>1.0</td>\n",
       "      <td>2.0</td>\n",
       "      <td>3.0</td>\n",
       "      <td>2.0</td>\n",
       "    </tr>\n",
       "    <tr>\n",
       "      <th>Derivatives</th>\n",
       "      <td>2.3</td>\n",
       "      <td>1.2</td>\n",
       "      <td>3.2</td>\n",
       "      <td>1.2</td>\n",
       "    </tr>\n",
       "    <tr>\n",
       "      <th>Integrals</th>\n",
       "      <td>2.1</td>\n",
       "      <td>2.3</td>\n",
       "      <td>2.3</td>\n",
       "      <td>2.2</td>\n",
       "    </tr>\n",
       "    <tr>\n",
       "      <th>Vectors</th>\n",
       "      <td>4.0</td>\n",
       "      <td>2.5</td>\n",
       "      <td>2.4</td>\n",
       "      <td>1.2</td>\n",
       "    </tr>\n",
       "    <tr>\n",
       "      <th>Operators</th>\n",
       "      <td>6.0</td>\n",
       "      <td>5.0</td>\n",
       "      <td>4.0</td>\n",
       "      <td>5.0</td>\n",
       "    </tr>\n",
       "  </tbody>\n",
       "</table>\n",
       "</div>"
      ],
      "text/plain": [
       "              Ann  Bob  Claudia  Daniel\n",
       "Assignment                             \n",
       "Limits        1.0  2.0      3.0     2.0\n",
       "Derivatives   2.3  1.2      3.2     1.2\n",
       "Integrals     2.1  2.3      2.3     2.2\n",
       "Vectors       4.0  2.5      2.4     1.2\n",
       "Operators     6.0  5.0      4.0     5.0"
      ]
     },
     "execution_count": 28,
     "metadata": {},
     "output_type": "execute_result"
    }
   ],
   "source": [
    "df"
   ]
  },
  {
   "cell_type": "markdown",
   "metadata": {},
   "source": [
    "Теперь можно посмотреть на строчку, обратившись к ней по имени (то есть по названию домашки):"
   ]
  },
  {
   "cell_type": "code",
   "execution_count": 30,
   "metadata": {},
   "outputs": [
    {
     "data": {
      "text/plain": [
       " Ann       1.0\n",
       "Bob        2.0\n",
       "Claudia    3.0\n",
       "Daniel     2.0\n",
       "Name: Limits, dtype: float64"
      ]
     },
     "execution_count": 30,
     "metadata": {},
     "output_type": "execute_result"
    }
   ],
   "source": [
    "df.loc['Limits']"
   ]
  },
  {
   "cell_type": "markdown",
   "metadata": {},
   "source": [
    "Заметим, что теперь столбец слева состоит не из последовательных чисел, а из строк, являющихся именами соответствующих столбцов в исходной таблице.\n",
    "\n",
    "> В статистике, строчка датафрейма называется «наблюдением» (*observation*), а столбец — «переменной» (*variable*). Данные в столбце должны быть однородны (например, может быть столбец, состоящий только из чисел или только из строк, но не может быть столбца, в котором перемешаны строки и числа), а по строкам могут быть разнородны."
   ]
  },
  {
   "cell_type": "markdown",
   "metadata": {},
   "source": [
    "Слово `Assignment` при отображении `df` — не имя какой-то строчки, а имя столбца с индексами."
   ]
  },
  {
   "cell_type": "code",
   "execution_count": 31,
   "metadata": {},
   "outputs": [
    {
     "data": {
      "text/plain": [
       "Index(['Limits', 'Derivatives', 'Integrals', 'Vectors', 'Operators'], dtype='object', name='Assignment')"
      ]
     },
     "execution_count": 31,
     "metadata": {},
     "output_type": "execute_result"
    }
   ],
   "source": [
    "df.index"
   ]
  },
  {
   "cell_type": "markdown",
   "metadata": {},
   "source": [
    "Его можно убрать вот так:"
   ]
  },
  {
   "cell_type": "code",
   "execution_count": 32,
   "metadata": {},
   "outputs": [],
   "source": [
    "df.index.name = None"
   ]
  },
  {
   "cell_type": "code",
   "execution_count": 33,
   "metadata": {},
   "outputs": [
    {
     "data": {
      "text/html": [
       "<div>\n",
       "<style scoped>\n",
       "    .dataframe tbody tr th:only-of-type {\n",
       "        vertical-align: middle;\n",
       "    }\n",
       "\n",
       "    .dataframe tbody tr th {\n",
       "        vertical-align: top;\n",
       "    }\n",
       "\n",
       "    .dataframe thead th {\n",
       "        text-align: right;\n",
       "    }\n",
       "</style>\n",
       "<table border=\"1\" class=\"dataframe\">\n",
       "  <thead>\n",
       "    <tr style=\"text-align: right;\">\n",
       "      <th></th>\n",
       "      <th>Ann</th>\n",
       "      <th>Bob</th>\n",
       "      <th>Claudia</th>\n",
       "      <th>Daniel</th>\n",
       "    </tr>\n",
       "  </thead>\n",
       "  <tbody>\n",
       "    <tr>\n",
       "      <th>Limits</th>\n",
       "      <td>1.0</td>\n",
       "      <td>2.0</td>\n",
       "      <td>3.0</td>\n",
       "      <td>2.0</td>\n",
       "    </tr>\n",
       "    <tr>\n",
       "      <th>Derivatives</th>\n",
       "      <td>2.3</td>\n",
       "      <td>1.2</td>\n",
       "      <td>3.2</td>\n",
       "      <td>1.2</td>\n",
       "    </tr>\n",
       "    <tr>\n",
       "      <th>Integrals</th>\n",
       "      <td>2.1</td>\n",
       "      <td>2.3</td>\n",
       "      <td>2.3</td>\n",
       "      <td>2.2</td>\n",
       "    </tr>\n",
       "    <tr>\n",
       "      <th>Vectors</th>\n",
       "      <td>4.0</td>\n",
       "      <td>2.5</td>\n",
       "      <td>2.4</td>\n",
       "      <td>1.2</td>\n",
       "    </tr>\n",
       "    <tr>\n",
       "      <th>Operators</th>\n",
       "      <td>6.0</td>\n",
       "      <td>5.0</td>\n",
       "      <td>4.0</td>\n",
       "      <td>5.0</td>\n",
       "    </tr>\n",
       "  </tbody>\n",
       "</table>\n",
       "</div>"
      ],
      "text/plain": [
       "              Ann  Bob  Claudia  Daniel\n",
       "Limits        1.0  2.0      3.0     2.0\n",
       "Derivatives   2.3  1.2      3.2     1.2\n",
       "Integrals     2.1  2.3      2.3     2.2\n",
       "Vectors       4.0  2.5      2.4     1.2\n",
       "Operators     6.0  5.0      4.0     5.0"
      ]
     },
     "execution_count": 33,
     "metadata": {},
     "output_type": "execute_result"
    }
   ],
   "source": [
    "df"
   ]
  },
  {
   "cell_type": "markdown",
   "metadata": {},
   "source": [
    "Вот так можно обратиться к конкретному элементы таблицы:"
   ]
  },
  {
   "cell_type": "code",
   "execution_count": 34,
   "metadata": {},
   "outputs": [
    {
     "data": {
      "text/plain": [
       "2.0"
      ]
     },
     "execution_count": 34,
     "metadata": {},
     "output_type": "execute_result"
    }
   ],
   "source": [
    "df.at['Limits', 'Bob']"
   ]
  },
  {
   "cell_type": "markdown",
   "metadata": {},
   "source": [
    "Попробуем то же самое с `Ann`:"
   ]
  },
  {
   "cell_type": "code",
   "execution_count": 35,
   "metadata": {},
   "outputs": [
    {
     "ename": "KeyError",
     "evalue": "'Ann'",
     "output_type": "error",
     "traceback": [
      "\u001b[1;31m---------------------------------------------------------------------------\u001b[0m",
      "\u001b[1;31mKeyError\u001b[0m                                  Traceback (most recent call last)",
      "\u001b[1;32m~\\anaconda3\\lib\\site-packages\\pandas\\core\\indexes\\base.py\u001b[0m in \u001b[0;36mget_loc\u001b[1;34m(self, key, method, tolerance)\u001b[0m\n\u001b[0;32m   3360\u001b[0m             \u001b[1;32mtry\u001b[0m\u001b[1;33m:\u001b[0m\u001b[1;33m\u001b[0m\u001b[1;33m\u001b[0m\u001b[0m\n\u001b[1;32m-> 3361\u001b[1;33m                 \u001b[1;32mreturn\u001b[0m \u001b[0mself\u001b[0m\u001b[1;33m.\u001b[0m\u001b[0m_engine\u001b[0m\u001b[1;33m.\u001b[0m\u001b[0mget_loc\u001b[0m\u001b[1;33m(\u001b[0m\u001b[0mcasted_key\u001b[0m\u001b[1;33m)\u001b[0m\u001b[1;33m\u001b[0m\u001b[1;33m\u001b[0m\u001b[0m\n\u001b[0m\u001b[0;32m   3362\u001b[0m             \u001b[1;32mexcept\u001b[0m \u001b[0mKeyError\u001b[0m \u001b[1;32mas\u001b[0m \u001b[0merr\u001b[0m\u001b[1;33m:\u001b[0m\u001b[1;33m\u001b[0m\u001b[1;33m\u001b[0m\u001b[0m\n",
      "\u001b[1;32m~\\anaconda3\\lib\\site-packages\\pandas\\_libs\\index.pyx\u001b[0m in \u001b[0;36mpandas._libs.index.IndexEngine.get_loc\u001b[1;34m()\u001b[0m\n",
      "\u001b[1;32m~\\anaconda3\\lib\\site-packages\\pandas\\_libs\\index.pyx\u001b[0m in \u001b[0;36mpandas._libs.index.IndexEngine.get_loc\u001b[1;34m()\u001b[0m\n",
      "\u001b[1;32mpandas\\_libs\\hashtable_class_helper.pxi\u001b[0m in \u001b[0;36mpandas._libs.hashtable.PyObjectHashTable.get_item\u001b[1;34m()\u001b[0m\n",
      "\u001b[1;32mpandas\\_libs\\hashtable_class_helper.pxi\u001b[0m in \u001b[0;36mpandas._libs.hashtable.PyObjectHashTable.get_item\u001b[1;34m()\u001b[0m\n",
      "\u001b[1;31mKeyError\u001b[0m: 'Ann'",
      "\nThe above exception was the direct cause of the following exception:\n",
      "\u001b[1;31mKeyError\u001b[0m                                  Traceback (most recent call last)",
      "\u001b[1;32m~\\AppData\\Local\\Temp/ipykernel_15948/1607741185.py\u001b[0m in \u001b[0;36m<module>\u001b[1;34m\u001b[0m\n\u001b[1;32m----> 1\u001b[1;33m \u001b[0mdf\u001b[0m\u001b[1;33m.\u001b[0m\u001b[0mat\u001b[0m\u001b[1;33m[\u001b[0m\u001b[1;34m'Limits'\u001b[0m\u001b[1;33m,\u001b[0m \u001b[1;34m'Ann'\u001b[0m\u001b[1;33m]\u001b[0m\u001b[1;33m\u001b[0m\u001b[1;33m\u001b[0m\u001b[0m\n\u001b[0m",
      "\u001b[1;32m~\\anaconda3\\lib\\site-packages\\pandas\\core\\indexing.py\u001b[0m in \u001b[0;36m__getitem__\u001b[1;34m(self, key)\u001b[0m\n\u001b[0;32m   2273\u001b[0m             \u001b[1;32mreturn\u001b[0m \u001b[0mself\u001b[0m\u001b[1;33m.\u001b[0m\u001b[0mobj\u001b[0m\u001b[1;33m.\u001b[0m\u001b[0mloc\u001b[0m\u001b[1;33m[\u001b[0m\u001b[0mkey\u001b[0m\u001b[1;33m]\u001b[0m\u001b[1;33m\u001b[0m\u001b[1;33m\u001b[0m\u001b[0m\n\u001b[0;32m   2274\u001b[0m \u001b[1;33m\u001b[0m\u001b[0m\n\u001b[1;32m-> 2275\u001b[1;33m         \u001b[1;32mreturn\u001b[0m \u001b[0msuper\u001b[0m\u001b[1;33m(\u001b[0m\u001b[1;33m)\u001b[0m\u001b[1;33m.\u001b[0m\u001b[0m__getitem__\u001b[0m\u001b[1;33m(\u001b[0m\u001b[0mkey\u001b[0m\u001b[1;33m)\u001b[0m\u001b[1;33m\u001b[0m\u001b[1;33m\u001b[0m\u001b[0m\n\u001b[0m\u001b[0;32m   2276\u001b[0m \u001b[1;33m\u001b[0m\u001b[0m\n\u001b[0;32m   2277\u001b[0m     \u001b[1;32mdef\u001b[0m \u001b[0m__setitem__\u001b[0m\u001b[1;33m(\u001b[0m\u001b[0mself\u001b[0m\u001b[1;33m,\u001b[0m \u001b[0mkey\u001b[0m\u001b[1;33m,\u001b[0m \u001b[0mvalue\u001b[0m\u001b[1;33m)\u001b[0m\u001b[1;33m:\u001b[0m\u001b[1;33m\u001b[0m\u001b[1;33m\u001b[0m\u001b[0m\n",
      "\u001b[1;32m~\\anaconda3\\lib\\site-packages\\pandas\\core\\indexing.py\u001b[0m in \u001b[0;36m__getitem__\u001b[1;34m(self, key)\u001b[0m\n\u001b[0;32m   2220\u001b[0m \u001b[1;33m\u001b[0m\u001b[0m\n\u001b[0;32m   2221\u001b[0m         \u001b[0mkey\u001b[0m \u001b[1;33m=\u001b[0m \u001b[0mself\u001b[0m\u001b[1;33m.\u001b[0m\u001b[0m_convert_key\u001b[0m\u001b[1;33m(\u001b[0m\u001b[0mkey\u001b[0m\u001b[1;33m)\u001b[0m\u001b[1;33m\u001b[0m\u001b[1;33m\u001b[0m\u001b[0m\n\u001b[1;32m-> 2222\u001b[1;33m         \u001b[1;32mreturn\u001b[0m \u001b[0mself\u001b[0m\u001b[1;33m.\u001b[0m\u001b[0mobj\u001b[0m\u001b[1;33m.\u001b[0m\u001b[0m_get_value\u001b[0m\u001b[1;33m(\u001b[0m\u001b[1;33m*\u001b[0m\u001b[0mkey\u001b[0m\u001b[1;33m,\u001b[0m \u001b[0mtakeable\u001b[0m\u001b[1;33m=\u001b[0m\u001b[0mself\u001b[0m\u001b[1;33m.\u001b[0m\u001b[0m_takeable\u001b[0m\u001b[1;33m)\u001b[0m\u001b[1;33m\u001b[0m\u001b[1;33m\u001b[0m\u001b[0m\n\u001b[0m\u001b[0;32m   2223\u001b[0m \u001b[1;33m\u001b[0m\u001b[0m\n\u001b[0;32m   2224\u001b[0m     \u001b[1;32mdef\u001b[0m \u001b[0m__setitem__\u001b[0m\u001b[1;33m(\u001b[0m\u001b[0mself\u001b[0m\u001b[1;33m,\u001b[0m \u001b[0mkey\u001b[0m\u001b[1;33m,\u001b[0m \u001b[0mvalue\u001b[0m\u001b[1;33m)\u001b[0m\u001b[1;33m:\u001b[0m\u001b[1;33m\u001b[0m\u001b[1;33m\u001b[0m\u001b[0m\n",
      "\u001b[1;32m~\\anaconda3\\lib\\site-packages\\pandas\\core\\frame.py\u001b[0m in \u001b[0;36m_get_value\u001b[1;34m(self, index, col, takeable)\u001b[0m\n\u001b[0;32m   3566\u001b[0m             \u001b[1;32mreturn\u001b[0m \u001b[0mseries\u001b[0m\u001b[1;33m.\u001b[0m\u001b[0m_values\u001b[0m\u001b[1;33m[\u001b[0m\u001b[0mindex\u001b[0m\u001b[1;33m]\u001b[0m\u001b[1;33m\u001b[0m\u001b[1;33m\u001b[0m\u001b[0m\n\u001b[0;32m   3567\u001b[0m \u001b[1;33m\u001b[0m\u001b[0m\n\u001b[1;32m-> 3568\u001b[1;33m         \u001b[0mseries\u001b[0m \u001b[1;33m=\u001b[0m \u001b[0mself\u001b[0m\u001b[1;33m.\u001b[0m\u001b[0m_get_item_cache\u001b[0m\u001b[1;33m(\u001b[0m\u001b[0mcol\u001b[0m\u001b[1;33m)\u001b[0m\u001b[1;33m\u001b[0m\u001b[1;33m\u001b[0m\u001b[0m\n\u001b[0m\u001b[0;32m   3569\u001b[0m         \u001b[0mengine\u001b[0m \u001b[1;33m=\u001b[0m \u001b[0mself\u001b[0m\u001b[1;33m.\u001b[0m\u001b[0mindex\u001b[0m\u001b[1;33m.\u001b[0m\u001b[0m_engine\u001b[0m\u001b[1;33m\u001b[0m\u001b[1;33m\u001b[0m\u001b[0m\n\u001b[0;32m   3570\u001b[0m \u001b[1;33m\u001b[0m\u001b[0m\n",
      "\u001b[1;32m~\\anaconda3\\lib\\site-packages\\pandas\\core\\frame.py\u001b[0m in \u001b[0;36m_get_item_cache\u001b[1;34m(self, item)\u001b[0m\n\u001b[0;32m   3882\u001b[0m             \u001b[1;31m#  pending resolution of GH#33047\u001b[0m\u001b[1;33m\u001b[0m\u001b[1;33m\u001b[0m\u001b[0m\n\u001b[0;32m   3883\u001b[0m \u001b[1;33m\u001b[0m\u001b[0m\n\u001b[1;32m-> 3884\u001b[1;33m             \u001b[0mloc\u001b[0m \u001b[1;33m=\u001b[0m \u001b[0mself\u001b[0m\u001b[1;33m.\u001b[0m\u001b[0mcolumns\u001b[0m\u001b[1;33m.\u001b[0m\u001b[0mget_loc\u001b[0m\u001b[1;33m(\u001b[0m\u001b[0mitem\u001b[0m\u001b[1;33m)\u001b[0m\u001b[1;33m\u001b[0m\u001b[1;33m\u001b[0m\u001b[0m\n\u001b[0m\u001b[0;32m   3885\u001b[0m             \u001b[0mvalues\u001b[0m \u001b[1;33m=\u001b[0m \u001b[0mself\u001b[0m\u001b[1;33m.\u001b[0m\u001b[0m_mgr\u001b[0m\u001b[1;33m.\u001b[0m\u001b[0miget\u001b[0m\u001b[1;33m(\u001b[0m\u001b[0mloc\u001b[0m\u001b[1;33m)\u001b[0m\u001b[1;33m\u001b[0m\u001b[1;33m\u001b[0m\u001b[0m\n\u001b[0;32m   3886\u001b[0m             \u001b[0mres\u001b[0m \u001b[1;33m=\u001b[0m \u001b[0mself\u001b[0m\u001b[1;33m.\u001b[0m\u001b[0m_box_col_values\u001b[0m\u001b[1;33m(\u001b[0m\u001b[0mvalues\u001b[0m\u001b[1;33m,\u001b[0m \u001b[0mloc\u001b[0m\u001b[1;33m)\u001b[0m\u001b[1;33m.\u001b[0m\u001b[0m__finalize__\u001b[0m\u001b[1;33m(\u001b[0m\u001b[0mself\u001b[0m\u001b[1;33m)\u001b[0m\u001b[1;33m\u001b[0m\u001b[1;33m\u001b[0m\u001b[0m\n",
      "\u001b[1;32m~\\anaconda3\\lib\\site-packages\\pandas\\core\\indexes\\base.py\u001b[0m in \u001b[0;36mget_loc\u001b[1;34m(self, key, method, tolerance)\u001b[0m\n\u001b[0;32m   3361\u001b[0m                 \u001b[1;32mreturn\u001b[0m \u001b[0mself\u001b[0m\u001b[1;33m.\u001b[0m\u001b[0m_engine\u001b[0m\u001b[1;33m.\u001b[0m\u001b[0mget_loc\u001b[0m\u001b[1;33m(\u001b[0m\u001b[0mcasted_key\u001b[0m\u001b[1;33m)\u001b[0m\u001b[1;33m\u001b[0m\u001b[1;33m\u001b[0m\u001b[0m\n\u001b[0;32m   3362\u001b[0m             \u001b[1;32mexcept\u001b[0m \u001b[0mKeyError\u001b[0m \u001b[1;32mas\u001b[0m \u001b[0merr\u001b[0m\u001b[1;33m:\u001b[0m\u001b[1;33m\u001b[0m\u001b[1;33m\u001b[0m\u001b[0m\n\u001b[1;32m-> 3363\u001b[1;33m                 \u001b[1;32mraise\u001b[0m \u001b[0mKeyError\u001b[0m\u001b[1;33m(\u001b[0m\u001b[0mkey\u001b[0m\u001b[1;33m)\u001b[0m \u001b[1;32mfrom\u001b[0m \u001b[0merr\u001b[0m\u001b[1;33m\u001b[0m\u001b[1;33m\u001b[0m\u001b[0m\n\u001b[0m\u001b[0;32m   3364\u001b[0m \u001b[1;33m\u001b[0m\u001b[0m\n\u001b[0;32m   3365\u001b[0m         \u001b[1;32mif\u001b[0m \u001b[0mis_scalar\u001b[0m\u001b[1;33m(\u001b[0m\u001b[0mkey\u001b[0m\u001b[1;33m)\u001b[0m \u001b[1;32mand\u001b[0m \u001b[0misna\u001b[0m\u001b[1;33m(\u001b[0m\u001b[0mkey\u001b[0m\u001b[1;33m)\u001b[0m \u001b[1;32mand\u001b[0m \u001b[1;32mnot\u001b[0m \u001b[0mself\u001b[0m\u001b[1;33m.\u001b[0m\u001b[0mhasnans\u001b[0m\u001b[1;33m:\u001b[0m\u001b[1;33m\u001b[0m\u001b[1;33m\u001b[0m\u001b[0m\n",
      "\u001b[1;31mKeyError\u001b[0m: 'Ann'"
     ]
    }
   ],
   "source": [
    "df.at['Limits', 'Ann']"
   ]
  },
  {
   "cell_type": "markdown",
   "metadata": {},
   "source": [
    "Что-то не сработало, хотя `Ann`, очевидно, присутствует в нашем датафрейме. Посмотрим поближе на список имён столбцов:"
   ]
  },
  {
   "cell_type": "code",
   "execution_count": 36,
   "metadata": {},
   "outputs": [
    {
     "data": {
      "text/plain": [
       "Index([' Ann', 'Bob', 'Claudia', 'Daniel'], dtype='object')"
      ]
     },
     "execution_count": 36,
     "metadata": {},
     "output_type": "execute_result"
    }
   ],
   "source": [
    "df.columns"
   ]
  },
  {
   "cell_type": "markdown",
   "metadata": {},
   "source": [
    "Вот в чём дело! Перед именем `Ann` вкрался лишний пробел. Это потому что CSV-файл сделан  руками и я решил, что так будет более красиво. Ну что же, давайте переименуем первый столбец, убрав оттуда пробел. Сделать это, напрямую манипулируя элементами `df.columns` не получится (там неизменяемый объект), но зато можно присвоить этой переменной новый список, в котором имя первого столбца будет правильным."
   ]
  },
  {
   "cell_type": "code",
   "execution_count": 37,
   "metadata": {},
   "outputs": [
    {
     "name": "stdout",
     "output_type": "stream",
     "text": [
      "[' Ann', 'Bob', 'Claudia', 'Daniel']\n",
      "['Ann', 'Bob', 'Claudia', 'Daniel']\n"
     ]
    }
   ],
   "source": [
    "my_columns = list(df.columns)\n",
    "print(my_columns)\n",
    "my_columns[0] = 'Ann'\n",
    "print(my_columns)"
   ]
  },
  {
   "cell_type": "code",
   "execution_count": 38,
   "metadata": {},
   "outputs": [],
   "source": [
    "df.columns = my_columns"
   ]
  },
  {
   "cell_type": "code",
   "execution_count": 39,
   "metadata": {},
   "outputs": [
    {
     "data": {
      "text/plain": [
       "Limits         1.0\n",
       "Derivatives    2.3\n",
       "Integrals      2.1\n",
       "Vectors        4.0\n",
       "Operators      6.0\n",
       "Name: Ann, dtype: float64"
      ]
     },
     "execution_count": 39,
     "metadata": {},
     "output_type": "execute_result"
    }
   ],
   "source": [
    "df['Ann']"
   ]
  },
  {
   "cell_type": "markdown",
   "metadata": {},
   "source": [
    "### Срезы"
   ]
  },
  {
   "cell_type": "markdown",
   "metadata": {},
   "source": [
    "Несмотря на то, что просто квадратные скобки (безо всяких `.loc` перед ними) позволяют обращаться к столбцам таблицы, те же самые квадратные скобки, используемые вместе со срезами, работают «по строчкам». Например, вот так можно получить вторую и третью строчки таблицы:"
   ]
  },
  {
   "cell_type": "code",
   "execution_count": 40,
   "metadata": {},
   "outputs": [
    {
     "data": {
      "text/html": [
       "<div>\n",
       "<style scoped>\n",
       "    .dataframe tbody tr th:only-of-type {\n",
       "        vertical-align: middle;\n",
       "    }\n",
       "\n",
       "    .dataframe tbody tr th {\n",
       "        vertical-align: top;\n",
       "    }\n",
       "\n",
       "    .dataframe thead th {\n",
       "        text-align: right;\n",
       "    }\n",
       "</style>\n",
       "<table border=\"1\" class=\"dataframe\">\n",
       "  <thead>\n",
       "    <tr style=\"text-align: right;\">\n",
       "      <th></th>\n",
       "      <th>Ann</th>\n",
       "      <th>Bob</th>\n",
       "      <th>Claudia</th>\n",
       "      <th>Daniel</th>\n",
       "    </tr>\n",
       "  </thead>\n",
       "  <tbody>\n",
       "    <tr>\n",
       "      <th>Derivatives</th>\n",
       "      <td>2.3</td>\n",
       "      <td>1.2</td>\n",
       "      <td>3.2</td>\n",
       "      <td>1.2</td>\n",
       "    </tr>\n",
       "    <tr>\n",
       "      <th>Integrals</th>\n",
       "      <td>2.1</td>\n",
       "      <td>2.3</td>\n",
       "      <td>2.3</td>\n",
       "      <td>2.2</td>\n",
       "    </tr>\n",
       "  </tbody>\n",
       "</table>\n",
       "</div>"
      ],
      "text/plain": [
       "             Ann  Bob  Claudia  Daniel\n",
       "Derivatives  2.3  1.2      3.2     1.2\n",
       "Integrals    2.1  2.3      2.3     2.2"
      ]
     },
     "execution_count": 40,
     "metadata": {},
     "output_type": "execute_result"
    }
   ],
   "source": [
    "df[1:3]"
   ]
  },
  {
   "cell_type": "markdown",
   "metadata": {},
   "source": [
    "Срезы можно делать не только по номерам строк, но и по их именам:"
   ]
  },
  {
   "cell_type": "code",
   "execution_count": 41,
   "metadata": {},
   "outputs": [
    {
     "data": {
      "text/html": [
       "<div>\n",
       "<style scoped>\n",
       "    .dataframe tbody tr th:only-of-type {\n",
       "        vertical-align: middle;\n",
       "    }\n",
       "\n",
       "    .dataframe tbody tr th {\n",
       "        vertical-align: top;\n",
       "    }\n",
       "\n",
       "    .dataframe thead th {\n",
       "        text-align: right;\n",
       "    }\n",
       "</style>\n",
       "<table border=\"1\" class=\"dataframe\">\n",
       "  <thead>\n",
       "    <tr style=\"text-align: right;\">\n",
       "      <th></th>\n",
       "      <th>Ann</th>\n",
       "      <th>Bob</th>\n",
       "      <th>Claudia</th>\n",
       "      <th>Daniel</th>\n",
       "    </tr>\n",
       "  </thead>\n",
       "  <tbody>\n",
       "    <tr>\n",
       "      <th>Limits</th>\n",
       "      <td>1.0</td>\n",
       "      <td>2.0</td>\n",
       "      <td>3.0</td>\n",
       "      <td>2.0</td>\n",
       "    </tr>\n",
       "    <tr>\n",
       "      <th>Derivatives</th>\n",
       "      <td>2.3</td>\n",
       "      <td>1.2</td>\n",
       "      <td>3.2</td>\n",
       "      <td>1.2</td>\n",
       "    </tr>\n",
       "    <tr>\n",
       "      <th>Integrals</th>\n",
       "      <td>2.1</td>\n",
       "      <td>2.3</td>\n",
       "      <td>2.3</td>\n",
       "      <td>2.2</td>\n",
       "    </tr>\n",
       "    <tr>\n",
       "      <th>Vectors</th>\n",
       "      <td>4.0</td>\n",
       "      <td>2.5</td>\n",
       "      <td>2.4</td>\n",
       "      <td>1.2</td>\n",
       "    </tr>\n",
       "  </tbody>\n",
       "</table>\n",
       "</div>"
      ],
      "text/plain": [
       "             Ann  Bob  Claudia  Daniel\n",
       "Limits       1.0  2.0      3.0     2.0\n",
       "Derivatives  2.3  1.2      3.2     1.2\n",
       "Integrals    2.1  2.3      2.3     2.2\n",
       "Vectors      4.0  2.5      2.4     1.2"
      ]
     },
     "execution_count": 41,
     "metadata": {},
     "output_type": "execute_result"
    }
   ],
   "source": [
    "df['Limits':'Vectors']"
   ]
  },
  {
   "cell_type": "markdown",
   "metadata": {},
   "source": [
    "Важная разница состоит в том, что теперь срез *включает* последний элемент (в отличие от всего, что вы знали раньше о срезах). Срезы с номерами строк ведут себя как обычно (последний элемент не включается):"
   ]
  },
  {
   "cell_type": "code",
   "execution_count": 42,
   "metadata": {},
   "outputs": [
    {
     "data": {
      "text/html": [
       "<div>\n",
       "<style scoped>\n",
       "    .dataframe tbody tr th:only-of-type {\n",
       "        vertical-align: middle;\n",
       "    }\n",
       "\n",
       "    .dataframe tbody tr th {\n",
       "        vertical-align: top;\n",
       "    }\n",
       "\n",
       "    .dataframe thead th {\n",
       "        text-align: right;\n",
       "    }\n",
       "</style>\n",
       "<table border=\"1\" class=\"dataframe\">\n",
       "  <thead>\n",
       "    <tr style=\"text-align: right;\">\n",
       "      <th></th>\n",
       "      <th>Ann</th>\n",
       "      <th>Bob</th>\n",
       "      <th>Claudia</th>\n",
       "      <th>Daniel</th>\n",
       "    </tr>\n",
       "  </thead>\n",
       "  <tbody>\n",
       "    <tr>\n",
       "      <th>Limits</th>\n",
       "      <td>1.0</td>\n",
       "      <td>2.0</td>\n",
       "      <td>3.0</td>\n",
       "      <td>2.0</td>\n",
       "    </tr>\n",
       "  </tbody>\n",
       "</table>\n",
       "</div>"
      ],
      "text/plain": [
       "        Ann  Bob  Claudia  Daniel\n",
       "Limits  1.0  2.0      3.0     2.0"
      ]
     },
     "execution_count": 42,
     "metadata": {},
     "output_type": "execute_result"
    }
   ],
   "source": [
    "df[0:1]"
   ]
  },
  {
   "cell_type": "markdown",
   "metadata": {},
   "source": [
    "Ещё можно обратиться к столбцу по его имени вот так:"
   ]
  },
  {
   "cell_type": "code",
   "execution_count": 43,
   "metadata": {},
   "outputs": [
    {
     "data": {
      "text/plain": [
       "Limits         1.0\n",
       "Derivatives    2.3\n",
       "Integrals      2.1\n",
       "Vectors        4.0\n",
       "Operators      6.0\n",
       "Name: Ann, dtype: float64"
      ]
     },
     "execution_count": 43,
     "metadata": {},
     "output_type": "execute_result"
    }
   ],
   "source": [
    "df.Ann"
   ]
  },
  {
   "cell_type": "markdown",
   "metadata": {},
   "source": [
    "Но это не самый безопасный способ. Во-первых, чтобы он сработал, имя столбца должно быть валидным идентификатором Python (то есть таким словом, каким можно назвать переменную), а это не всегда верно — например, в имени столбца могут встречаться пробелы, и в этом случае способ обращения через точку не сработает. Во-вторых, использовать такое обращение при присваивании небезопасно. Например, редактирование конкретной ячейки в уже созданном столбце сработает:"
   ]
  },
  {
   "cell_type": "code",
   "execution_count": 45,
   "metadata": {},
   "outputs": [],
   "source": [
    "df.Ann['Limits'] = 2.0 # Ann пересдала домашку по пределам"
   ]
  },
  {
   "cell_type": "code",
   "execution_count": 46,
   "metadata": {},
   "outputs": [
    {
     "data": {
      "text/html": [
       "<div>\n",
       "<style scoped>\n",
       "    .dataframe tbody tr th:only-of-type {\n",
       "        vertical-align: middle;\n",
       "    }\n",
       "\n",
       "    .dataframe tbody tr th {\n",
       "        vertical-align: top;\n",
       "    }\n",
       "\n",
       "    .dataframe thead th {\n",
       "        text-align: right;\n",
       "    }\n",
       "</style>\n",
       "<table border=\"1\" class=\"dataframe\">\n",
       "  <thead>\n",
       "    <tr style=\"text-align: right;\">\n",
       "      <th></th>\n",
       "      <th>Ann</th>\n",
       "      <th>Bob</th>\n",
       "      <th>Claudia</th>\n",
       "      <th>Daniel</th>\n",
       "    </tr>\n",
       "  </thead>\n",
       "  <tbody>\n",
       "    <tr>\n",
       "      <th>Limits</th>\n",
       "      <td>2.0</td>\n",
       "      <td>2.0</td>\n",
       "      <td>3.0</td>\n",
       "      <td>2.0</td>\n",
       "    </tr>\n",
       "    <tr>\n",
       "      <th>Derivatives</th>\n",
       "      <td>2.3</td>\n",
       "      <td>1.2</td>\n",
       "      <td>3.2</td>\n",
       "      <td>1.2</td>\n",
       "    </tr>\n",
       "    <tr>\n",
       "      <th>Integrals</th>\n",
       "      <td>2.1</td>\n",
       "      <td>2.3</td>\n",
       "      <td>2.3</td>\n",
       "      <td>2.2</td>\n",
       "    </tr>\n",
       "    <tr>\n",
       "      <th>Vectors</th>\n",
       "      <td>4.0</td>\n",
       "      <td>2.5</td>\n",
       "      <td>2.4</td>\n",
       "      <td>1.2</td>\n",
       "    </tr>\n",
       "    <tr>\n",
       "      <th>Operators</th>\n",
       "      <td>6.0</td>\n",
       "      <td>5.0</td>\n",
       "      <td>4.0</td>\n",
       "      <td>5.0</td>\n",
       "    </tr>\n",
       "  </tbody>\n",
       "</table>\n",
       "</div>"
      ],
      "text/plain": [
       "             Ann  Bob  Claudia  Daniel\n",
       "Limits       2.0  2.0      3.0     2.0\n",
       "Derivatives  2.3  1.2      3.2     1.2\n",
       "Integrals    2.1  2.3      2.3     2.2\n",
       "Vectors      4.0  2.5      2.4     1.2\n",
       "Operators    6.0  5.0      4.0     5.0"
      ]
     },
     "execution_count": 46,
     "metadata": {},
     "output_type": "execute_result"
    }
   ],
   "source": [
    "df"
   ]
  },
  {
   "cell_type": "markdown",
   "metadata": {},
   "source": [
    "А создание нового столбца таким образом не сработает:"
   ]
  },
  {
   "cell_type": "code",
   "execution_count": 47,
   "metadata": {},
   "outputs": [
    {
     "name": "stderr",
     "output_type": "stream",
     "text": [
      "C:\\Users\\User\\AppData\\Local\\Temp/ipykernel_15948/383793524.py:1: UserWarning: Pandas doesn't allow columns to be created via a new attribute name - see https://pandas.pydata.org/pandas-docs/stable/indexing.html#attribute-access\n",
      "  df.Julia = [1, 2, 3, 4, 5]\n"
     ]
    }
   ],
   "source": [
    "df.Julia = [1, 2, 3, 4, 5]"
   ]
  },
  {
   "cell_type": "code",
   "execution_count": 48,
   "metadata": {},
   "outputs": [
    {
     "data": {
      "text/html": [
       "<div>\n",
       "<style scoped>\n",
       "    .dataframe tbody tr th:only-of-type {\n",
       "        vertical-align: middle;\n",
       "    }\n",
       "\n",
       "    .dataframe tbody tr th {\n",
       "        vertical-align: top;\n",
       "    }\n",
       "\n",
       "    .dataframe thead th {\n",
       "        text-align: right;\n",
       "    }\n",
       "</style>\n",
       "<table border=\"1\" class=\"dataframe\">\n",
       "  <thead>\n",
       "    <tr style=\"text-align: right;\">\n",
       "      <th></th>\n",
       "      <th>Ann</th>\n",
       "      <th>Bob</th>\n",
       "      <th>Claudia</th>\n",
       "      <th>Daniel</th>\n",
       "    </tr>\n",
       "  </thead>\n",
       "  <tbody>\n",
       "    <tr>\n",
       "      <th>Limits</th>\n",
       "      <td>2.0</td>\n",
       "      <td>2.0</td>\n",
       "      <td>3.0</td>\n",
       "      <td>2.0</td>\n",
       "    </tr>\n",
       "    <tr>\n",
       "      <th>Derivatives</th>\n",
       "      <td>2.3</td>\n",
       "      <td>1.2</td>\n",
       "      <td>3.2</td>\n",
       "      <td>1.2</td>\n",
       "    </tr>\n",
       "    <tr>\n",
       "      <th>Integrals</th>\n",
       "      <td>2.1</td>\n",
       "      <td>2.3</td>\n",
       "      <td>2.3</td>\n",
       "      <td>2.2</td>\n",
       "    </tr>\n",
       "    <tr>\n",
       "      <th>Vectors</th>\n",
       "      <td>4.0</td>\n",
       "      <td>2.5</td>\n",
       "      <td>2.4</td>\n",
       "      <td>1.2</td>\n",
       "    </tr>\n",
       "    <tr>\n",
       "      <th>Operators</th>\n",
       "      <td>6.0</td>\n",
       "      <td>5.0</td>\n",
       "      <td>4.0</td>\n",
       "      <td>5.0</td>\n",
       "    </tr>\n",
       "  </tbody>\n",
       "</table>\n",
       "</div>"
      ],
      "text/plain": [
       "             Ann  Bob  Claudia  Daniel\n",
       "Limits       2.0  2.0      3.0     2.0\n",
       "Derivatives  2.3  1.2      3.2     1.2\n",
       "Integrals    2.1  2.3      2.3     2.2\n",
       "Vectors      4.0  2.5      2.4     1.2\n",
       "Operators    6.0  5.0      4.0     5.0"
      ]
     },
     "execution_count": 48,
     "metadata": {},
     "output_type": "execute_result"
    }
   ],
   "source": [
    "df"
   ]
  },
  {
   "cell_type": "markdown",
   "metadata": {},
   "source": [
    "Если бы мы хотели добавить новый столбец, нужно было бы использовать синтаксис с квадратными скобками:"
   ]
  },
  {
   "cell_type": "code",
   "execution_count": 49,
   "metadata": {},
   "outputs": [],
   "source": [
    "df['Julia'] = [1, 2, 3, 4, 5]"
   ]
  },
  {
   "cell_type": "code",
   "execution_count": 50,
   "metadata": {},
   "outputs": [
    {
     "data": {
      "text/html": [
       "<div>\n",
       "<style scoped>\n",
       "    .dataframe tbody tr th:only-of-type {\n",
       "        vertical-align: middle;\n",
       "    }\n",
       "\n",
       "    .dataframe tbody tr th {\n",
       "        vertical-align: top;\n",
       "    }\n",
       "\n",
       "    .dataframe thead th {\n",
       "        text-align: right;\n",
       "    }\n",
       "</style>\n",
       "<table border=\"1\" class=\"dataframe\">\n",
       "  <thead>\n",
       "    <tr style=\"text-align: right;\">\n",
       "      <th></th>\n",
       "      <th>Ann</th>\n",
       "      <th>Bob</th>\n",
       "      <th>Claudia</th>\n",
       "      <th>Daniel</th>\n",
       "      <th>Julia</th>\n",
       "    </tr>\n",
       "  </thead>\n",
       "  <tbody>\n",
       "    <tr>\n",
       "      <th>Limits</th>\n",
       "      <td>2.0</td>\n",
       "      <td>2.0</td>\n",
       "      <td>3.0</td>\n",
       "      <td>2.0</td>\n",
       "      <td>1</td>\n",
       "    </tr>\n",
       "    <tr>\n",
       "      <th>Derivatives</th>\n",
       "      <td>2.3</td>\n",
       "      <td>1.2</td>\n",
       "      <td>3.2</td>\n",
       "      <td>1.2</td>\n",
       "      <td>2</td>\n",
       "    </tr>\n",
       "    <tr>\n",
       "      <th>Integrals</th>\n",
       "      <td>2.1</td>\n",
       "      <td>2.3</td>\n",
       "      <td>2.3</td>\n",
       "      <td>2.2</td>\n",
       "      <td>3</td>\n",
       "    </tr>\n",
       "    <tr>\n",
       "      <th>Vectors</th>\n",
       "      <td>4.0</td>\n",
       "      <td>2.5</td>\n",
       "      <td>2.4</td>\n",
       "      <td>1.2</td>\n",
       "      <td>4</td>\n",
       "    </tr>\n",
       "    <tr>\n",
       "      <th>Operators</th>\n",
       "      <td>6.0</td>\n",
       "      <td>5.0</td>\n",
       "      <td>4.0</td>\n",
       "      <td>5.0</td>\n",
       "      <td>5</td>\n",
       "    </tr>\n",
       "  </tbody>\n",
       "</table>\n",
       "</div>"
      ],
      "text/plain": [
       "             Ann  Bob  Claudia  Daniel  Julia\n",
       "Limits       2.0  2.0      3.0     2.0      1\n",
       "Derivatives  2.3  1.2      3.2     1.2      2\n",
       "Integrals    2.1  2.3      2.3     2.2      3\n",
       "Vectors      4.0  2.5      2.4     1.2      4\n",
       "Operators    6.0  5.0      4.0     5.0      5"
      ]
     },
     "execution_count": 50,
     "metadata": {},
     "output_type": "execute_result"
    }
   ],
   "source": [
    "df"
   ]
  },
  {
   "cell_type": "markdown",
   "metadata": {},
   "source": [
    "### Ещё о способах обращения к элементам датафреймов"
   ]
  },
  {
   "cell_type": "markdown",
   "metadata": {},
   "source": [
    "Как мы уже видели выше, есть несколько способов обращаться к элементам датафрейма. Во-первых, просто квадратные скобки. Если передать им один элемент, то вернётся столбец с соответствующим именем. Кстати, если передать список из нескольких элементов, то вернётся датафрейм с соответствующими столбцами:"
   ]
  },
  {
   "cell_type": "code",
   "execution_count": 51,
   "metadata": {},
   "outputs": [
    {
     "data": {
      "text/html": [
       "<div>\n",
       "<style scoped>\n",
       "    .dataframe tbody tr th:only-of-type {\n",
       "        vertical-align: middle;\n",
       "    }\n",
       "\n",
       "    .dataframe tbody tr th {\n",
       "        vertical-align: top;\n",
       "    }\n",
       "\n",
       "    .dataframe thead th {\n",
       "        text-align: right;\n",
       "    }\n",
       "</style>\n",
       "<table border=\"1\" class=\"dataframe\">\n",
       "  <thead>\n",
       "    <tr style=\"text-align: right;\">\n",
       "      <th></th>\n",
       "      <th>Ann</th>\n",
       "      <th>Bob</th>\n",
       "    </tr>\n",
       "  </thead>\n",
       "  <tbody>\n",
       "    <tr>\n",
       "      <th>Limits</th>\n",
       "      <td>2.0</td>\n",
       "      <td>2.0</td>\n",
       "    </tr>\n",
       "    <tr>\n",
       "      <th>Derivatives</th>\n",
       "      <td>2.3</td>\n",
       "      <td>1.2</td>\n",
       "    </tr>\n",
       "    <tr>\n",
       "      <th>Integrals</th>\n",
       "      <td>2.1</td>\n",
       "      <td>2.3</td>\n",
       "    </tr>\n",
       "    <tr>\n",
       "      <th>Vectors</th>\n",
       "      <td>4.0</td>\n",
       "      <td>2.5</td>\n",
       "    </tr>\n",
       "    <tr>\n",
       "      <th>Operators</th>\n",
       "      <td>6.0</td>\n",
       "      <td>5.0</td>\n",
       "    </tr>\n",
       "  </tbody>\n",
       "</table>\n",
       "</div>"
      ],
      "text/plain": [
       "             Ann  Bob\n",
       "Limits       2.0  2.0\n",
       "Derivatives  2.3  1.2\n",
       "Integrals    2.1  2.3\n",
       "Vectors      4.0  2.5\n",
       "Operators    6.0  5.0"
      ]
     },
     "execution_count": 51,
     "metadata": {},
     "output_type": "execute_result"
    }
   ],
   "source": [
    "df[['Ann', 'Bob']]"
   ]
  },
  {
   "cell_type": "markdown",
   "metadata": {},
   "source": [
    "А если передать срез (что-то через двоеточие), то вернётся датафрейм с соответствующими строчками. (Это всё не так-то просто запомнить, увы.)\n",
    "\n",
    "#### `loc[]`\n",
    "Второй способ — это метод `loc`. Его надо вызывать также с квадратными скобками, передавая имена. Если передать одно имя, то оно рассматривается как имя строки, а если два, то возвращается ячейка с соответствующей строкой и столбцом:"
   ]
  },
  {
   "cell_type": "code",
   "execution_count": 52,
   "metadata": {},
   "outputs": [
    {
     "data": {
      "text/plain": [
       "Ann        2.0\n",
       "Bob        2.0\n",
       "Claudia    3.0\n",
       "Daniel     2.0\n",
       "Julia      1.0\n",
       "Name: Limits, dtype: float64"
      ]
     },
     "execution_count": 52,
     "metadata": {},
     "output_type": "execute_result"
    }
   ],
   "source": [
    "df.loc['Limits']"
   ]
  },
  {
   "cell_type": "code",
   "execution_count": 53,
   "metadata": {},
   "outputs": [
    {
     "data": {
      "text/plain": [
       "2.0"
      ]
     },
     "execution_count": 53,
     "metadata": {},
     "output_type": "execute_result"
    }
   ],
   "source": [
    "df.loc['Limits', 'Ann']"
   ]
  },
  {
   "cell_type": "markdown",
   "metadata": {},
   "source": [
    "А вот так можно с помощью `loc[]` получить столбец:"
   ]
  },
  {
   "cell_type": "code",
   "execution_count": 54,
   "metadata": {},
   "outputs": [
    {
     "data": {
      "text/plain": [
       "Limits         2.0\n",
       "Derivatives    2.3\n",
       "Integrals      2.1\n",
       "Vectors        4.0\n",
       "Operators      6.0\n",
       "Name: Ann, dtype: float64"
      ]
     },
     "execution_count": 54,
     "metadata": {},
     "output_type": "execute_result"
    }
   ],
   "source": [
    "df.loc[:, 'Ann']"
   ]
  },
  {
   "cell_type": "markdown",
   "metadata": {},
   "source": [
    "Здесь в качестве первого аргумента передаётся «тривиальный срез», то есть такой срез, у которого начало совпадает с началом всего массива, а конец с концом всего. Аналогично было со списками, если помните:"
   ]
  },
  {
   "cell_type": "code",
   "execution_count": 55,
   "metadata": {},
   "outputs": [],
   "source": [
    "my_list = [4, 3, 2, 1]"
   ]
  },
  {
   "cell_type": "code",
   "execution_count": 56,
   "metadata": {},
   "outputs": [
    {
     "data": {
      "text/plain": [
       "[4, 3, 2, 1]"
      ]
     },
     "execution_count": 56,
     "metadata": {},
     "output_type": "execute_result"
    }
   ],
   "source": [
    "other_list = my_list[:]\n",
    "other_list"
   ]
  },
  {
   "cell_type": "markdown",
   "metadata": {},
   "source": [
    "#### `iloc[]` \n",
    "Метод `loc[]` работает с именами строк и столбцов, а если вы хотите использовать их номера, то вам нужен метод `iloc[]`. Работает он примерно так:"
   ]
  },
  {
   "cell_type": "code",
   "execution_count": 57,
   "metadata": {},
   "outputs": [
    {
     "data": {
      "text/plain": [
       "Ann        2.3\n",
       "Bob        1.2\n",
       "Claudia    3.2\n",
       "Daniel     1.2\n",
       "Julia      2.0\n",
       "Name: Derivatives, dtype: float64"
      ]
     },
     "execution_count": 57,
     "metadata": {},
     "output_type": "execute_result"
    }
   ],
   "source": [
    "df.iloc[1] # вторая строка"
   ]
  },
  {
   "cell_type": "code",
   "execution_count": 58,
   "metadata": {},
   "outputs": [
    {
     "data": {
      "text/plain": [
       "Limits         3.0\n",
       "Derivatives    3.2\n",
       "Integrals      2.3\n",
       "Vectors        2.4\n",
       "Operators      4.0\n",
       "Name: Claudia, dtype: float64"
      ]
     },
     "execution_count": 58,
     "metadata": {},
     "output_type": "execute_result"
    }
   ],
   "source": [
    "df.iloc[:, 2] # третий столбец"
   ]
  },
  {
   "cell_type": "code",
   "execution_count": 60,
   "metadata": {},
   "outputs": [
    {
     "data": {
      "text/plain": [
       "3.2"
      ]
     },
     "execution_count": 60,
     "metadata": {},
     "output_type": "execute_result"
    }
   ],
   "source": [
    "df.iloc[1, 2] # ячейка во второй строке, третьем столбце"
   ]
  },
  {
   "cell_type": "markdown",
   "metadata": {},
   "source": [
    "#### `at[]` и `iat[]`\n",
    "Обычные квадратные скобки, а также методы `loc[]` и `iloc[]` должны обрабатывать разные случаи, связанные со срезами и т.д. Это делает их медленными. Если вы хотите обратиться к конкретной ячейке, можете использовать для этого методы `at[]` или `iat[]`."
   ]
  },
  {
   "cell_type": "code",
   "execution_count": 61,
   "metadata": {},
   "outputs": [
    {
     "data": {
      "text/plain": [
       "2.3"
      ]
     },
     "execution_count": 61,
     "metadata": {},
     "output_type": "execute_result"
    }
   ],
   "source": [
    "df.at['Derivatives', 'Ann']"
   ]
  },
  {
   "cell_type": "code",
   "execution_count": 62,
   "metadata": {},
   "outputs": [
    {
     "data": {
      "text/plain": [
       "3.2"
      ]
     },
     "execution_count": 62,
     "metadata": {},
     "output_type": "execute_result"
    }
   ],
   "source": [
    "df.iat[1, 2]"
   ]
  },
  {
   "cell_type": "markdown",
   "metadata": {},
   "source": [
    "### Выбор по условию"
   ]
  },
  {
   "cell_type": "markdown",
   "metadata": {},
   "source": [
    "Предположим, что нам нужно получить все строки, соответствующие домашкам, по которым *Ann* получила оценку выше тройки. Это делается так:"
   ]
  },
  {
   "cell_type": "code",
   "execution_count": 63,
   "metadata": {},
   "outputs": [
    {
     "data": {
      "text/html": [
       "<div>\n",
       "<style scoped>\n",
       "    .dataframe tbody tr th:only-of-type {\n",
       "        vertical-align: middle;\n",
       "    }\n",
       "\n",
       "    .dataframe tbody tr th {\n",
       "        vertical-align: top;\n",
       "    }\n",
       "\n",
       "    .dataframe thead th {\n",
       "        text-align: right;\n",
       "    }\n",
       "</style>\n",
       "<table border=\"1\" class=\"dataframe\">\n",
       "  <thead>\n",
       "    <tr style=\"text-align: right;\">\n",
       "      <th></th>\n",
       "      <th>Ann</th>\n",
       "      <th>Bob</th>\n",
       "      <th>Claudia</th>\n",
       "      <th>Daniel</th>\n",
       "      <th>Julia</th>\n",
       "    </tr>\n",
       "  </thead>\n",
       "  <tbody>\n",
       "    <tr>\n",
       "      <th>Vectors</th>\n",
       "      <td>4.0</td>\n",
       "      <td>2.5</td>\n",
       "      <td>2.4</td>\n",
       "      <td>1.2</td>\n",
       "      <td>4</td>\n",
       "    </tr>\n",
       "    <tr>\n",
       "      <th>Operators</th>\n",
       "      <td>6.0</td>\n",
       "      <td>5.0</td>\n",
       "      <td>4.0</td>\n",
       "      <td>5.0</td>\n",
       "      <td>5</td>\n",
       "    </tr>\n",
       "  </tbody>\n",
       "</table>\n",
       "</div>"
      ],
      "text/plain": [
       "           Ann  Bob  Claudia  Daniel  Julia\n",
       "Vectors    4.0  2.5      2.4     1.2      4\n",
       "Operators  6.0  5.0      4.0     5.0      5"
      ]
     },
     "execution_count": 63,
     "metadata": {},
     "output_type": "execute_result"
    }
   ],
   "source": [
    "df[df['Ann']>3]"
   ]
  },
  {
   "cell_type": "markdown",
   "metadata": {},
   "source": [
    "Этот синтаксис работает примерно так же, как аналогичный синтаксис в `np.array`. Результатом сравнения `df['Ann']` с числом 3 является массив (точкее, `pd.Series`), содержащий булевские элементы, являющиеся результатами попарного сравнения элементов `df['Ann']` с числом 3:"
   ]
  },
  {
   "cell_type": "code",
   "execution_count": 64,
   "metadata": {},
   "outputs": [
    {
     "data": {
      "text/plain": [
       "Limits         False\n",
       "Derivatives    False\n",
       "Integrals      False\n",
       "Vectors         True\n",
       "Operators       True\n",
       "Name: Ann, dtype: bool"
      ]
     },
     "execution_count": 64,
     "metadata": {},
     "output_type": "execute_result"
    }
   ],
   "source": [
    "df['Ann']>3"
   ]
  },
  {
   "cell_type": "markdown",
   "metadata": {},
   "source": [
    "Если передать такой объект квадратным скобкам, то они выберут те элементы, напротив которых стоит `True`.\n",
    "\n",
    "Аналогично можно выбрать столбцы по условию, с помощью `loc`."
   ]
  },
  {
   "cell_type": "code",
   "execution_count": 65,
   "metadata": {},
   "outputs": [
    {
     "data": {
      "text/html": [
       "<div>\n",
       "<style scoped>\n",
       "    .dataframe tbody tr th:only-of-type {\n",
       "        vertical-align: middle;\n",
       "    }\n",
       "\n",
       "    .dataframe tbody tr th {\n",
       "        vertical-align: top;\n",
       "    }\n",
       "\n",
       "    .dataframe thead th {\n",
       "        text-align: right;\n",
       "    }\n",
       "</style>\n",
       "<table border=\"1\" class=\"dataframe\">\n",
       "  <thead>\n",
       "    <tr style=\"text-align: right;\">\n",
       "      <th></th>\n",
       "      <th>Ann</th>\n",
       "      <th>Claudia</th>\n",
       "    </tr>\n",
       "  </thead>\n",
       "  <tbody>\n",
       "    <tr>\n",
       "      <th>Limits</th>\n",
       "      <td>2.0</td>\n",
       "      <td>3.0</td>\n",
       "    </tr>\n",
       "    <tr>\n",
       "      <th>Derivatives</th>\n",
       "      <td>2.3</td>\n",
       "      <td>3.2</td>\n",
       "    </tr>\n",
       "    <tr>\n",
       "      <th>Integrals</th>\n",
       "      <td>2.1</td>\n",
       "      <td>2.3</td>\n",
       "    </tr>\n",
       "    <tr>\n",
       "      <th>Vectors</th>\n",
       "      <td>4.0</td>\n",
       "      <td>2.4</td>\n",
       "    </tr>\n",
       "    <tr>\n",
       "      <th>Operators</th>\n",
       "      <td>6.0</td>\n",
       "      <td>4.0</td>\n",
       "    </tr>\n",
       "  </tbody>\n",
       "</table>\n",
       "</div>"
      ],
      "text/plain": [
       "             Ann  Claudia\n",
       "Limits       2.0      3.0\n",
       "Derivatives  2.3      3.2\n",
       "Integrals    2.1      2.3\n",
       "Vectors      4.0      2.4\n",
       "Operators    6.0      4.0"
      ]
     },
     "execution_count": 65,
     "metadata": {},
     "output_type": "execute_result"
    }
   ],
   "source": [
    "df.loc[:, df.loc['Derivatives']>2] \n",
    "# выбрать все столбцы, у которых в строке `Derivatives` оценка больше двух"
   ]
  },
  {
   "cell_type": "markdown",
   "metadata": {},
   "source": [
    "### Операции со строками и столбцами\n",
    "Допустим, мы хотим посчитать среднюю успеваемость каждого студента. Нет проблем:"
   ]
  },
  {
   "cell_type": "code",
   "execution_count": 66,
   "metadata": {},
   "outputs": [
    {
     "data": {
      "text/plain": [
       "Ann        3.28\n",
       "Bob        2.60\n",
       "Claudia    2.98\n",
       "Daniel     2.32\n",
       "Julia      3.00\n",
       "dtype: float64"
      ]
     },
     "execution_count": 66,
     "metadata": {},
     "output_type": "execute_result"
    }
   ],
   "source": [
    "df.mean()"
   ]
  },
  {
   "cell_type": "markdown",
   "metadata": {},
   "source": [
    "А может быть нас интересует средняя решаемость домашек? Можно предложить два способа её посчитать. Во-первых, можно транспонировать нашу табличку, записав строки по столбцам, и применить к ней тот же метод `mean()`. "
   ]
  },
  {
   "cell_type": "code",
   "execution_count": 67,
   "metadata": {},
   "outputs": [
    {
     "data": {
      "text/html": [
       "<div>\n",
       "<style scoped>\n",
       "    .dataframe tbody tr th:only-of-type {\n",
       "        vertical-align: middle;\n",
       "    }\n",
       "\n",
       "    .dataframe tbody tr th {\n",
       "        vertical-align: top;\n",
       "    }\n",
       "\n",
       "    .dataframe thead th {\n",
       "        text-align: right;\n",
       "    }\n",
       "</style>\n",
       "<table border=\"1\" class=\"dataframe\">\n",
       "  <thead>\n",
       "    <tr style=\"text-align: right;\">\n",
       "      <th></th>\n",
       "      <th>Limits</th>\n",
       "      <th>Derivatives</th>\n",
       "      <th>Integrals</th>\n",
       "      <th>Vectors</th>\n",
       "      <th>Operators</th>\n",
       "    </tr>\n",
       "  </thead>\n",
       "  <tbody>\n",
       "    <tr>\n",
       "      <th>Ann</th>\n",
       "      <td>2.0</td>\n",
       "      <td>2.3</td>\n",
       "      <td>2.1</td>\n",
       "      <td>4.0</td>\n",
       "      <td>6.0</td>\n",
       "    </tr>\n",
       "    <tr>\n",
       "      <th>Bob</th>\n",
       "      <td>2.0</td>\n",
       "      <td>1.2</td>\n",
       "      <td>2.3</td>\n",
       "      <td>2.5</td>\n",
       "      <td>5.0</td>\n",
       "    </tr>\n",
       "    <tr>\n",
       "      <th>Claudia</th>\n",
       "      <td>3.0</td>\n",
       "      <td>3.2</td>\n",
       "      <td>2.3</td>\n",
       "      <td>2.4</td>\n",
       "      <td>4.0</td>\n",
       "    </tr>\n",
       "    <tr>\n",
       "      <th>Daniel</th>\n",
       "      <td>2.0</td>\n",
       "      <td>1.2</td>\n",
       "      <td>2.2</td>\n",
       "      <td>1.2</td>\n",
       "      <td>5.0</td>\n",
       "    </tr>\n",
       "    <tr>\n",
       "      <th>Julia</th>\n",
       "      <td>1.0</td>\n",
       "      <td>2.0</td>\n",
       "      <td>3.0</td>\n",
       "      <td>4.0</td>\n",
       "      <td>5.0</td>\n",
       "    </tr>\n",
       "  </tbody>\n",
       "</table>\n",
       "</div>"
      ],
      "text/plain": [
       "         Limits  Derivatives  Integrals  Vectors  Operators\n",
       "Ann         2.0          2.3        2.1      4.0        6.0\n",
       "Bob         2.0          1.2        2.3      2.5        5.0\n",
       "Claudia     3.0          3.2        2.3      2.4        4.0\n",
       "Daniel      2.0          1.2        2.2      1.2        5.0\n",
       "Julia       1.0          2.0        3.0      4.0        5.0"
      ]
     },
     "execution_count": 67,
     "metadata": {},
     "output_type": "execute_result"
    }
   ],
   "source": [
    "df.T"
   ]
  },
  {
   "cell_type": "code",
   "execution_count": 68,
   "metadata": {},
   "outputs": [
    {
     "data": {
      "text/plain": [
       "Limits         2.00\n",
       "Derivatives    1.98\n",
       "Integrals      2.38\n",
       "Vectors        2.82\n",
       "Operators      5.00\n",
       "dtype: float64"
      ]
     },
     "execution_count": 68,
     "metadata": {},
     "output_type": "execute_result"
    }
   ],
   "source": [
    "df.T.mean()"
   ]
  },
  {
   "cell_type": "markdown",
   "metadata": {},
   "source": [
    "Во-вторых (и это, наверное, проще), можно передать методу `mean()` параметр `axis`, указывающий, вдоль какой оси нужно считать. (Такое свойство есть у разных функций, работающих со строками или столбцами.)"
   ]
  },
  {
   "cell_type": "code",
   "execution_count": 69,
   "metadata": {},
   "outputs": [
    {
     "data": {
      "text/plain": [
       "Limits         2.00\n",
       "Derivatives    1.98\n",
       "Integrals      2.38\n",
       "Vectors        2.82\n",
       "Operators      5.00\n",
       "dtype: float64"
      ]
     },
     "execution_count": 69,
     "metadata": {},
     "output_type": "execute_result"
    }
   ],
   "source": [
    "df.mean(axis=1)"
   ]
  },
  {
   "cell_type": "code",
   "execution_count": 70,
   "metadata": {},
   "outputs": [
    {
     "data": {
      "text/plain": [
       "Limits         2.00\n",
       "Derivatives    1.98\n",
       "Integrals      2.38\n",
       "Vectors        2.82\n",
       "Operators      5.00\n",
       "dtype: float64"
      ]
     },
     "execution_count": 70,
     "metadata": {},
     "output_type": "execute_result"
    }
   ],
   "source": [
    "df.mean(axis='columns')\n",
    "# можно ещё так"
   ]
  },
  {
   "cell_type": "markdown",
   "metadata": {},
   "source": [
    "Конечно, есть не только среднее, но и другие распространённые функции дескриптивной статистики."
   ]
  },
  {
   "cell_type": "code",
   "execution_count": 71,
   "metadata": {},
   "outputs": [
    {
     "data": {
      "text/plain": [
       "Ann        2.0\n",
       "Bob        1.2\n",
       "Claudia    2.3\n",
       "Daniel     1.2\n",
       "Julia      1.0\n",
       "dtype: float64"
      ]
     },
     "execution_count": 71,
     "metadata": {},
     "output_type": "execute_result"
    }
   ],
   "source": [
    "df.min()"
   ]
  },
  {
   "cell_type": "code",
   "execution_count": 72,
   "metadata": {},
   "outputs": [
    {
     "data": {
      "text/plain": [
       "Ann        6.0\n",
       "Bob        5.0\n",
       "Claudia    4.0\n",
       "Daniel     5.0\n",
       "Julia      5.0\n",
       "dtype: float64"
      ]
     },
     "execution_count": 72,
     "metadata": {},
     "output_type": "execute_result"
    }
   ],
   "source": [
    "df.max()"
   ]
  },
  {
   "cell_type": "markdown",
   "metadata": {},
   "source": [
    "### Более сложный датафрейм"
   ]
  },
  {
   "cell_type": "markdown",
   "metadata": {},
   "source": [
    "Рассмотрим реальный датафрейм, полученный с портала открытых данных г. Москвы. Я его скачал [отсюда](http://data.mos.ru/opendata/7704219722-tarify-na-kommunalnye-uslugi-dlya-naseleniya-goroda-moskvy-na-2012-god?pageNumber=1&versionNumber=2&releaseNumber=1), но там он лежит в zip-файле, который не так-то просто разархивировать из-за кириллицы в имени файла. Если попробовать её просто открыть, то появится ошибка, потому что в качестве разделителя там используется не запятая, а точка с запятой — такое часто бывает и у функции `pd.read_csv()` на эту тему есть специальный параметр `sep`:"
   ]
  },
  {
   "cell_type": "code",
   "execution_count": 153,
   "metadata": {},
   "outputs": [],
   "source": [
    "df = pd.read_csv(\n",
    "    \"data.csv\",\n",
    "    sep=';')"
   ]
  },
  {
   "cell_type": "markdown",
   "metadata": {},
   "source": [
    "Таблица большая, выведем только несколько первых строк, чтобы понять, с чем мы имеем дело:"
   ]
  },
  {
   "cell_type": "code",
   "execution_count": 154,
   "metadata": {},
   "outputs": [
    {
     "data": {
      "text/html": [
       "<div>\n",
       "<style scoped>\n",
       "    .dataframe tbody tr th:only-of-type {\n",
       "        vertical-align: middle;\n",
       "    }\n",
       "\n",
       "    .dataframe tbody tr th {\n",
       "        vertical-align: top;\n",
       "    }\n",
       "\n",
       "    .dataframe thead th {\n",
       "        text-align: right;\n",
       "    }\n",
       "</style>\n",
       "<table border=\"1\" class=\"dataframe\">\n",
       "  <thead>\n",
       "    <tr style=\"text-align: right;\">\n",
       "      <th></th>\n",
       "      <th>ID</th>\n",
       "      <th>Region</th>\n",
       "      <th>global_id</th>\n",
       "      <th>TariffItem</th>\n",
       "      <th>UnitOfMeasure</th>\n",
       "      <th>StartDate</th>\n",
       "      <th>EndDate</th>\n",
       "      <th>MeasureDeviceAvail</th>\n",
       "      <th>StoveType</th>\n",
       "      <th>ConsumptionTime</th>\n",
       "      <th>ConsumptionTarget</th>\n",
       "      <th>Agency</th>\n",
       "      <th>TariffValue</th>\n",
       "      <th>Unnamed: 13</th>\n",
       "    </tr>\n",
       "  </thead>\n",
       "  <tbody>\n",
       "    <tr>\n",
       "      <th>0</th>\n",
       "      <td>275</td>\n",
       "      <td>город Москва (за исключением Троицкого и Новом...</td>\n",
       "      <td>19693297</td>\n",
       "      <td>Холодное водоснабжение</td>\n",
       "      <td>руб/куб.м</td>\n",
       "      <td>01.09.2012</td>\n",
       "      <td>31.12.2012</td>\n",
       "      <td>да</td>\n",
       "      <td>NaN</td>\n",
       "      <td>NaN</td>\n",
       "      <td>NaN</td>\n",
       "      <td>МГУП «Мосводоканал»</td>\n",
       "      <td>26.75</td>\n",
       "      <td>NaN</td>\n",
       "    </tr>\n",
       "    <tr>\n",
       "      <th>1</th>\n",
       "      <td>279</td>\n",
       "      <td>город Москва (за исключением Троицкого и Новом...</td>\n",
       "      <td>19693298</td>\n",
       "      <td>Электроэнергия</td>\n",
       "      <td>руб/кВт.ч</td>\n",
       "      <td>01.01.2012</td>\n",
       "      <td>30.06.2012</td>\n",
       "      <td>да</td>\n",
       "      <td>газовая</td>\n",
       "      <td>без дифференциации по времени потребления</td>\n",
       "      <td>на бытовые нужды</td>\n",
       "      <td>ОАО «Мосэнергосбыт»</td>\n",
       "      <td>3.79</td>\n",
       "      <td>NaN</td>\n",
       "    </tr>\n",
       "    <tr>\n",
       "      <th>2</th>\n",
       "      <td>285</td>\n",
       "      <td>город Москва (за исключением Троицкого и Новом...</td>\n",
       "      <td>19693299</td>\n",
       "      <td>Электроэнергия</td>\n",
       "      <td>руб/кВт.ч</td>\n",
       "      <td>01.01.2012</td>\n",
       "      <td>30.06.2012</td>\n",
       "      <td>да</td>\n",
       "      <td>газовая</td>\n",
       "      <td>с 07:00 по 10:00 ч (многотарифный учет)</td>\n",
       "      <td>на бытовые нужды</td>\n",
       "      <td>ОАО «Мосэнергосбыт»</td>\n",
       "      <td>3.80</td>\n",
       "      <td>NaN</td>\n",
       "    </tr>\n",
       "    <tr>\n",
       "      <th>3</th>\n",
       "      <td>301</td>\n",
       "      <td>город Москва (за исключением Троицкого и Новом...</td>\n",
       "      <td>19693300</td>\n",
       "      <td>Электроэнергия</td>\n",
       "      <td>руб/кВт.ч</td>\n",
       "      <td>01.07.2012</td>\n",
       "      <td>31.07.2012</td>\n",
       "      <td>да</td>\n",
       "      <td>газовая</td>\n",
       "      <td>с 07:00 по 10:00 ч (многотарифный учет)</td>\n",
       "      <td>на бытовые нужды</td>\n",
       "      <td>ОАО «Мосэнергосбыт»</td>\n",
       "      <td>4.03</td>\n",
       "      <td>NaN</td>\n",
       "    </tr>\n",
       "    <tr>\n",
       "      <th>4</th>\n",
       "      <td>302</td>\n",
       "      <td>город Москва (за исключением Троицкого и Новом...</td>\n",
       "      <td>19693301</td>\n",
       "      <td>Электроэнергия</td>\n",
       "      <td>руб/кВт.ч</td>\n",
       "      <td>01.07.2012</td>\n",
       "      <td>31.07.2012</td>\n",
       "      <td>да</td>\n",
       "      <td>газовая</td>\n",
       "      <td>с 17:00 по 21:00 ч (многотарифный учет)</td>\n",
       "      <td>на бытовые нужды</td>\n",
       "      <td>ОАО «Мосэнергосбыт»</td>\n",
       "      <td>4.03</td>\n",
       "      <td>NaN</td>\n",
       "    </tr>\n",
       "  </tbody>\n",
       "</table>\n",
       "</div>"
      ],
      "text/plain": [
       "    ID                                             Region  global_id  \\\n",
       "0  275  город Москва (за исключением Троицкого и Новом...   19693297   \n",
       "1  279  город Москва (за исключением Троицкого и Новом...   19693298   \n",
       "2  285  город Москва (за исключением Троицкого и Новом...   19693299   \n",
       "3  301  город Москва (за исключением Троицкого и Новом...   19693300   \n",
       "4  302  город Москва (за исключением Троицкого и Новом...   19693301   \n",
       "\n",
       "               TariffItem UnitOfMeasure   StartDate     EndDate  \\\n",
       "0  Холодное водоснабжение     руб/куб.м  01.09.2012  31.12.2012   \n",
       "1          Электроэнергия     руб/кВт.ч  01.01.2012  30.06.2012   \n",
       "2          Электроэнергия     руб/кВт.ч  01.01.2012  30.06.2012   \n",
       "3          Электроэнергия     руб/кВт.ч  01.07.2012  31.07.2012   \n",
       "4          Электроэнергия     руб/кВт.ч  01.07.2012  31.07.2012   \n",
       "\n",
       "  MeasureDeviceAvail StoveType                            ConsumptionTime  \\\n",
       "0                 да       NaN                                        NaN   \n",
       "1                 да   газовая  без дифференциации по времени потребления   \n",
       "2                 да   газовая    с 07:00 по 10:00 ч (многотарифный учет)   \n",
       "3                 да   газовая    с 07:00 по 10:00 ч (многотарифный учет)   \n",
       "4                 да   газовая    с 17:00 по 21:00 ч (многотарифный учет)   \n",
       "\n",
       "  ConsumptionTarget               Agency  TariffValue  Unnamed: 13  \n",
       "0               NaN  МГУП «Мосводоканал»        26.75          NaN  \n",
       "1  на бытовые нужды  ОАО «Мосэнергосбыт»         3.79          NaN  \n",
       "2  на бытовые нужды  ОАО «Мосэнергосбыт»         3.80          NaN  \n",
       "3  на бытовые нужды  ОАО «Мосэнергосбыт»         4.03          NaN  \n",
       "4  на бытовые нужды  ОАО «Мосэнергосбыт»         4.03          NaN  "
      ]
     },
     "execution_count": 154,
     "metadata": {},
     "output_type": "execute_result"
    }
   ],
   "source": [
    "df.head()"
   ]
  },
  {
   "cell_type": "code",
   "execution_count": 156,
   "metadata": {},
   "outputs": [
    {
     "data": {
      "text/plain": [
       "0     275\n",
       "1     279\n",
       "2     285\n",
       "3     301\n",
       "4     302\n",
       "     ... \n",
       "66    335\n",
       "67    273\n",
       "68    274\n",
       "69    311\n",
       "70    315\n",
       "Name: ID, Length: 71, dtype: int64"
      ]
     },
     "execution_count": 156,
     "metadata": {},
     "output_type": "execute_result"
    }
   ],
   "source": [
    "df['ID']"
   ]
  },
  {
   "cell_type": "code",
   "execution_count": 157,
   "metadata": {},
   "outputs": [
    {
     "data": {
      "text/plain": [
       "Index(['ID', 'Region', 'global_id', 'TariffItem', 'UnitOfMeasure', 'StartDate',\n",
       "       'EndDate', 'MeasureDeviceAvail', 'StoveType', 'ConsumptionTime',\n",
       "       'ConsumptionTarget', 'Agency', 'TariffValue', 'Unnamed: 13'],\n",
       "      dtype='object')"
      ]
     },
     "execution_count": 157,
     "metadata": {},
     "output_type": "execute_result"
    }
   ],
   "source": [
    "df.columns"
   ]
  },
  {
   "cell_type": "markdown",
   "metadata": {},
   "source": [
    "Впрочем, этот столбец нам всё равно в явном виде не понадобится — мы сделаем его индексом строк."
   ]
  },
  {
   "cell_type": "code",
   "execution_count": 159,
   "metadata": {},
   "outputs": [],
   "source": [
    "df = pd.read_csv(\n",
    "    \"data.csv\",\n",
    "    sep=';',\n",
    "    index_col=0\n",
    ")"
   ]
  },
  {
   "cell_type": "code",
   "execution_count": 160,
   "metadata": {},
   "outputs": [
    {
     "data": {
      "text/html": [
       "<div>\n",
       "<style scoped>\n",
       "    .dataframe tbody tr th:only-of-type {\n",
       "        vertical-align: middle;\n",
       "    }\n",
       "\n",
       "    .dataframe tbody tr th {\n",
       "        vertical-align: top;\n",
       "    }\n",
       "\n",
       "    .dataframe thead th {\n",
       "        text-align: right;\n",
       "    }\n",
       "</style>\n",
       "<table border=\"1\" class=\"dataframe\">\n",
       "  <thead>\n",
       "    <tr style=\"text-align: right;\">\n",
       "      <th></th>\n",
       "      <th>Region</th>\n",
       "      <th>global_id</th>\n",
       "      <th>TariffItem</th>\n",
       "      <th>UnitOfMeasure</th>\n",
       "      <th>StartDate</th>\n",
       "      <th>EndDate</th>\n",
       "      <th>MeasureDeviceAvail</th>\n",
       "      <th>StoveType</th>\n",
       "      <th>ConsumptionTime</th>\n",
       "      <th>ConsumptionTarget</th>\n",
       "      <th>Agency</th>\n",
       "      <th>TariffValue</th>\n",
       "      <th>Unnamed: 13</th>\n",
       "    </tr>\n",
       "    <tr>\n",
       "      <th>ID</th>\n",
       "      <th></th>\n",
       "      <th></th>\n",
       "      <th></th>\n",
       "      <th></th>\n",
       "      <th></th>\n",
       "      <th></th>\n",
       "      <th></th>\n",
       "      <th></th>\n",
       "      <th></th>\n",
       "      <th></th>\n",
       "      <th></th>\n",
       "      <th></th>\n",
       "      <th></th>\n",
       "    </tr>\n",
       "  </thead>\n",
       "  <tbody>\n",
       "    <tr>\n",
       "      <th>275</th>\n",
       "      <td>город Москва (за исключением Троицкого и Новом...</td>\n",
       "      <td>19693297</td>\n",
       "      <td>Холодное водоснабжение</td>\n",
       "      <td>руб/куб.м</td>\n",
       "      <td>01.09.2012</td>\n",
       "      <td>31.12.2012</td>\n",
       "      <td>да</td>\n",
       "      <td>NaN</td>\n",
       "      <td>NaN</td>\n",
       "      <td>NaN</td>\n",
       "      <td>МГУП «Мосводоканал»</td>\n",
       "      <td>26.75</td>\n",
       "      <td>NaN</td>\n",
       "    </tr>\n",
       "    <tr>\n",
       "      <th>279</th>\n",
       "      <td>город Москва (за исключением Троицкого и Новом...</td>\n",
       "      <td>19693298</td>\n",
       "      <td>Электроэнергия</td>\n",
       "      <td>руб/кВт.ч</td>\n",
       "      <td>01.01.2012</td>\n",
       "      <td>30.06.2012</td>\n",
       "      <td>да</td>\n",
       "      <td>газовая</td>\n",
       "      <td>без дифференциации по времени потребления</td>\n",
       "      <td>на бытовые нужды</td>\n",
       "      <td>ОАО «Мосэнергосбыт»</td>\n",
       "      <td>3.79</td>\n",
       "      <td>NaN</td>\n",
       "    </tr>\n",
       "    <tr>\n",
       "      <th>285</th>\n",
       "      <td>город Москва (за исключением Троицкого и Новом...</td>\n",
       "      <td>19693299</td>\n",
       "      <td>Электроэнергия</td>\n",
       "      <td>руб/кВт.ч</td>\n",
       "      <td>01.01.2012</td>\n",
       "      <td>30.06.2012</td>\n",
       "      <td>да</td>\n",
       "      <td>газовая</td>\n",
       "      <td>с 07:00 по 10:00 ч (многотарифный учет)</td>\n",
       "      <td>на бытовые нужды</td>\n",
       "      <td>ОАО «Мосэнергосбыт»</td>\n",
       "      <td>3.80</td>\n",
       "      <td>NaN</td>\n",
       "    </tr>\n",
       "    <tr>\n",
       "      <th>301</th>\n",
       "      <td>город Москва (за исключением Троицкого и Новом...</td>\n",
       "      <td>19693300</td>\n",
       "      <td>Электроэнергия</td>\n",
       "      <td>руб/кВт.ч</td>\n",
       "      <td>01.07.2012</td>\n",
       "      <td>31.07.2012</td>\n",
       "      <td>да</td>\n",
       "      <td>газовая</td>\n",
       "      <td>с 07:00 по 10:00 ч (многотарифный учет)</td>\n",
       "      <td>на бытовые нужды</td>\n",
       "      <td>ОАО «Мосэнергосбыт»</td>\n",
       "      <td>4.03</td>\n",
       "      <td>NaN</td>\n",
       "    </tr>\n",
       "    <tr>\n",
       "      <th>302</th>\n",
       "      <td>город Москва (за исключением Троицкого и Новом...</td>\n",
       "      <td>19693301</td>\n",
       "      <td>Электроэнергия</td>\n",
       "      <td>руб/кВт.ч</td>\n",
       "      <td>01.07.2012</td>\n",
       "      <td>31.07.2012</td>\n",
       "      <td>да</td>\n",
       "      <td>газовая</td>\n",
       "      <td>с 17:00 по 21:00 ч (многотарифный учет)</td>\n",
       "      <td>на бытовые нужды</td>\n",
       "      <td>ОАО «Мосэнергосбыт»</td>\n",
       "      <td>4.03</td>\n",
       "      <td>NaN</td>\n",
       "    </tr>\n",
       "  </tbody>\n",
       "</table>\n",
       "</div>"
      ],
      "text/plain": [
       "                                                Region  global_id  \\\n",
       "ID                                                                  \n",
       "275  город Москва (за исключением Троицкого и Новом...   19693297   \n",
       "279  город Москва (за исключением Троицкого и Новом...   19693298   \n",
       "285  город Москва (за исключением Троицкого и Новом...   19693299   \n",
       "301  город Москва (за исключением Троицкого и Новом...   19693300   \n",
       "302  город Москва (за исключением Троицкого и Новом...   19693301   \n",
       "\n",
       "                 TariffItem UnitOfMeasure   StartDate     EndDate  \\\n",
       "ID                                                                  \n",
       "275  Холодное водоснабжение     руб/куб.м  01.09.2012  31.12.2012   \n",
       "279          Электроэнергия     руб/кВт.ч  01.01.2012  30.06.2012   \n",
       "285          Электроэнергия     руб/кВт.ч  01.01.2012  30.06.2012   \n",
       "301          Электроэнергия     руб/кВт.ч  01.07.2012  31.07.2012   \n",
       "302          Электроэнергия     руб/кВт.ч  01.07.2012  31.07.2012   \n",
       "\n",
       "    MeasureDeviceAvail StoveType                            ConsumptionTime  \\\n",
       "ID                                                                            \n",
       "275                 да       NaN                                        NaN   \n",
       "279                 да   газовая  без дифференциации по времени потребления   \n",
       "285                 да   газовая    с 07:00 по 10:00 ч (многотарифный учет)   \n",
       "301                 да   газовая    с 07:00 по 10:00 ч (многотарифный учет)   \n",
       "302                 да   газовая    с 17:00 по 21:00 ч (многотарифный учет)   \n",
       "\n",
       "    ConsumptionTarget               Agency  TariffValue  Unnamed: 13  \n",
       "ID                                                                    \n",
       "275               NaN  МГУП «Мосводоканал»        26.75          NaN  \n",
       "279  на бытовые нужды  ОАО «Мосэнергосбыт»         3.79          NaN  \n",
       "285  на бытовые нужды  ОАО «Мосэнергосбыт»         3.80          NaN  \n",
       "301  на бытовые нужды  ОАО «Мосэнергосбыт»         4.03          NaN  \n",
       "302  на бытовые нужды  ОАО «Мосэнергосбыт»         4.03          NaN  "
      ]
     },
     "execution_count": 160,
     "metadata": {},
     "output_type": "execute_result"
    }
   ],
   "source": [
    "df.head()"
   ]
  },
  {
   "cell_type": "markdown",
   "metadata": {},
   "source": [
    "Обратите внимание на `NaN` — это такой специальный элемент, который указыает, что в данной ячейке нет данных (например, в исходном файле в эту ячейку ничего не было записано).\n",
    "\n",
    "### Выбор и группировка\n",
    "\n",
    "Видно, что в таблице собраны разнородные данные — тарифы на газ, электроэнергию и т.д. Прежде, чем с ними можно будет сделать что-то осмысленное, их надо как-то разделить. Это можно делать, например, с помощью условного выбора: "
   ]
  },
  {
   "cell_type": "code",
   "execution_count": 161,
   "metadata": {},
   "outputs": [
    {
     "data": {
      "text/html": [
       "<div>\n",
       "<style scoped>\n",
       "    .dataframe tbody tr th:only-of-type {\n",
       "        vertical-align: middle;\n",
       "    }\n",
       "\n",
       "    .dataframe tbody tr th {\n",
       "        vertical-align: top;\n",
       "    }\n",
       "\n",
       "    .dataframe thead th {\n",
       "        text-align: right;\n",
       "    }\n",
       "</style>\n",
       "<table border=\"1\" class=\"dataframe\">\n",
       "  <thead>\n",
       "    <tr style=\"text-align: right;\">\n",
       "      <th></th>\n",
       "      <th>Region</th>\n",
       "      <th>global_id</th>\n",
       "      <th>TariffItem</th>\n",
       "      <th>UnitOfMeasure</th>\n",
       "      <th>StartDate</th>\n",
       "      <th>EndDate</th>\n",
       "      <th>MeasureDeviceAvail</th>\n",
       "      <th>StoveType</th>\n",
       "      <th>ConsumptionTime</th>\n",
       "      <th>ConsumptionTarget</th>\n",
       "      <th>Agency</th>\n",
       "      <th>TariffValue</th>\n",
       "      <th>Unnamed: 13</th>\n",
       "    </tr>\n",
       "    <tr>\n",
       "      <th>ID</th>\n",
       "      <th></th>\n",
       "      <th></th>\n",
       "      <th></th>\n",
       "      <th></th>\n",
       "      <th></th>\n",
       "      <th></th>\n",
       "      <th></th>\n",
       "      <th></th>\n",
       "      <th></th>\n",
       "      <th></th>\n",
       "      <th></th>\n",
       "      <th></th>\n",
       "      <th></th>\n",
       "    </tr>\n",
       "  </thead>\n",
       "  <tbody>\n",
       "    <tr>\n",
       "      <th>324</th>\n",
       "      <td>город Москва (за исключением Троицкого и Новом...</td>\n",
       "      <td>19693305</td>\n",
       "      <td>Газ</td>\n",
       "      <td>руб/чел</td>\n",
       "      <td>01.07.2012</td>\n",
       "      <td>31.12.2012</td>\n",
       "      <td>нет</td>\n",
       "      <td>NaN</td>\n",
       "      <td>NaN</td>\n",
       "      <td>при наличии в квартире газовой плиты и централ...</td>\n",
       "      <td>ООО «Газпром межрегионгаз Москва»</td>\n",
       "      <td>39.01</td>\n",
       "      <td>NaN</td>\n",
       "    </tr>\n",
       "    <tr>\n",
       "      <th>326</th>\n",
       "      <td>город Москва (за исключением Троицкого и Новом...</td>\n",
       "      <td>19693306</td>\n",
       "      <td>Газ</td>\n",
       "      <td>руб/чел</td>\n",
       "      <td>01.07.2012</td>\n",
       "      <td>31.12.2012</td>\n",
       "      <td>нет</td>\n",
       "      <td>NaN</td>\n",
       "      <td>NaN</td>\n",
       "      <td>при наличии в квартире газовой плиты и газовог...</td>\n",
       "      <td>ООО «Газпром межрегионгаз Москва»</td>\n",
       "      <td>97.76</td>\n",
       "      <td>NaN</td>\n",
       "    </tr>\n",
       "    <tr>\n",
       "      <th>336</th>\n",
       "      <td>город Москва (за исключением Троицкого и Новом...</td>\n",
       "      <td>19693307</td>\n",
       "      <td>Газ</td>\n",
       "      <td>руб/куб.м</td>\n",
       "      <td>01.07.2012</td>\n",
       "      <td>31.12.2012</td>\n",
       "      <td>да/нет</td>\n",
       "      <td>NaN</td>\n",
       "      <td>NaN</td>\n",
       "      <td>на приготовление пищи и нагрев воды с использо...</td>\n",
       "      <td>ООО «Газпром межрегионгаз Москва»</td>\n",
       "      <td>4.70</td>\n",
       "      <td>NaN</td>\n",
       "    </tr>\n",
       "    <tr>\n",
       "      <th>270</th>\n",
       "      <td>город Москва</td>\n",
       "      <td>19693594</td>\n",
       "      <td>Газ</td>\n",
       "      <td>руб/куб.м</td>\n",
       "      <td>11.01.2011</td>\n",
       "      <td>15.01.2012</td>\n",
       "      <td>да</td>\n",
       "      <td>NaN</td>\n",
       "      <td>NaN</td>\n",
       "      <td>на отопление жилых помещений, а также в случае...</td>\n",
       "      <td>ООО «Мосрегионгаз»</td>\n",
       "      <td>2.93</td>\n",
       "      <td>NaN</td>\n",
       "    </tr>\n",
       "    <tr>\n",
       "      <th>271</th>\n",
       "      <td>город Москва</td>\n",
       "      <td>19693595</td>\n",
       "      <td>Газ</td>\n",
       "      <td>руб/куб.м</td>\n",
       "      <td>11.01.2011</td>\n",
       "      <td>15.01.2012</td>\n",
       "      <td>да</td>\n",
       "      <td>NaN</td>\n",
       "      <td>NaN</td>\n",
       "      <td>на приготовление пищи и горячее водоснабжение ...</td>\n",
       "      <td>ООО «Мосрегионгаз»</td>\n",
       "      <td>4.09</td>\n",
       "      <td>NaN</td>\n",
       "    </tr>\n",
       "  </tbody>\n",
       "</table>\n",
       "</div>"
      ],
      "text/plain": [
       "                                                Region  global_id TariffItem  \\\n",
       "ID                                                                             \n",
       "324  город Москва (за исключением Троицкого и Новом...   19693305        Газ   \n",
       "326  город Москва (за исключением Троицкого и Новом...   19693306        Газ   \n",
       "336  город Москва (за исключением Троицкого и Новом...   19693307        Газ   \n",
       "270                                       город Москва   19693594        Газ   \n",
       "271                                       город Москва   19693595        Газ   \n",
       "\n",
       "    UnitOfMeasure   StartDate     EndDate MeasureDeviceAvail StoveType  \\\n",
       "ID                                                                       \n",
       "324       руб/чел  01.07.2012  31.12.2012                нет       NaN   \n",
       "326       руб/чел  01.07.2012  31.12.2012                нет       NaN   \n",
       "336     руб/куб.м  01.07.2012  31.12.2012             да/нет       NaN   \n",
       "270     руб/куб.м  11.01.2011  15.01.2012                 да       NaN   \n",
       "271     руб/куб.м  11.01.2011  15.01.2012                 да       NaN   \n",
       "\n",
       "    ConsumptionTime                                  ConsumptionTarget  \\\n",
       "ID                                                                       \n",
       "324             NaN  при наличии в квартире газовой плиты и централ...   \n",
       "326             NaN  при наличии в квартире газовой плиты и газовог...   \n",
       "336             NaN  на приготовление пищи и нагрев воды с использо...   \n",
       "270             NaN  на отопление жилых помещений, а также в случае...   \n",
       "271             NaN  на приготовление пищи и горячее водоснабжение ...   \n",
       "\n",
       "                                Agency  TariffValue  Unnamed: 13  \n",
       "ID                                                                \n",
       "324  ООО «Газпром межрегионгаз Москва»        39.01          NaN  \n",
       "326  ООО «Газпром межрегионгаз Москва»        97.76          NaN  \n",
       "336  ООО «Газпром межрегионгаз Москва»         4.70          NaN  \n",
       "270                 ООО «Мосрегионгаз»         2.93          NaN  \n",
       "271                 ООО «Мосрегионгаз»         4.09          NaN  "
      ]
     },
     "execution_count": 161,
     "metadata": {},
     "output_type": "execute_result"
    }
   ],
   "source": [
    "df_gas = df[df['TariffItem'] == 'Газ']\n",
    "df_gas.head()"
   ]
  },
  {
   "cell_type": "markdown",
   "metadata": {},
   "source": [
    "Теперь у нас есть табличка, в которой приведены данные только по тарифам на газ.\n",
    "\n",
    "Другой подход состоит в том, чтобы создать сразу много табличек в зависимости от того, что записано в графе `TariffItem`. Для этого в *pandas* есть метод `groupby()`."
   ]
  },
  {
   "cell_type": "code",
   "execution_count": 162,
   "metadata": {},
   "outputs": [
    {
     "data": {
      "text/html": [
       "<div>\n",
       "<style scoped>\n",
       "    .dataframe tbody tr th:only-of-type {\n",
       "        vertical-align: middle;\n",
       "    }\n",
       "\n",
       "    .dataframe tbody tr th {\n",
       "        vertical-align: top;\n",
       "    }\n",
       "\n",
       "    .dataframe thead th {\n",
       "        text-align: right;\n",
       "    }\n",
       "</style>\n",
       "<table border=\"1\" class=\"dataframe\">\n",
       "  <thead>\n",
       "    <tr style=\"text-align: right;\">\n",
       "      <th></th>\n",
       "      <th>Region</th>\n",
       "      <th>global_id</th>\n",
       "      <th>TariffItem</th>\n",
       "      <th>UnitOfMeasure</th>\n",
       "      <th>StartDate</th>\n",
       "      <th>EndDate</th>\n",
       "      <th>MeasureDeviceAvail</th>\n",
       "      <th>StoveType</th>\n",
       "      <th>ConsumptionTime</th>\n",
       "      <th>ConsumptionTarget</th>\n",
       "      <th>Agency</th>\n",
       "      <th>TariffValue</th>\n",
       "      <th>Unnamed: 13</th>\n",
       "    </tr>\n",
       "    <tr>\n",
       "      <th>ID</th>\n",
       "      <th></th>\n",
       "      <th></th>\n",
       "      <th></th>\n",
       "      <th></th>\n",
       "      <th></th>\n",
       "      <th></th>\n",
       "      <th></th>\n",
       "      <th></th>\n",
       "      <th></th>\n",
       "      <th></th>\n",
       "      <th></th>\n",
       "      <th></th>\n",
       "      <th></th>\n",
       "    </tr>\n",
       "  </thead>\n",
       "  <tbody>\n",
       "    <tr>\n",
       "      <th>324</th>\n",
       "      <td>город Москва (за исключением Троицкого и Новом...</td>\n",
       "      <td>19693305</td>\n",
       "      <td>Газ</td>\n",
       "      <td>руб/чел</td>\n",
       "      <td>01.07.2012</td>\n",
       "      <td>31.12.2012</td>\n",
       "      <td>нет</td>\n",
       "      <td>NaN</td>\n",
       "      <td>NaN</td>\n",
       "      <td>при наличии в квартире газовой плиты и централ...</td>\n",
       "      <td>ООО «Газпром межрегионгаз Москва»</td>\n",
       "      <td>39.01</td>\n",
       "      <td>NaN</td>\n",
       "    </tr>\n",
       "    <tr>\n",
       "      <th>326</th>\n",
       "      <td>город Москва (за исключением Троицкого и Новом...</td>\n",
       "      <td>19693306</td>\n",
       "      <td>Газ</td>\n",
       "      <td>руб/чел</td>\n",
       "      <td>01.07.2012</td>\n",
       "      <td>31.12.2012</td>\n",
       "      <td>нет</td>\n",
       "      <td>NaN</td>\n",
       "      <td>NaN</td>\n",
       "      <td>при наличии в квартире газовой плиты и газовог...</td>\n",
       "      <td>ООО «Газпром межрегионгаз Москва»</td>\n",
       "      <td>97.76</td>\n",
       "      <td>NaN</td>\n",
       "    </tr>\n",
       "    <tr>\n",
       "      <th>336</th>\n",
       "      <td>город Москва (за исключением Троицкого и Новом...</td>\n",
       "      <td>19693307</td>\n",
       "      <td>Газ</td>\n",
       "      <td>руб/куб.м</td>\n",
       "      <td>01.07.2012</td>\n",
       "      <td>31.12.2012</td>\n",
       "      <td>да/нет</td>\n",
       "      <td>NaN</td>\n",
       "      <td>NaN</td>\n",
       "      <td>на приготовление пищи и нагрев воды с использо...</td>\n",
       "      <td>ООО «Газпром межрегионгаз Москва»</td>\n",
       "      <td>4.70</td>\n",
       "      <td>NaN</td>\n",
       "    </tr>\n",
       "    <tr>\n",
       "      <th>270</th>\n",
       "      <td>город Москва</td>\n",
       "      <td>19693594</td>\n",
       "      <td>Газ</td>\n",
       "      <td>руб/куб.м</td>\n",
       "      <td>11.01.2011</td>\n",
       "      <td>15.01.2012</td>\n",
       "      <td>да</td>\n",
       "      <td>NaN</td>\n",
       "      <td>NaN</td>\n",
       "      <td>на отопление жилых помещений, а также в случае...</td>\n",
       "      <td>ООО «Мосрегионгаз»</td>\n",
       "      <td>2.93</td>\n",
       "      <td>NaN</td>\n",
       "    </tr>\n",
       "    <tr>\n",
       "      <th>271</th>\n",
       "      <td>город Москва</td>\n",
       "      <td>19693595</td>\n",
       "      <td>Газ</td>\n",
       "      <td>руб/куб.м</td>\n",
       "      <td>11.01.2011</td>\n",
       "      <td>15.01.2012</td>\n",
       "      <td>да</td>\n",
       "      <td>NaN</td>\n",
       "      <td>NaN</td>\n",
       "      <td>на приготовление пищи и горячее водоснабжение ...</td>\n",
       "      <td>ООО «Мосрегионгаз»</td>\n",
       "      <td>4.09</td>\n",
       "      <td>NaN</td>\n",
       "    </tr>\n",
       "  </tbody>\n",
       "</table>\n",
       "</div>"
      ],
      "text/plain": [
       "                                                Region  global_id TariffItem  \\\n",
       "ID                                                                             \n",
       "324  город Москва (за исключением Троицкого и Новом...   19693305        Газ   \n",
       "326  город Москва (за исключением Троицкого и Новом...   19693306        Газ   \n",
       "336  город Москва (за исключением Троицкого и Новом...   19693307        Газ   \n",
       "270                                       город Москва   19693594        Газ   \n",
       "271                                       город Москва   19693595        Газ   \n",
       "\n",
       "    UnitOfMeasure   StartDate     EndDate MeasureDeviceAvail StoveType  \\\n",
       "ID                                                                       \n",
       "324       руб/чел  01.07.2012  31.12.2012                нет       NaN   \n",
       "326       руб/чел  01.07.2012  31.12.2012                нет       NaN   \n",
       "336     руб/куб.м  01.07.2012  31.12.2012             да/нет       NaN   \n",
       "270     руб/куб.м  11.01.2011  15.01.2012                 да       NaN   \n",
       "271     руб/куб.м  11.01.2011  15.01.2012                 да       NaN   \n",
       "\n",
       "    ConsumptionTime                                  ConsumptionTarget  \\\n",
       "ID                                                                       \n",
       "324             NaN  при наличии в квартире газовой плиты и централ...   \n",
       "326             NaN  при наличии в квартире газовой плиты и газовог...   \n",
       "336             NaN  на приготовление пищи и нагрев воды с использо...   \n",
       "270             NaN  на отопление жилых помещений, а также в случае...   \n",
       "271             NaN  на приготовление пищи и горячее водоснабжение ...   \n",
       "\n",
       "                                Agency  TariffValue  Unnamed: 13  \n",
       "ID                                                                \n",
       "324  ООО «Газпром межрегионгаз Москва»        39.01          NaN  \n",
       "326  ООО «Газпром межрегионгаз Москва»        97.76          NaN  \n",
       "336  ООО «Газпром межрегионгаз Москва»         4.70          NaN  \n",
       "270                 ООО «Мосрегионгаз»         2.93          NaN  \n",
       "271                 ООО «Мосрегионгаз»         4.09          NaN  "
      ]
     },
     "execution_count": 162,
     "metadata": {},
     "output_type": "execute_result"
    }
   ],
   "source": [
    "groups = df.groupby('TariffItem')\n",
    "groups.get_group('Газ').head()"
   ]
  },
  {
   "cell_type": "code",
   "execution_count": 163,
   "metadata": {},
   "outputs": [
    {
     "data": {
      "text/html": [
       "<div>\n",
       "<style scoped>\n",
       "    .dataframe tbody tr th:only-of-type {\n",
       "        vertical-align: middle;\n",
       "    }\n",
       "\n",
       "    .dataframe tbody tr th {\n",
       "        vertical-align: top;\n",
       "    }\n",
       "\n",
       "    .dataframe thead th {\n",
       "        text-align: right;\n",
       "    }\n",
       "</style>\n",
       "<table border=\"1\" class=\"dataframe\">\n",
       "  <thead>\n",
       "    <tr style=\"text-align: right;\">\n",
       "      <th></th>\n",
       "      <th>Region</th>\n",
       "      <th>global_id</th>\n",
       "      <th>TariffItem</th>\n",
       "      <th>UnitOfMeasure</th>\n",
       "      <th>StartDate</th>\n",
       "      <th>EndDate</th>\n",
       "      <th>MeasureDeviceAvail</th>\n",
       "      <th>StoveType</th>\n",
       "      <th>ConsumptionTime</th>\n",
       "      <th>ConsumptionTarget</th>\n",
       "      <th>Agency</th>\n",
       "      <th>TariffValue</th>\n",
       "      <th>Unnamed: 13</th>\n",
       "    </tr>\n",
       "    <tr>\n",
       "      <th>ID</th>\n",
       "      <th></th>\n",
       "      <th></th>\n",
       "      <th></th>\n",
       "      <th></th>\n",
       "      <th></th>\n",
       "      <th></th>\n",
       "      <th></th>\n",
       "      <th></th>\n",
       "      <th></th>\n",
       "      <th></th>\n",
       "      <th></th>\n",
       "      <th></th>\n",
       "      <th></th>\n",
       "    </tr>\n",
       "  </thead>\n",
       "  <tbody>\n",
       "    <tr>\n",
       "      <th>278</th>\n",
       "      <td>город Москва (за исключением Троицкого и Новом...</td>\n",
       "      <td>19693387</td>\n",
       "      <td>Водоотведение</td>\n",
       "      <td>руб/куб.м</td>\n",
       "      <td>01.09.2012</td>\n",
       "      <td>31.12.2012</td>\n",
       "      <td>да</td>\n",
       "      <td>NaN</td>\n",
       "      <td>NaN</td>\n",
       "      <td>NaN</td>\n",
       "      <td>МГУП «Мосводоканал»</td>\n",
       "      <td>19.00</td>\n",
       "      <td>NaN</td>\n",
       "    </tr>\n",
       "    <tr>\n",
       "      <th>276</th>\n",
       "      <td>город Москва (за исключением Троицкого и Новом...</td>\n",
       "      <td>19693667</td>\n",
       "      <td>Водоотведение</td>\n",
       "      <td>руб/куб.м</td>\n",
       "      <td>01.01.2012</td>\n",
       "      <td>30.06.2012</td>\n",
       "      <td>да</td>\n",
       "      <td>NaN</td>\n",
       "      <td>NaN</td>\n",
       "      <td>NaN</td>\n",
       "      <td>МГУП «Мосводоканал»</td>\n",
       "      <td>16.65</td>\n",
       "      <td>NaN</td>\n",
       "    </tr>\n",
       "    <tr>\n",
       "      <th>277</th>\n",
       "      <td>город Москва (за исключением Троицкого и Новом...</td>\n",
       "      <td>19693668</td>\n",
       "      <td>Водоотведение</td>\n",
       "      <td>руб/куб.м</td>\n",
       "      <td>01.07.2012</td>\n",
       "      <td>31.08.2012</td>\n",
       "      <td>да</td>\n",
       "      <td>NaN</td>\n",
       "      <td>NaN</td>\n",
       "      <td>NaN</td>\n",
       "      <td>МГУП «Мосводоканал»</td>\n",
       "      <td>18.20</td>\n",
       "      <td>NaN</td>\n",
       "    </tr>\n",
       "  </tbody>\n",
       "</table>\n",
       "</div>"
      ],
      "text/plain": [
       "                                                Region  global_id  \\\n",
       "ID                                                                  \n",
       "278  город Москва (за исключением Троицкого и Новом...   19693387   \n",
       "276  город Москва (за исключением Троицкого и Новом...   19693667   \n",
       "277  город Москва (за исключением Троицкого и Новом...   19693668   \n",
       "\n",
       "        TariffItem UnitOfMeasure   StartDate     EndDate MeasureDeviceAvail  \\\n",
       "ID                                                                            \n",
       "278  Водоотведение     руб/куб.м  01.09.2012  31.12.2012                 да   \n",
       "276  Водоотведение     руб/куб.м  01.01.2012  30.06.2012                 да   \n",
       "277  Водоотведение     руб/куб.м  01.07.2012  31.08.2012                 да   \n",
       "\n",
       "    StoveType ConsumptionTime ConsumptionTarget               Agency  \\\n",
       "ID                                                                     \n",
       "278       NaN             NaN               NaN  МГУП «Мосводоканал»   \n",
       "276       NaN             NaN               NaN  МГУП «Мосводоканал»   \n",
       "277       NaN             NaN               NaN  МГУП «Мосводоканал»   \n",
       "\n",
       "     TariffValue  Unnamed: 13  \n",
       "ID                             \n",
       "278        19.00          NaN  \n",
       "276        16.65          NaN  \n",
       "277        18.20          NaN  "
      ]
     },
     "execution_count": 163,
     "metadata": {},
     "output_type": "execute_result"
    }
   ],
   "source": [
    "groups.get_group(\"Водоотведение\")"
   ]
  },
  {
   "cell_type": "markdown",
   "metadata": {},
   "source": [
    "Список всех групп можно посмотреть так:"
   ]
  },
  {
   "cell_type": "code",
   "execution_count": 168,
   "metadata": {},
   "outputs": [
    {
     "data": {
      "text/plain": [
       "dict_keys(['Водоотведение', 'Газ', 'Горячее водоснабжение', 'Отопление', 'Твердое топливо', 'Холодное водоснабжение', 'Электроэнергия'])"
      ]
     },
     "execution_count": 168,
     "metadata": {},
     "output_type": "execute_result"
    }
   ],
   "source": [
    "groups.groups.keys()"
   ]
  },
  {
   "cell_type": "markdown",
   "metadata": {},
   "source": [
    "Допустим, нас интересует средний тариф по каждому из типов расходов (как мы увидим ниже, для этой таблицы считать его довольно бессмысленно, но мы всё равно попробуем — просто чтобы показать, как работает *pandas*)."
   ]
  },
  {
   "cell_type": "code",
   "execution_count": 169,
   "metadata": {},
   "outputs": [
    {
     "data": {
      "text/html": [
       "<div>\n",
       "<style scoped>\n",
       "    .dataframe tbody tr th:only-of-type {\n",
       "        vertical-align: middle;\n",
       "    }\n",
       "\n",
       "    .dataframe tbody tr th {\n",
       "        vertical-align: top;\n",
       "    }\n",
       "\n",
       "    .dataframe thead th {\n",
       "        text-align: right;\n",
       "    }\n",
       "</style>\n",
       "<table border=\"1\" class=\"dataframe\">\n",
       "  <thead>\n",
       "    <tr style=\"text-align: right;\">\n",
       "      <th></th>\n",
       "      <th>global_id</th>\n",
       "      <th>TariffValue</th>\n",
       "      <th>Unnamed: 13</th>\n",
       "    </tr>\n",
       "    <tr>\n",
       "      <th>TariffItem</th>\n",
       "      <th></th>\n",
       "      <th></th>\n",
       "      <th></th>\n",
       "    </tr>\n",
       "  </thead>\n",
       "  <tbody>\n",
       "    <tr>\n",
       "      <th>Водоотведение</th>\n",
       "      <td>1.969357e+07</td>\n",
       "      <td>17.950000</td>\n",
       "      <td>NaN</td>\n",
       "    </tr>\n",
       "    <tr>\n",
       "      <th>Газ</th>\n",
       "      <td>1.969359e+07</td>\n",
       "      <td>651.415000</td>\n",
       "      <td>NaN</td>\n",
       "    </tr>\n",
       "    <tr>\n",
       "      <th>Горячее водоснабжение</th>\n",
       "      <td>1.969352e+07</td>\n",
       "      <td>100.095000</td>\n",
       "      <td>NaN</td>\n",
       "    </tr>\n",
       "    <tr>\n",
       "      <th>Отопление</th>\n",
       "      <td>1.969363e+07</td>\n",
       "      <td>1208.423333</td>\n",
       "      <td>NaN</td>\n",
       "    </tr>\n",
       "    <tr>\n",
       "      <th>Твердое топливо</th>\n",
       "      <td>1.969363e+07</td>\n",
       "      <td>1126.000000</td>\n",
       "      <td>NaN</td>\n",
       "    </tr>\n",
       "    <tr>\n",
       "      <th>Холодное водоснабжение</th>\n",
       "      <td>1.969364e+07</td>\n",
       "      <td>25.223333</td>\n",
       "      <td>NaN</td>\n",
       "    </tr>\n",
       "    <tr>\n",
       "      <th>Электроэнергия</th>\n",
       "      <td>1.969359e+07</td>\n",
       "      <td>2.571250</td>\n",
       "      <td>NaN</td>\n",
       "    </tr>\n",
       "  </tbody>\n",
       "</table>\n",
       "</div>"
      ],
      "text/plain": [
       "                           global_id  TariffValue  Unnamed: 13\n",
       "TariffItem                                                    \n",
       "Водоотведение           1.969357e+07    17.950000          NaN\n",
       "Газ                     1.969359e+07   651.415000          NaN\n",
       "Горячее водоснабжение   1.969352e+07   100.095000          NaN\n",
       "Отопление               1.969363e+07  1208.423333          NaN\n",
       "Твердое топливо         1.969363e+07  1126.000000          NaN\n",
       "Холодное водоснабжение  1.969364e+07    25.223333          NaN\n",
       "Электроэнергия          1.969359e+07     2.571250          NaN"
      ]
     },
     "execution_count": 169,
     "metadata": {},
     "output_type": "execute_result"
    }
   ],
   "source": [
    "df.groupby('TariffItem').mean()"
   ]
  },
  {
   "cell_type": "markdown",
   "metadata": {},
   "source": [
    "### Приводим данные в порядок"
   ]
  },
  {
   "cell_type": "markdown",
   "metadata": {},
   "source": [
    "Давайте рассмотрим повнимательнее данные, относящиеся к тарифам на газ. Здесь есть ещё один занятный столбец: `UnitOfMeasure` — единица измерения. Посмотрим, какие значения и как часто он принимает."
   ]
  },
  {
   "cell_type": "code",
   "execution_count": 170,
   "metadata": {},
   "outputs": [
    {
     "data": {
      "text/plain": [
       "руб/куб.м         8\n",
       "руб/чел           6\n",
       "руб/1000 куб.м    4\n",
       "руб/кв.м          2\n",
       "Name: UnitOfMeasure, dtype: int64"
      ]
     },
     "execution_count": 170,
     "metadata": {},
     "output_type": "execute_result"
    }
   ],
   "source": [
    "df_gas['UnitOfMeasure'].value_counts() \n",
    "# эта функция считает, сколько раз какое значение встретилось"
   ]
  },
  {
   "cell_type": "markdown",
   "metadata": {},
   "source": [
    "Как видимо, единицы измерения самые разные и вряд ли мы можем как-то легко перевести «руб/кв.м» (видимо, в квадратных метрах меряется всё-таки площадь квартиры, а не количество потребляемого газа) в «руб/куб.м», но по крайней мере «руб/1000 куб.м» и «руб/куб.м» — это что-то похожее. Давайте преобразуем первое во второе: для этого нам надо найти те строки, в которых единица измерения указана как «руб/1000 куб.м», взять для них столбец `TariffValue` и умножить все его элементы на 1000.\n",
    "\n",
    "Вот нужные нам строки:"
   ]
  },
  {
   "cell_type": "code",
   "execution_count": 171,
   "metadata": {},
   "outputs": [
    {
     "data": {
      "text/html": [
       "<div>\n",
       "<style scoped>\n",
       "    .dataframe tbody tr th:only-of-type {\n",
       "        vertical-align: middle;\n",
       "    }\n",
       "\n",
       "    .dataframe tbody tr th {\n",
       "        vertical-align: top;\n",
       "    }\n",
       "\n",
       "    .dataframe thead th {\n",
       "        text-align: right;\n",
       "    }\n",
       "</style>\n",
       "<table border=\"1\" class=\"dataframe\">\n",
       "  <thead>\n",
       "    <tr style=\"text-align: right;\">\n",
       "      <th></th>\n",
       "      <th>Region</th>\n",
       "      <th>global_id</th>\n",
       "      <th>TariffItem</th>\n",
       "      <th>UnitOfMeasure</th>\n",
       "      <th>StartDate</th>\n",
       "      <th>EndDate</th>\n",
       "      <th>MeasureDeviceAvail</th>\n",
       "      <th>StoveType</th>\n",
       "      <th>ConsumptionTime</th>\n",
       "      <th>ConsumptionTarget</th>\n",
       "      <th>Agency</th>\n",
       "      <th>TariffValue</th>\n",
       "      <th>Unnamed: 13</th>\n",
       "    </tr>\n",
       "    <tr>\n",
       "      <th>ID</th>\n",
       "      <th></th>\n",
       "      <th></th>\n",
       "      <th></th>\n",
       "      <th></th>\n",
       "      <th></th>\n",
       "      <th></th>\n",
       "      <th></th>\n",
       "      <th></th>\n",
       "      <th></th>\n",
       "      <th></th>\n",
       "      <th></th>\n",
       "      <th></th>\n",
       "      <th></th>\n",
       "    </tr>\n",
       "  </thead>\n",
       "  <tbody>\n",
       "    <tr>\n",
       "      <th>337</th>\n",
       "      <td>город Москва (за исключением Троицкого и Новом...</td>\n",
       "      <td>19693625</td>\n",
       "      <td>Газ</td>\n",
       "      <td>руб/1000 куб.м</td>\n",
       "      <td>15.01.2012</td>\n",
       "      <td>30.06.2012</td>\n",
       "      <td>да/нет</td>\n",
       "      <td>NaN</td>\n",
       "      <td>NaN</td>\n",
       "      <td>на отопление с одновременным использованием га...</td>\n",
       "      <td>ООО «Газпром межрегионгаз Москва»</td>\n",
       "      <td>2930.0</td>\n",
       "      <td>NaN</td>\n",
       "    </tr>\n",
       "    <tr>\n",
       "      <th>338</th>\n",
       "      <td>город Москва (за исключением Троицкого и Новом...</td>\n",
       "      <td>19693626</td>\n",
       "      <td>Газ</td>\n",
       "      <td>руб/1000 куб.м</td>\n",
       "      <td>01.07.2012</td>\n",
       "      <td>31.12.2012</td>\n",
       "      <td>да/нет</td>\n",
       "      <td>NaN</td>\n",
       "      <td>NaN</td>\n",
       "      <td>на отопление с одновременным использованием га...</td>\n",
       "      <td>ООО «Газпром межрегионгаз Москва»</td>\n",
       "      <td>3370.0</td>\n",
       "      <td>NaN</td>\n",
       "    </tr>\n",
       "    <tr>\n",
       "      <th>339</th>\n",
       "      <td>город Москва (за исключением Троицкого и Новом...</td>\n",
       "      <td>19693627</td>\n",
       "      <td>Газ</td>\n",
       "      <td>руб/1000 куб.м</td>\n",
       "      <td>15.01.2012</td>\n",
       "      <td>30.06.2012</td>\n",
       "      <td>да/нет</td>\n",
       "      <td>NaN</td>\n",
       "      <td>NaN</td>\n",
       "      <td>на отопление и (или) выработку электрической э...</td>\n",
       "      <td>ООО «Газпром межрегионгаз Москва»</td>\n",
       "      <td>2930.0</td>\n",
       "      <td>NaN</td>\n",
       "    </tr>\n",
       "    <tr>\n",
       "      <th>340</th>\n",
       "      <td>город Москва (за исключением Троицкого и Новом...</td>\n",
       "      <td>19693628</td>\n",
       "      <td>Газ</td>\n",
       "      <td>руб/1000 куб.м</td>\n",
       "      <td>01.07.2012</td>\n",
       "      <td>31.12.2012</td>\n",
       "      <td>да/нет</td>\n",
       "      <td>NaN</td>\n",
       "      <td>NaN</td>\n",
       "      <td>на отопление и (или) выработку электрической э...</td>\n",
       "      <td>ООО «Газпром межрегионгаз Москва»</td>\n",
       "      <td>3370.0</td>\n",
       "      <td>NaN</td>\n",
       "    </tr>\n",
       "  </tbody>\n",
       "</table>\n",
       "</div>"
      ],
      "text/plain": [
       "                                                Region  global_id TariffItem  \\\n",
       "ID                                                                             \n",
       "337  город Москва (за исключением Троицкого и Новом...   19693625        Газ   \n",
       "338  город Москва (за исключением Троицкого и Новом...   19693626        Газ   \n",
       "339  город Москва (за исключением Троицкого и Новом...   19693627        Газ   \n",
       "340  город Москва (за исключением Троицкого и Новом...   19693628        Газ   \n",
       "\n",
       "      UnitOfMeasure   StartDate     EndDate MeasureDeviceAvail StoveType  \\\n",
       "ID                                                                         \n",
       "337  руб/1000 куб.м  15.01.2012  30.06.2012             да/нет       NaN   \n",
       "338  руб/1000 куб.м  01.07.2012  31.12.2012             да/нет       NaN   \n",
       "339  руб/1000 куб.м  15.01.2012  30.06.2012             да/нет       NaN   \n",
       "340  руб/1000 куб.м  01.07.2012  31.12.2012             да/нет       NaN   \n",
       "\n",
       "    ConsumptionTime                                  ConsumptionTarget  \\\n",
       "ID                                                                       \n",
       "337             NaN  на отопление с одновременным использованием га...   \n",
       "338             NaN  на отопление с одновременным использованием га...   \n",
       "339             NaN  на отопление и (или) выработку электрической э...   \n",
       "340             NaN  на отопление и (или) выработку электрической э...   \n",
       "\n",
       "                                Agency  TariffValue  Unnamed: 13  \n",
       "ID                                                                \n",
       "337  ООО «Газпром межрегионгаз Москва»       2930.0          NaN  \n",
       "338  ООО «Газпром межрегионгаз Москва»       3370.0          NaN  \n",
       "339  ООО «Газпром межрегионгаз Москва»       2930.0          NaN  \n",
       "340  ООО «Газпром межрегионгаз Москва»       3370.0          NaN  "
      ]
     },
     "execution_count": 171,
     "metadata": {},
     "output_type": "execute_result"
    }
   ],
   "source": [
    "unit1000 = df_gas['UnitOfMeasure'] == 'руб/1000 куб.м'\n",
    "# записали в переменную unit1000 результат проверки условия о том, \n",
    "# что UnitOfMeasure == 'руб/1000 куб.м'\n",
    "df_gas[unit1000]"
   ]
  },
  {
   "cell_type": "markdown",
   "metadata": {},
   "source": [
    "Можно было бы теперь взять от этой таблицы столбец `TariffValue` и присвоить ему значение его же, разделенное на 1000. Но результат может оказаться неожиданным."
   ]
  },
  {
   "cell_type": "code",
   "execution_count": 172,
   "metadata": {},
   "outputs": [
    {
     "data": {
      "text/plain": [
       "ID\n",
       "337    2930.0\n",
       "338    3370.0\n",
       "339    2930.0\n",
       "340    3370.0\n",
       "Name: TariffValue, dtype: float64"
      ]
     },
     "execution_count": 172,
     "metadata": {},
     "output_type": "execute_result"
    }
   ],
   "source": [
    "df_gas[unit1000]['TariffValue']"
   ]
  },
  {
   "cell_type": "code",
   "execution_count": 173,
   "metadata": {},
   "outputs": [
    {
     "name": "stderr",
     "output_type": "stream",
     "text": [
      "C:\\Users\\User\\AppData\\Local\\Temp/ipykernel_15948/2804238212.py:1: SettingWithCopyWarning: \n",
      "A value is trying to be set on a copy of a slice from a DataFrame.\n",
      "Try using .loc[row_indexer,col_indexer] = value instead\n",
      "\n",
      "See the caveats in the documentation: https://pandas.pydata.org/pandas-docs/stable/user_guide/indexing.html#returning-a-view-versus-a-copy\n",
      "  df_gas[unit1000]['TariffValue'] = df_gas[unit1000]['TariffValue']/1000\n"
     ]
    }
   ],
   "source": [
    "df_gas[unit1000]['TariffValue'] = df_gas[unit1000]['TariffValue']/1000"
   ]
  },
  {
   "cell_type": "code",
   "execution_count": 174,
   "metadata": {},
   "outputs": [
    {
     "data": {
      "text/plain": [
       "ID\n",
       "337    2930.0\n",
       "338    3370.0\n",
       "339    2930.0\n",
       "340    3370.0\n",
       "Name: TariffValue, dtype: float64"
      ]
     },
     "execution_count": 174,
     "metadata": {},
     "output_type": "execute_result"
    }
   ],
   "source": [
    "df_gas[unit1000]['TariffValue']"
   ]
  },
  {
   "cell_type": "markdown",
   "metadata": {},
   "source": [
    "Ничего не изменилось, да ещё и какая-то страшна красная штука вылезла. Почему так произошло? Дело в том, что взяв подмножество строк с помощью `df_gas[unit1000]`, мы могли создать либо копию исходной таблички, либо её вид (то есть просто интерфейс). Если это был вид, то приравнивание могло сработать как надо. А если копия, то приравнивание произошло к копии, а оригинальная таблица осталась неизменной. К сожалению, заранее неизвестно, что будет возвращено квадратными скобками — вид или копия — это зависит от внутренней структуры данных. Так что нужно рассчитывать на худшее.\n",
    "\n",
    "Чтобы избежать таких проблем, вместо применения несколько квадратных скобок подряд, нужно писать одни скобки, в них указывая, какие элементы нам нужны, указывая наборы строк и столбцов через запятую, как это обсуждалось выше. Например, вот так это сработает:"
   ]
  },
  {
   "cell_type": "code",
   "execution_count": 175,
   "metadata": {},
   "outputs": [
    {
     "name": "stderr",
     "output_type": "stream",
     "text": [
      "C:\\Users\\User\\anaconda3\\lib\\site-packages\\pandas\\core\\indexing.py:1773: SettingWithCopyWarning: \n",
      "A value is trying to be set on a copy of a slice from a DataFrame.\n",
      "Try using .loc[row_indexer,col_indexer] = value instead\n",
      "\n",
      "See the caveats in the documentation: https://pandas.pydata.org/pandas-docs/stable/user_guide/indexing.html#returning-a-view-versus-a-copy\n",
      "  self._setitem_single_column(ilocs[0], value, pi)\n"
     ]
    }
   ],
   "source": [
    "df_gas.loc[unit1000, 'TariffValue'] = df_gas.loc[unit1000, 'TariffValue']/1000"
   ]
  },
  {
   "cell_type": "markdown",
   "metadata": {},
   "source": [
    "Тоже предупреждение, но по крайней мере результат удовлетворительный:"
   ]
  },
  {
   "cell_type": "code",
   "execution_count": 176,
   "metadata": {},
   "outputs": [
    {
     "data": {
      "text/plain": [
       "ID\n",
       "337    2.93\n",
       "338    3.37\n",
       "339    2.93\n",
       "340    3.37\n",
       "Name: TariffValue, dtype: float64"
      ]
     },
     "execution_count": 176,
     "metadata": {},
     "output_type": "execute_result"
    }
   ],
   "source": [
    "df_gas.loc[unit1000, 'TariffValue']"
   ]
  },
  {
   "cell_type": "markdown",
   "metadata": {},
   "source": [
    "Предупреждение, кстати, возникло из-за того, что `df_gas` сам является такой копией, полученной из `df` путём выделения подмножества строк по условию. Заметим, что исходный датафрейм `df` в результате не изменился — именно об этом предупреждает нас система выше."
   ]
  },
  {
   "cell_type": "code",
   "execution_count": 177,
   "metadata": {},
   "outputs": [
    {
     "data": {
      "text/plain": [
       "ID\n",
       "337    2930.0\n",
       "338    3370.0\n",
       "339    2930.0\n",
       "340    3370.0\n",
       "Name: TariffValue, dtype: float64"
      ]
     },
     "execution_count": 177,
     "metadata": {},
     "output_type": "execute_result"
    }
   ],
   "source": [
    "df.loc[df['UnitOfMeasure'] == 'руб/1000 куб.м', 'TariffValue']"
   ]
  },
  {
   "cell_type": "markdown",
   "metadata": {},
   "source": [
    "Чтобы избежать дальнейших предпреждением, отделим `df_gas` от `df` окончательно:"
   ]
  },
  {
   "cell_type": "code",
   "execution_count": 178,
   "metadata": {},
   "outputs": [],
   "source": [
    "df_gas = df_gas.copy()"
   ]
  },
  {
   "cell_type": "markdown",
   "metadata": {},
   "source": [
    "Теперь нужно в тех строчках, в которых мы поменяли значение тарифа, изменить и единицу измерения, чтобы она соответствовала."
   ]
  },
  {
   "cell_type": "code",
   "execution_count": 179,
   "metadata": {},
   "outputs": [
    {
     "data": {
      "text/plain": [
       "руб/куб.м    12\n",
       "руб/чел       6\n",
       "руб/кв.м      2\n",
       "Name: UnitOfMeasure, dtype: int64"
      ]
     },
     "execution_count": 179,
     "metadata": {},
     "output_type": "execute_result"
    }
   ],
   "source": [
    "df_gas.loc[unit1000, 'UnitOfMeasure'] = \"руб/куб.м\"\n",
    "df_gas['UnitOfMeasure'].value_counts()"
   ]
  },
  {
   "cell_type": "markdown",
   "metadata": {},
   "source": [
    "Ну вот, по крайней мере 12 значений тарифа, которые можно сравнивать между собой, у нас есть. Давайте посмотрим на них повнимательнее."
   ]
  },
  {
   "cell_type": "code",
   "execution_count": 180,
   "metadata": {},
   "outputs": [],
   "source": [
    "df_gas_kubm = df_gas[df_gas['UnitOfMeasure'] == 'руб/куб.м']"
   ]
  },
  {
   "cell_type": "code",
   "execution_count": 181,
   "metadata": {},
   "outputs": [
    {
     "data": {
      "text/html": [
       "<div>\n",
       "<style scoped>\n",
       "    .dataframe tbody tr th:only-of-type {\n",
       "        vertical-align: middle;\n",
       "    }\n",
       "\n",
       "    .dataframe tbody tr th {\n",
       "        vertical-align: top;\n",
       "    }\n",
       "\n",
       "    .dataframe thead th {\n",
       "        text-align: right;\n",
       "    }\n",
       "</style>\n",
       "<table border=\"1\" class=\"dataframe\">\n",
       "  <thead>\n",
       "    <tr style=\"text-align: right;\">\n",
       "      <th></th>\n",
       "      <th>global_id</th>\n",
       "      <th>TariffValue</th>\n",
       "      <th>Unnamed: 13</th>\n",
       "    </tr>\n",
       "  </thead>\n",
       "  <tbody>\n",
       "    <tr>\n",
       "      <th>count</th>\n",
       "      <td>1.200000e+01</td>\n",
       "      <td>12.000000</td>\n",
       "      <td>0.0</td>\n",
       "    </tr>\n",
       "    <tr>\n",
       "      <th>mean</th>\n",
       "      <td>1.969361e+07</td>\n",
       "      <td>3.832500</td>\n",
       "      <td>NaN</td>\n",
       "    </tr>\n",
       "    <tr>\n",
       "      <th>std</th>\n",
       "      <td>1.000677e+02</td>\n",
       "      <td>0.700274</td>\n",
       "      <td>NaN</td>\n",
       "    </tr>\n",
       "    <tr>\n",
       "      <th>min</th>\n",
       "      <td>1.969331e+07</td>\n",
       "      <td>2.930000</td>\n",
       "      <td>NaN</td>\n",
       "    </tr>\n",
       "    <tr>\n",
       "      <th>25%</th>\n",
       "      <td>1.969362e+07</td>\n",
       "      <td>3.260000</td>\n",
       "      <td>NaN</td>\n",
       "    </tr>\n",
       "    <tr>\n",
       "      <th>50%</th>\n",
       "      <td>1.969363e+07</td>\n",
       "      <td>4.090000</td>\n",
       "      <td>NaN</td>\n",
       "    </tr>\n",
       "    <tr>\n",
       "      <th>75%</th>\n",
       "      <td>1.969364e+07</td>\n",
       "      <td>4.242500</td>\n",
       "      <td>NaN</td>\n",
       "    </tr>\n",
       "    <tr>\n",
       "      <th>max</th>\n",
       "      <td>1.969368e+07</td>\n",
       "      <td>4.700000</td>\n",
       "      <td>NaN</td>\n",
       "    </tr>\n",
       "  </tbody>\n",
       "</table>\n",
       "</div>"
      ],
      "text/plain": [
       "          global_id  TariffValue  Unnamed: 13\n",
       "count  1.200000e+01    12.000000          0.0\n",
       "mean   1.969361e+07     3.832500          NaN\n",
       "std    1.000677e+02     0.700274          NaN\n",
       "min    1.969331e+07     2.930000          NaN\n",
       "25%    1.969362e+07     3.260000          NaN\n",
       "50%    1.969363e+07     4.090000          NaN\n",
       "75%    1.969364e+07     4.242500          NaN\n",
       "max    1.969368e+07     4.700000          NaN"
      ]
     },
     "execution_count": 181,
     "metadata": {},
     "output_type": "execute_result"
    }
   ],
   "source": [
    "df_gas_kubm.describe()"
   ]
  },
  {
   "cell_type": "markdown",
   "metadata": {},
   "source": [
    "Конечно, осмысленный здесь только один столбец, можно его запросить отдельно:"
   ]
  },
  {
   "cell_type": "code",
   "execution_count": 182,
   "metadata": {},
   "outputs": [
    {
     "data": {
      "text/plain": [
       "count    12.000000\n",
       "mean      3.832500\n",
       "std       0.700274\n",
       "min       2.930000\n",
       "25%       3.260000\n",
       "50%       4.090000\n",
       "75%       4.242500\n",
       "max       4.700000\n",
       "Name: TariffValue, dtype: float64"
      ]
     },
     "execution_count": 182,
     "metadata": {},
     "output_type": "execute_result"
    }
   ],
   "source": [
    "df_gas_kubm.describe()['TariffValue']"
   ]
  },
  {
   "cell_type": "markdown",
   "metadata": {},
   "source": [
    "Можно даже картинку нарисовать какую-нибудь."
   ]
  },
  {
   "cell_type": "code",
   "execution_count": 183,
   "metadata": {},
   "outputs": [],
   "source": [
    "%matplotlib inline"
   ]
  },
  {
   "cell_type": "code",
   "execution_count": 184,
   "metadata": {},
   "outputs": [
    {
     "data": {
      "text/plain": [
       "<AxesSubplot:ylabel='Frequency'>"
      ]
     },
     "execution_count": 184,
     "metadata": {},
     "output_type": "execute_result"
    },
    {
     "data": {
      "image/png": "[encoded data removed]",
      "text/plain": [
       "<Figure size 432x288 with 1 Axes>"
      ]
     },
     "metadata": {
      "needs_background": "light"
     },
     "output_type": "display_data"
    }
   ],
   "source": [
    "df_gas_kubm['TariffValue'].plot.hist()"
   ]
  },
  {
   "cell_type": "markdown",
   "metadata": {},
   "source": [
    "### Более сложные запросы и метод `query()`"
   ]
  },
  {
   "cell_type": "markdown",
   "metadata": {},
   "source": [
    "Допустим, мы с самого начала хотели выбрать из исходной таблицы те строки, в которых указан тариф на газ и в качестве единицы измерения указаны `руб/кв.м`. Это можно сделать разными способами. Например, вот так:"
   ]
  },
  {
   "cell_type": "code",
   "execution_count": 185,
   "metadata": {},
   "outputs": [
    {
     "data": {
      "text/html": [
       "<div>\n",
       "<style scoped>\n",
       "    .dataframe tbody tr th:only-of-type {\n",
       "        vertical-align: middle;\n",
       "    }\n",
       "\n",
       "    .dataframe tbody tr th {\n",
       "        vertical-align: top;\n",
       "    }\n",
       "\n",
       "    .dataframe thead th {\n",
       "        text-align: right;\n",
       "    }\n",
       "</style>\n",
       "<table border=\"1\" class=\"dataframe\">\n",
       "  <thead>\n",
       "    <tr style=\"text-align: right;\">\n",
       "      <th></th>\n",
       "      <th>Region</th>\n",
       "      <th>global_id</th>\n",
       "      <th>TariffItem</th>\n",
       "      <th>UnitOfMeasure</th>\n",
       "      <th>StartDate</th>\n",
       "      <th>EndDate</th>\n",
       "      <th>MeasureDeviceAvail</th>\n",
       "      <th>StoveType</th>\n",
       "      <th>ConsumptionTime</th>\n",
       "      <th>ConsumptionTarget</th>\n",
       "      <th>Agency</th>\n",
       "      <th>TariffValue</th>\n",
       "      <th>Unnamed: 13</th>\n",
       "    </tr>\n",
       "    <tr>\n",
       "      <th>ID</th>\n",
       "      <th></th>\n",
       "      <th></th>\n",
       "      <th></th>\n",
       "      <th></th>\n",
       "      <th></th>\n",
       "      <th></th>\n",
       "      <th></th>\n",
       "      <th></th>\n",
       "      <th></th>\n",
       "      <th></th>\n",
       "      <th></th>\n",
       "      <th></th>\n",
       "      <th></th>\n",
       "    </tr>\n",
       "  </thead>\n",
       "  <tbody>\n",
       "    <tr>\n",
       "      <th>329</th>\n",
       "      <td>город Москва (за исключением Троицкого и Новом...</td>\n",
       "      <td>19693622</td>\n",
       "      <td>Газ</td>\n",
       "      <td>руб/кв.м</td>\n",
       "      <td>01.01.2012</td>\n",
       "      <td>30.06.2012</td>\n",
       "      <td>нет</td>\n",
       "      <td>NaN</td>\n",
       "      <td>NaN</td>\n",
       "      <td>дома с отоплением от газовых нагревателей</td>\n",
       "      <td>ООО «Газпром межрегионгаз Москва»</td>\n",
       "      <td>22.27</td>\n",
       "      <td>NaN</td>\n",
       "    </tr>\n",
       "    <tr>\n",
       "      <th>330</th>\n",
       "      <td>город Москва (за исключением Троицкого и Новом...</td>\n",
       "      <td>19693682</td>\n",
       "      <td>Газ</td>\n",
       "      <td>руб/кв.м</td>\n",
       "      <td>01.07.2012</td>\n",
       "      <td>31.08.2012</td>\n",
       "      <td>нет</td>\n",
       "      <td>NaN</td>\n",
       "      <td>NaN</td>\n",
       "      <td>дома с отоплением от газовых нагревателей</td>\n",
       "      <td>ООО «Газпром межрегионгаз Москва»</td>\n",
       "      <td>25.61</td>\n",
       "      <td>NaN</td>\n",
       "    </tr>\n",
       "  </tbody>\n",
       "</table>\n",
       "</div>"
      ],
      "text/plain": [
       "                                                Region  global_id TariffItem  \\\n",
       "ID                                                                             \n",
       "329  город Москва (за исключением Троицкого и Новом...   19693622        Газ   \n",
       "330  город Москва (за исключением Троицкого и Новом...   19693682        Газ   \n",
       "\n",
       "    UnitOfMeasure   StartDate     EndDate MeasureDeviceAvail StoveType  \\\n",
       "ID                                                                       \n",
       "329      руб/кв.м  01.01.2012  30.06.2012                нет       NaN   \n",
       "330      руб/кв.м  01.07.2012  31.08.2012                нет       NaN   \n",
       "\n",
       "    ConsumptionTime                          ConsumptionTarget  \\\n",
       "ID                                                               \n",
       "329             NaN  дома с отоплением от газовых нагревателей   \n",
       "330             NaN  дома с отоплением от газовых нагревателей   \n",
       "\n",
       "                                Agency  TariffValue  Unnamed: 13  \n",
       "ID                                                                \n",
       "329  ООО «Газпром межрегионгаз Москва»        22.27          NaN  \n",
       "330  ООО «Газпром межрегионгаз Москва»        25.61          NaN  "
      ]
     },
     "execution_count": 185,
     "metadata": {},
     "output_type": "execute_result"
    }
   ],
   "source": [
    "df[ (df['TariffItem'] == \"Газ\") & (df['UnitOfMeasure'] == \"руб/кв.м\") ]"
   ]
  },
  {
   "cell_type": "markdown",
   "metadata": {},
   "source": [
    "Обратите внимание на амперсанд `&` (логическое И) и на скобки — они обязательны.\n",
    "\n",
    "Как работает эта штука? Очень просто: `df['TariffItem'] == \"Газ\"` — один ряд с булевскими значениями, `df['UnitOfMeasure'] == \"руб/кв.м\"` — другой, амперсанд `&` делает поэлементное «И» с этими двумя рядами — в результате получается ряд, в котором стоит `True` только если выполнялись оба условия — и именно по этому ряду мы и производим выборку элементов.\n",
    "\n",
    "Этот синтаксис не назовёшь лаконичным и разработчики *pandas* предложили другой — впрочем, в документации сказано, что он носит экспериментальный характер."
   ]
  },
  {
   "cell_type": "code",
   "execution_count": 186,
   "metadata": {
    "scrolled": true
   },
   "outputs": [
    {
     "data": {
      "text/html": [
       "<div>\n",
       "<style scoped>\n",
       "    .dataframe tbody tr th:only-of-type {\n",
       "        vertical-align: middle;\n",
       "    }\n",
       "\n",
       "    .dataframe tbody tr th {\n",
       "        vertical-align: top;\n",
       "    }\n",
       "\n",
       "    .dataframe thead th {\n",
       "        text-align: right;\n",
       "    }\n",
       "</style>\n",
       "<table border=\"1\" class=\"dataframe\">\n",
       "  <thead>\n",
       "    <tr style=\"text-align: right;\">\n",
       "      <th></th>\n",
       "      <th>Region</th>\n",
       "      <th>global_id</th>\n",
       "      <th>TariffItem</th>\n",
       "      <th>UnitOfMeasure</th>\n",
       "      <th>StartDate</th>\n",
       "      <th>EndDate</th>\n",
       "      <th>MeasureDeviceAvail</th>\n",
       "      <th>StoveType</th>\n",
       "      <th>ConsumptionTime</th>\n",
       "      <th>ConsumptionTarget</th>\n",
       "      <th>Agency</th>\n",
       "      <th>TariffValue</th>\n",
       "      <th>Unnamed: 13</th>\n",
       "    </tr>\n",
       "    <tr>\n",
       "      <th>ID</th>\n",
       "      <th></th>\n",
       "      <th></th>\n",
       "      <th></th>\n",
       "      <th></th>\n",
       "      <th></th>\n",
       "      <th></th>\n",
       "      <th></th>\n",
       "      <th></th>\n",
       "      <th></th>\n",
       "      <th></th>\n",
       "      <th></th>\n",
       "      <th></th>\n",
       "      <th></th>\n",
       "    </tr>\n",
       "  </thead>\n",
       "  <tbody>\n",
       "    <tr>\n",
       "      <th>336</th>\n",
       "      <td>город Москва (за исключением Троицкого и Новом...</td>\n",
       "      <td>19693307</td>\n",
       "      <td>Газ</td>\n",
       "      <td>руб/куб.м</td>\n",
       "      <td>01.07.2012</td>\n",
       "      <td>31.12.2012</td>\n",
       "      <td>да/нет</td>\n",
       "      <td>NaN</td>\n",
       "      <td>NaN</td>\n",
       "      <td>на приготовление пищи и нагрев воды с использо...</td>\n",
       "      <td>ООО «Газпром межрегионгаз Москва»</td>\n",
       "      <td>4.70</td>\n",
       "      <td>NaN</td>\n",
       "    </tr>\n",
       "    <tr>\n",
       "      <th>270</th>\n",
       "      <td>город Москва</td>\n",
       "      <td>19693594</td>\n",
       "      <td>Газ</td>\n",
       "      <td>руб/куб.м</td>\n",
       "      <td>11.01.2011</td>\n",
       "      <td>15.01.2012</td>\n",
       "      <td>да</td>\n",
       "      <td>NaN</td>\n",
       "      <td>NaN</td>\n",
       "      <td>на отопление жилых помещений, а также в случае...</td>\n",
       "      <td>ООО «Мосрегионгаз»</td>\n",
       "      <td>2.93</td>\n",
       "      <td>NaN</td>\n",
       "    </tr>\n",
       "    <tr>\n",
       "      <th>271</th>\n",
       "      <td>город Москва</td>\n",
       "      <td>19693595</td>\n",
       "      <td>Газ</td>\n",
       "      <td>руб/куб.м</td>\n",
       "      <td>11.01.2011</td>\n",
       "      <td>15.01.2012</td>\n",
       "      <td>да</td>\n",
       "      <td>NaN</td>\n",
       "      <td>NaN</td>\n",
       "      <td>на приготовление пищи и горячее водоснабжение ...</td>\n",
       "      <td>ООО «Мосрегионгаз»</td>\n",
       "      <td>4.09</td>\n",
       "      <td>NaN</td>\n",
       "    </tr>\n",
       "    <tr>\n",
       "      <th>332</th>\n",
       "      <td>город Москва (за исключением Троицкого и Новом...</td>\n",
       "      <td>19693623</td>\n",
       "      <td>Газ</td>\n",
       "      <td>руб/куб.м</td>\n",
       "      <td>01.07.2012</td>\n",
       "      <td>31.12.2012</td>\n",
       "      <td>да/нет</td>\n",
       "      <td>NaN</td>\n",
       "      <td>NaN</td>\n",
       "      <td>на приготовление пищи и нагрев воды с использо...</td>\n",
       "      <td>ООО «Газпром межрегионгаз Москва»</td>\n",
       "      <td>4.70</td>\n",
       "      <td>NaN</td>\n",
       "    </tr>\n",
       "    <tr>\n",
       "      <th>334</th>\n",
       "      <td>город Москва (за исключением Троицкого и Новом...</td>\n",
       "      <td>19693624</td>\n",
       "      <td>Газ</td>\n",
       "      <td>руб/куб.м</td>\n",
       "      <td>01.07.2012</td>\n",
       "      <td>31.12.2012</td>\n",
       "      <td>да/нет</td>\n",
       "      <td>NaN</td>\n",
       "      <td>NaN</td>\n",
       "      <td>на нагрев воды с использованием газового водон...</td>\n",
       "      <td>ООО «Газпром межрегионгаз Москва»</td>\n",
       "      <td>4.70</td>\n",
       "      <td>NaN</td>\n",
       "    </tr>\n",
       "    <tr>\n",
       "      <th>331</th>\n",
       "      <td>город Москва (за исключением Троицкого и Новом...</td>\n",
       "      <td>19693683</td>\n",
       "      <td>Газ</td>\n",
       "      <td>руб/куб.м</td>\n",
       "      <td>15.01.2012</td>\n",
       "      <td>30.06.2012</td>\n",
       "      <td>да/нет</td>\n",
       "      <td>NaN</td>\n",
       "      <td>NaN</td>\n",
       "      <td>на приготовление пищи и нагрев воды с использо...</td>\n",
       "      <td>ООО «Газпром межрегионгаз Москва»</td>\n",
       "      <td>4.09</td>\n",
       "      <td>NaN</td>\n",
       "    </tr>\n",
       "    <tr>\n",
       "      <th>333</th>\n",
       "      <td>город Москва (за исключением Троицкого и Новом...</td>\n",
       "      <td>19693684</td>\n",
       "      <td>Газ</td>\n",
       "      <td>руб/куб.м</td>\n",
       "      <td>15.01.2012</td>\n",
       "      <td>30.06.2012</td>\n",
       "      <td>да/нет</td>\n",
       "      <td>NaN</td>\n",
       "      <td>NaN</td>\n",
       "      <td>на нагрев воды с использованием газового водон...</td>\n",
       "      <td>ООО «Газпром межрегионгаз Москва»</td>\n",
       "      <td>4.09</td>\n",
       "      <td>NaN</td>\n",
       "    </tr>\n",
       "    <tr>\n",
       "      <th>335</th>\n",
       "      <td>город Москва (за исключением Троицкого и Новом...</td>\n",
       "      <td>19693685</td>\n",
       "      <td>Газ</td>\n",
       "      <td>руб/куб.м</td>\n",
       "      <td>15.01.2012</td>\n",
       "      <td>30.06.2012</td>\n",
       "      <td>да/нет</td>\n",
       "      <td>NaN</td>\n",
       "      <td>NaN</td>\n",
       "      <td>на приготовление пищи и нагрев воды с использо...</td>\n",
       "      <td>ООО «Газпром межрегионгаз Москва»</td>\n",
       "      <td>4.09</td>\n",
       "      <td>NaN</td>\n",
       "    </tr>\n",
       "  </tbody>\n",
       "</table>\n",
       "</div>"
      ],
      "text/plain": [
       "                                                Region  global_id TariffItem  \\\n",
       "ID                                                                             \n",
       "336  город Москва (за исключением Троицкого и Новом...   19693307        Газ   \n",
       "270                                       город Москва   19693594        Газ   \n",
       "271                                       город Москва   19693595        Газ   \n",
       "332  город Москва (за исключением Троицкого и Новом...   19693623        Газ   \n",
       "334  город Москва (за исключением Троицкого и Новом...   19693624        Газ   \n",
       "331  город Москва (за исключением Троицкого и Новом...   19693683        Газ   \n",
       "333  город Москва (за исключением Троицкого и Новом...   19693684        Газ   \n",
       "335  город Москва (за исключением Троицкого и Новом...   19693685        Газ   \n",
       "\n",
       "    UnitOfMeasure   StartDate     EndDate MeasureDeviceAvail StoveType  \\\n",
       "ID                                                                       \n",
       "336     руб/куб.м  01.07.2012  31.12.2012             да/нет       NaN   \n",
       "270     руб/куб.м  11.01.2011  15.01.2012                 да       NaN   \n",
       "271     руб/куб.м  11.01.2011  15.01.2012                 да       NaN   \n",
       "332     руб/куб.м  01.07.2012  31.12.2012             да/нет       NaN   \n",
       "334     руб/куб.м  01.07.2012  31.12.2012             да/нет       NaN   \n",
       "331     руб/куб.м  15.01.2012  30.06.2012             да/нет       NaN   \n",
       "333     руб/куб.м  15.01.2012  30.06.2012             да/нет       NaN   \n",
       "335     руб/куб.м  15.01.2012  30.06.2012             да/нет       NaN   \n",
       "\n",
       "    ConsumptionTime                                  ConsumptionTarget  \\\n",
       "ID                                                                       \n",
       "336             NaN  на приготовление пищи и нагрев воды с использо...   \n",
       "270             NaN  на отопление жилых помещений, а также в случае...   \n",
       "271             NaN  на приготовление пищи и горячее водоснабжение ...   \n",
       "332             NaN  на приготовление пищи и нагрев воды с использо...   \n",
       "334             NaN  на нагрев воды с использованием газового водон...   \n",
       "331             NaN  на приготовление пищи и нагрев воды с использо...   \n",
       "333             NaN  на нагрев воды с использованием газового водон...   \n",
       "335             NaN  на приготовление пищи и нагрев воды с использо...   \n",
       "\n",
       "                                Agency  TariffValue  Unnamed: 13  \n",
       "ID                                                                \n",
       "336  ООО «Газпром межрегионгаз Москва»         4.70          NaN  \n",
       "270                 ООО «Мосрегионгаз»         2.93          NaN  \n",
       "271                 ООО «Мосрегионгаз»         4.09          NaN  \n",
       "332  ООО «Газпром межрегионгаз Москва»         4.70          NaN  \n",
       "334  ООО «Газпром межрегионгаз Москва»         4.70          NaN  \n",
       "331  ООО «Газпром межрегионгаз Москва»         4.09          NaN  \n",
       "333  ООО «Газпром межрегионгаз Москва»         4.09          NaN  \n",
       "335  ООО «Газпром межрегионгаз Москва»         4.09          NaN  "
      ]
     },
     "execution_count": 186,
     "metadata": {},
     "output_type": "execute_result"
    }
   ],
   "source": [
    "df.query('TariffItem == \"Газ\" and UnitOfMeasure == \"руб/куб.м\"')"
   ]
  },
  {
   "cell_type": "markdown",
   "metadata": {},
   "source": [
    "### Задание 1\n",
    "В датафрейме `df` задана некоторая таблица. Написать функцию `get_rows_after_5(df, n)`, возвращающую датафрейм, в котором записано `n` строк, начиная с пятой сверху (включая 5-ю). Например, `get_row_after_5(df, 1)` должна вернуть только пятую строку, а `get_row_after_5(df, 2)` — 5-ю и 6-ю.\n",
    "\n",
    "**Внимание!** Индексами (именами строк) могут быть не числа, а что угодно."
   ]
  },
  {
   "cell_type": "markdown",
   "metadata": {},
   "source": [
    "### Задача 2\n",
    "В датафрейме `df` задана некоторая таблица, её индексами являются целые числа, не обязательно идущие по порядку. Написать функцию `between(df, n, m)`, возвращающую все строки этой таблицы, расположенные между строками с индексами `n` и `m`, включая строки с индексами `n` и `m`. Гарантируется, что строка с индексом `n` встречается раньше строки с индексом `m`."
   ]
  }
 ],
 "metadata": {
  "kernelspec": {
   "display_name": "Python 3 (ipykernel)",
   "language": "python",
   "name": "python3"
  },
  "language_info": {
   "codemirror_mode": {
    "name": "ipython",
    "version": 3
   },
   "file_extension": ".py",
   "mimetype": "text/x-python",
   "name": "python",
   "nbconvert_exporter": "python",
   "pygments_lexer": "ipython3",
   "version": "3.9.7"
  },
  "toc": {
   "base_numbering": 1,
   "nav_menu": {},
   "number_sections": true,
   "sideBar": true,
   "skip_h1_title": true,
   "title_cell": "Table of Contents",
   "title_sidebar": "Contents",
   "toc_cell": false,
   "toc_position": {},
   "toc_section_display": true,
   "toc_window_display": false
  }
 },
 "nbformat": 4,
 "nbformat_minor": 1
}
