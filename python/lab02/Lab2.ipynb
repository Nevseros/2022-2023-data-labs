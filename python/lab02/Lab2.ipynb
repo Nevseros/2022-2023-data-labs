{
 "cells": [
  {
   "cell_type": "markdown",
   "id": "b98d1f5f",
   "metadata": {},
   "source": [
    "# <center> Лабораторная работа № 2</center>\n",
    "Перед началом выполнения каждой лабораторной работы, необходимо выполнить код в двух ячейках ниже. В случае если модуль `datetime` не установлен нужно установить. В последнем принте, вывести свою фамилию и инициалы."
   ]
  },
  {
   "cell_type": "code",
   "execution_count": 1,
   "id": "f8704410",
   "metadata": {},
   "outputs": [
    {
     "name": "stdout",
     "output_type": "stream",
     "text": [
      "nevseros\\ҐЄ вҐаЁ­ \n"
     ]
    }
   ],
   "source": [
    "!whoami"
   ]
  },
  {
   "cell_type": "code",
   "execution_count": 2,
   "id": "7be587bf",
   "metadata": {},
   "outputs": [
    {
     "name": "stdout",
     "output_type": "stream",
     "text": [
      "2022-11-30 13:58:08.944781\n",
      "Kaneva E.P.\n"
     ]
    }
   ],
   "source": [
    "from datetime import datetime\n",
    "\n",
    "current_time = datetime.now()\n",
    "print(current_time)\n",
    "print(\"Kaneva E.P.\") # написать здесь свою фамилию и инициалы"
   ]
  },
  {
   "cell_type": "markdown",
   "id": "8de792ce",
   "metadata": {},
   "source": [
    "# Задания"
   ]
  },
  {
   "cell_type": "markdown",
   "id": "b3298390",
   "metadata": {},
   "source": [
    "**Задание 1.**\n",
    "\n",
    "1. Даны два списка одинаковых размеров из одинаковых элементов:  \n",
    "`items = [1 5 6 0 9 8 7 2 3 4]`  \n",
    "`shuffled_items = [0 2 3 4 1 6 5 7 9 8]`  \n",
    "\n",
    "2. Расставьте элементы (с помощью функции `sort()`) в списке `items` так, чтобы получился список `shuffled_items`  "
   ]
  },
  {
   "cell_type": "code",
   "execution_count": 9,
   "id": "458f7fa0",
   "metadata": {},
   "outputs": [
    {
     "name": "stdout",
     "output_type": "stream",
     "text": [
      "Before: [1, 5, 6, 0, 9, 8, 7, 2, 3, 4]\n",
      "After: [0, 2, 3, 4, 1, 6, 5, 7, 9, 8]\n",
      "items == shuffled_items is True\n"
     ]
    }
   ],
   "source": [
    "items = [1, 5, 6, 0, 9, 8, 7, 2, 3, 4]\n",
    "shuffled_items = [0, 2, 3, 4, 1, 6, 5, 7, 9, 8]\n",
    "\n",
    "print(\"Before:\", items)\n",
    "items = sorted(items, key = lambda i: shuffled_items.index(i))\n",
    "print(\"After:\", items)\n",
    "print(\"items == shuffled_items is\", items == shuffled_items)"
   ]
  },
  {
   "cell_type": "markdown",
   "id": "29181d2d",
   "metadata": {},
   "source": [
    "**Задание 2.** \n",
    "1. Создайте список `a`, состоящий из каких-то элементов.\n",
    "2. Создайте список `b` такого же размера, как `a`, состоящий из каких-то элементов.\n",
    "3. Выведите нумерованный список пар из элементов списков `a` и `b`."
   ]
  },
  {
   "cell_type": "code",
   "execution_count": 22,
   "id": "e9549ca3",
   "metadata": {},
   "outputs": [
    {
     "name": "stdout",
     "output_type": "stream",
     "text": [
      "1. (1, 2)\n",
      "2. (2, 4)\n",
      "3. (3, 6)\n",
      "4. (4, 8)\n",
      "5. (5, 0)\n",
      "6. (6, 1)\n",
      "7. (7, 3)\n",
      "8. (8, 5)\n",
      "9. (9, 7)\n",
      "10. (0, 9)\n"
     ]
    }
   ],
   "source": [
    "a = [1, 2, 3, 4, 5, 6, 7, 8, 9, 0]\n",
    "b = [2, 4, 6, 8, 0, 1, 3, 5, 7, 9]\n",
    "\n",
    "for i in range(len(a)):\n",
    "    a[i] = (a[i], b[i])\n",
    "    print(f\"{i + 1}.\", a[i])"
   ]
  },
  {
   "cell_type": "markdown",
   "id": "b21b69ff",
   "metadata": {},
   "source": [
    "**Задание 3.** \n",
    "1. Дан массив строк: `['agfkd.,f', 'Qksdf;sb&..', 'asdoo*', 'bgf...d', 're54()kj[]].'] `\n",
    "2. Создайте список, состоящий из количества точек в каждой строке. Выведите его\n",
    "3. Создайте новый список, в котором будут **только строки, в которых более 2-х точек**. Выведите его  \n",
    "\n",
    "Циклами пользоваться нельзя."
   ]
  },
  {
   "cell_type": "code",
   "execution_count": 23,
   "id": "4d13487a",
   "metadata": {},
   "outputs": [
    {
     "name": "stdout",
     "output_type": "stream",
     "text": [
      "Number of dots in each string: [1, 2, 0, 3, 1]\n",
      "Strings with more than 2 dots: ['bgf...d']\n"
     ]
    }
   ],
   "source": [
    "array = ['agfkd.,f', 'Qksdf;sb&..', 'asdoo*', 'bgf...d', 're54()kj[]].']\n",
    "numberOfDots = [string.count('.') for string in array]\n",
    "print(\"Number of dots in each string:\", numberOfDots)\n",
    "stringWithManyDots = [string for string in array if string.count('.') > 2]\n",
    "print(\"Strings with more than 2 dots:\", stringWithManyDots)"
   ]
  },
  {
   "cell_type": "markdown",
   "id": "6313c279",
   "metadata": {},
   "source": [
    "**Задание 4.** Напишите функцию, вычисляющую значения экспоненты по рекуррентной формуле $e^x = 1 + x + \\frac{x^2}{2!} + \\frac{x^3}{3!} + \\dots = \\sum_{n=0}^\\infty \\frac{x^n}{n!}$. Реализуйте контроль точности вычислений с помощью дополнительного параметра $\\varepsilon$ со значением по умолчанию (следует остановить вычисления, когда очередное приближение будет отличаться от предыдущего менее, чем на $10^{−10}$)."
   ]
  },
  {
   "cell_type": "code",
   "execution_count": 26,
   "id": "28480c47",
   "metadata": {},
   "outputs": [],
   "source": [
    "from math import exp"
   ]
  },
  {
   "cell_type": "code",
   "execution_count": 28,
   "id": "c49f8b1c",
   "metadata": {},
   "outputs": [
    {
     "name": "stdout",
     "output_type": "stream",
     "text": [
      "Введите показатель экспоненты: 1\n",
      "2.718281828459045\n",
      "2.7182818284467594\n"
     ]
    }
   ],
   "source": [
    "def EXPONENTA (x , eps = 10 ** (-10)):\n",
    "    a = 1\n",
    "    sum = 0\n",
    "    n = 1\n",
    "    while (a >= eps):\n",
    "        sum += a\n",
    "        a *= (x / n)\n",
    "        n += 1\n",
    "    return sum\n",
    "    pass\n",
    "\n",
    "# ввести показатель экспоненты\n",
    "a = float(input('Введите показатель экспоненты: '))\n",
    "print(exp(a))\n",
    "print(EXPONENTA(a))"
   ]
  },
  {
   "cell_type": "code",
   "execution_count": 29,
   "id": "d8a24a71",
   "metadata": {},
   "outputs": [],
   "source": [
    "# запустить после написания функции\n",
    "assert  round(EXPONENTA (a),9) == round(exp(a),9), \"функция считает не корректно\" # не удалять"
   ]
  }
 ],
 "metadata": {
  "kernelspec": {
   "display_name": "Python 3 (ipykernel)",
   "language": "python",
   "name": "python3"
  },
  "language_info": {
   "codemirror_mode": {
    "name": "ipython",
    "version": 3
   },
   "file_extension": ".py",
   "mimetype": "text/x-python",
   "name": "python",
   "nbconvert_exporter": "python",
   "pygments_lexer": "ipython3",
   "version": "3.9.7"
  },
  "toc": {
   "base_numbering": 1,
   "nav_menu": {},
   "number_sections": false,
   "sideBar": true,
   "skip_h1_title": false,
   "title_cell": "Table of Contents",
   "title_sidebar": "Contents",
   "toc_cell": false,
   "toc_position": {},
   "toc_section_display": true,
   "toc_window_display": false
  }
 },
 "nbformat": 4,
 "nbformat_minor": 5
}
