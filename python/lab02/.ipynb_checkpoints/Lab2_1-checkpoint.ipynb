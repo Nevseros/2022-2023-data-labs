{
 "cells": [
  {
   "cell_type": "markdown",
   "id": "d2663b1d",
   "metadata": {},
   "source": [
    "# <center> Лабораторная работа № 2</center>\n",
    "Перед началом выполнения каждой лабораторной работы, необходимо выполнить код в двух ячейках ниже. В случае если модуль `datetime` не установлен нужно установить. В последнем принте, вывести свою фамилию и инициалы."
   ]
  },
  {
   "cell_type": "code",
   "execution_count": 1,
   "id": "5f3bce01",
   "metadata": {},
   "outputs": [
    {
     "name": "stdout",
     "output_type": "stream",
     "text": [
      "simko\r\n"
     ]
    }
   ],
   "source": [
    "!whoami"
   ]
  },
  {
   "cell_type": "code",
   "execution_count": 2,
   "id": "dc446cf8",
   "metadata": {},
   "outputs": [
    {
     "name": "stdout",
     "output_type": "stream",
     "text": [
      "2022-11-28 22:13:53.948167\n",
      "Simko S.E.\n"
     ]
    }
   ],
   "source": [
    "from datetime import datetime\n",
    "\n",
    "current_time = datetime.now()\n",
    "print(current_time)\n",
    "print(\"Simko S.E.\") # написать здесь свою фамилию и инициалы"
   ]
  },
  {
   "cell_type": "markdown",
   "id": "f62c1192",
   "metadata": {},
   "source": [
    "# Задания"
   ]
  },
  {
   "cell_type": "markdown",
   "id": "45d9d729",
   "metadata": {},
   "source": [
    "**Задание 1.**\n",
    "\n",
    "1. Даны два списка одинаковых размеров из одинаковых элементов:  \n",
    "`items = [1 5 6 0 9 8 7 2 3 4]`  \n",
    "`shuffled_items = [0 2 3 4 1 6 5 7 9 8]`  \n",
    "\n",
    "2. Расставьте элементы (с помощью функции `sort()`) в списке `items` так, чтобы получился список `shuffled_items`  "
   ]
  },
  {
   "cell_type": "code",
   "execution_count": 1,
   "id": "38b27f7f",
   "metadata": {},
   "outputs": [
    {
     "name": "stdout",
     "output_type": "stream",
     "text": [
      "Исходный список: [1, 5, 6, 0, 9, 8, 7, 2, 3, 4]\n",
      "Новый список: [0, 2, 3, 4, 1, 6, 5, 7, 9, 8]\n",
      "items == shuffled_items is True\n"
     ]
    }
   ],
   "source": [
    "items = [1, 5, 6, 0, 9, 8, 7, 2, 3, 4]\n",
    "shuffled_items = [0, 2, 3, 4, 1, 6, 5, 7, 9, 8]\n",
    "\n",
    "print(\"Исходный список:\", items)\n",
    "# Полагаю, вы имели ввиду sorted()\n",
    "items = sorted(items, key = lambda i: shuffled_items.index(i))\n",
    "print(\"Новый список:\", items)\n",
    "print(\"items == shuffled_items is\", items == shuffled_items)"
   ]
  },
  {
   "cell_type": "markdown",
   "id": "301c720f",
   "metadata": {},
   "source": [
    "**Задание 2.** \n",
    "1. Создайте список `a`, состоящий из каких-то элементов.\n",
    "2. Создайте список `b` такого же размера, как `a`, состоящий из каких-то элементов.\n",
    "3. Выведите нумерованный список пар из элементов списков `a` и `b`."
   ]
  },
  {
   "cell_type": "code",
   "execution_count": 2,
   "id": "28e41329",
   "metadata": {},
   "outputs": [
    {
     "name": "stdout",
     "output_type": "stream",
     "text": [
      "[[1, 8], [2, 7], [3, 6], [4, 5], [5, 4], [6, 3], [7, 2], [8, 1]]\n"
     ]
    }
   ],
   "source": [
    "a = [1,2,3,4,5,6,7,8]\n",
    "b = [8,7,6,5,4,3,2,1]\n",
    "c = []\n",
    "for i in range(len(a)):\n",
    "    c.append([a[i], b[i]])\n",
    "print(c)"
   ]
  },
  {
   "cell_type": "markdown",
   "id": "a55ab353",
   "metadata": {},
   "source": [
    "**Задание 3.** \n",
    "1. Дан массив строк: `['agfkd.,f', 'Qksdf;sb&..', 'asdoo*', 'bgf...d', 're54()kj[]].'] `\n",
    "2. Создайте список, состоящий из количества точек в каждой строке. Выведите его\n",
    "3. Создайте новый список, в котором будут **только строки, в которых более 2-х точек**. Выведите его  \n",
    "\n",
    "Циклами пользоваться нельзя."
   ]
  },
  {
   "cell_type": "code",
   "execution_count": 13,
   "id": "bc99fbb1",
   "metadata": {},
   "outputs": [
    {
     "name": "stdout",
     "output_type": "stream",
     "text": [
      "[1, 2, 0, 3, 1]\n",
      "['bgf...d']\n"
     ]
    }
   ],
   "source": [
    "lst = ['agfkd.,f', 'Qksdf;sb&..', 'asdoo*', 'bgf...d', 're54()kj[]].']\n",
    "dots_count = [string.count('.') for string in lst]\n",
    "print(dots_count)\n",
    "lst_with_2_dots = [string for string in lst if string.count('.') > 2]\n",
    "print(lst_with_2_dots)"
   ]
  },
  {
   "cell_type": "markdown",
   "id": "4756ca64",
   "metadata": {},
   "source": [
    "**Задание 4.** Напишите функцию, вычисляющую значения экспоненты по рекуррентной формуле $e^x = 1 + x + \\frac{x^2}{2!} + \\frac{x^3}{3!} + \\dots = \\sum_{n=0}^\\infty \\frac{x^n}{n!}$. Реализуйте контроль точности вычислений с помощью дополнительного параметра $\\varepsilon$ со значением по умолчанию (следует остановить вычисления, когда очередное приближение будет отличаться от предыдущего менее, чем на $10^{−10}$)."
   ]
  },
  {
   "cell_type": "code",
   "execution_count": 5,
   "id": "1a596c0c",
   "metadata": {},
   "outputs": [],
   "source": [
    "from math import exp"
   ]
  },
  {
   "cell_type": "code",
   "execution_count": 48,
   "id": "305d9f92",
   "metadata": {},
   "outputs": [
    {
     "name": "stdout",
     "output_type": "stream",
     "text": [
      "Введите показатель экспоненты: 1\n",
      "2.718281828459045\n",
      "2.71828182845823\n"
     ]
    }
   ],
   "source": [
    "from math import factorial\n",
    "\n",
    "def EXPONENTA(x, eps = 10**(-10)):\n",
    "    n = 1\n",
    "    res = 1.0\n",
    "    while True:\n",
    "        temp_res = res\n",
    "        res += (x**n) / factorial(n)\n",
    "        n += 1\n",
    "        if (res - temp_res) < eps:\n",
    "            break\n",
    "    return res\n",
    "\n",
    "#ввести показатель экспоненты\n",
    "a = float(input('Введите показатель экспоненты: '))\n",
    "print(exp(a))\n",
    "print(EXPONENTA(a))"
   ]
  },
  {
   "cell_type": "code",
   "execution_count": 49,
   "id": "8d2e048e",
   "metadata": {},
   "outputs": [],
   "source": [
    "# запустить после написания функции\n",
    "assert  round(EXPONENTA (a),9) == round(exp(a),9), \"функция считает не корректно\" # не удалять"
   ]
  }
 ],
 "metadata": {
  "kernelspec": {
   "display_name": "Python 3 (ipykernel)",
   "language": "python",
   "name": "python3"
  },
  "language_info": {
   "codemirror_mode": {
    "name": "ipython",
    "version": 3
   },
   "file_extension": ".py",
   "mimetype": "text/x-python",
   "name": "python",
   "nbconvert_exporter": "python",
   "pygments_lexer": "ipython3",
   "version": "3.9.7"
  },
  "toc": {
   "base_numbering": 1,
   "nav_menu": {},
   "number_sections": false,
   "sideBar": true,
   "skip_h1_title": false,
   "title_cell": "Table of Contents",
   "title_sidebar": "Contents",
   "toc_cell": false,
   "toc_position": {},
   "toc_section_display": true,
   "toc_window_display": false
  }
 },
 "nbformat": 4,
 "nbformat_minor": 5
}
