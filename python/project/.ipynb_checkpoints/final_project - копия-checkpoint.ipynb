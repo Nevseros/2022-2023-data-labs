{
 "cells": [
  {
   "cell_type": "markdown",
   "id": "b98d1f5f",
   "metadata": {},
   "source": [
    "# <center> Проект</center>\n",
    "Перед началом выполнения проекта, необходимо изменить имя вашего ноутбука/ПК на вашу фамилию на английском языке (например: **Ivanov**). Затем <font color='red'> **обязательно выполнить код в ячейках ниже (их 4)**</font> (*в случае не выполнения, будут вычиляться 5 баллов из проекта*). В случае если модуль `datetime` не установлен нужно установить."
   ]
  },
  {
   "cell_type": "code",
   "execution_count": 1,
   "id": "be6ba034",
   "metadata": {},
   "outputs": [
    {
     "data": {
      "text/plain": [
       "'Ekaterina'"
      ]
     },
     "execution_count": 1,
     "metadata": {},
     "output_type": "execute_result"
    }
   ],
   "source": [
    "import os\n",
    "os.getlogin()"
   ]
  },
  {
   "cell_type": "code",
   "execution_count": 2,
   "id": "8918c98a",
   "metadata": {},
   "outputs": [
    {
     "data": {
      "text/plain": [
       "'192.168.56.1'"
      ]
     },
     "execution_count": 2,
     "metadata": {},
     "output_type": "execute_result"
    }
   ],
   "source": [
    "import socket\n",
    "socket.gethostbyname(socket.gethostname())"
   ]
  },
  {
   "cell_type": "code",
   "execution_count": 3,
   "id": "f8704410",
   "metadata": {
    "scrolled": true
   },
   "outputs": [
    {
     "name": "stdout",
     "output_type": "stream",
     "text": [
      "kaneva\\ekaterina\n"
     ]
    }
   ],
   "source": [
    "!whoami"
   ]
  },
  {
   "cell_type": "code",
   "execution_count": 4,
   "id": "7be587bf",
   "metadata": {},
   "outputs": [
    {
     "name": "stdout",
     "output_type": "stream",
     "text": [
      "2022-12-27 18:36:40.501256\n",
      "Kaneva E.P.\n"
     ]
    }
   ],
   "source": [
    "from datetime import datetime\n",
    "\n",
    "current_time = datetime.now()\n",
    "print(current_time)\n",
    "print(\"Kaneva E.P.\") # написать здесь свою фамилию и инициалы"
   ]
  },
  {
   "cell_type": "markdown",
   "id": "8de792ce",
   "metadata": {},
   "source": [
    "Скачайте таблицы в формате .csv из pgadmin и далее считайте данные таблицы.\n",
    "\n",
    "### **Предобработка данных для их изучения.**\n",
    "\n",
    "1.\tВыведите по 5 строк из каждой таблицы.\n",
    "2.\tВведите информацию о каждой таблице и изучите её (возможно есть какие-то странности). Опишите полученные данные.\n",
    "3.\tПроверьте данные на пропуски и дубликаты.\n",
    "4.\tВычислите сводную (описательную) статистику о данных датафреймов (таблиц) и выведите её.\n",
    "5.\tЕсли в некоторых столбцах нужно изменить данные, измените их и аргументируйте зачем их стоит изменить (например, дата должна иметь тип данных `datetime64`, а не `object`).\n",
    "\n",
    "### **Задания:**\n",
    "\n",
    "1.\tНайдите все параметры ПК, имеющие 8x или 40x CD и цену более 600. Отсортируйте по скорости и цене. \n",
    "2.\tДля каждого производителя, выпускающего лаптоты c объёмом жесткого диска не менее 10 Гбайт и ОЗУ не менее 64 мб, найти скорости таких лаптопов. Выведите производителей и скорость. *Нарисуйте график зависимости скоростей от полученных моделей ноутбуков.*\n",
    "3.\tНайдите номера моделей, тип и цены всех ноутбуков производителя А. Отсортируйте по убыванию цены. Постройте гистограмму изменения цены.\n",
    "4.\tНайдите производителя, номер модели и цену среди ноутбуков с наибольшей стоимостью до 1000. *Нарисуйте график зависимости цен от всех производителей ноутбуков.*\n",
    "5.\tНайдите для каждой модели ПК их количество, максимальное и минимальное ram, сгруппируйте по моделям; переименуйте колонки макс. и мин. в “max/min_ram”.\n",
    "6.\tПроверьте гипотезу: «Самые дорогие ноутбуки у производителя А». Опишите полученный результат.\n",
    "7.\tПостройте матрицы корреляции для всех таблиц. Необязательно, но, если будет желание, нарисовать график тепловой карты матриц корреляции используя функцию heatmap из библиотеки seaborn.\n",
    "8.\tНарисуйте график (*не графики, на одном графике должно отображаться всё*) зависимости цены ноутбука/ПК от объёма жесткого диска. Опишите ваши наблюдения, существует ли какая-то зависимость и т.п.\n",
    "9.\tНайдите:  \n",
    "    a.\tколичество товаров каждого типа у каждого производителя; постройте график pie, на котором должна отображаться доля каждого производителя.  \n",
    "    b.\tсамый дорогой товар каждого типа, вывести тип и цену.  \n",
    "    c.\tпроизводителей, делающих ноутбуки и пк ценой более 600 долларов, но которые не производят принтеры, вывести производителя.\n",
    "10.\tВыведите новую цену каждого ноутбука и ПК получив её как модель+цена+ram. Дайте колонке название ‘strange_sum’ ;\n",
    "11.\tНайти производителей, делающих ноутбуки и ПК, но не принтеры;\n",
    "12.\tНайдите производителя ПК и модель, чья цена ниже средней цены ноутбука, а ram и скорость больше в 1.5 и 1.2 раза соответственно;\n",
    "13.\tНаписать общий вывод о полученных результатах (какие важные закономерности были вами обнаружены или получены и т.п.)\n"
   ]
  },
  {
   "cell_type": "code",
   "execution_count": 1,
   "id": "7143722a",
   "metadata": {},
   "outputs": [],
   "source": [
    "import pandas as pd\n",
    "# считайте данные таблицы\n",
    "lp = pd.read_csv('laptop.csv', index_col = 0)\n",
    "pc = pd.read_csv('pc.csv', index_col = 0)\n",
    "pr = pd.read_csv('printer.csv', index_col = 0)\n",
    "p = pd.read_csv('product.csv')"
   ]
  },
  {
   "cell_type": "markdown",
   "id": "d03d633b",
   "metadata": {},
   "source": [
    "### Предобработка данных для их изучения.\n",
    "\n",
    "1. Выведите по 5 строк с каждой таблицы."
   ]
  },
  {
   "cell_type": "code",
   "execution_count": 2,
   "id": "c609c7d9",
   "metadata": {
    "scrolled": false
   },
   "outputs": [
    {
     "data": {
      "text/html": [
       "<div>\n",
       "<style scoped>\n",
       "    .dataframe tbody tr th:only-of-type {\n",
       "        vertical-align: middle;\n",
       "    }\n",
       "\n",
       "    .dataframe tbody tr th {\n",
       "        vertical-align: top;\n",
       "    }\n",
       "\n",
       "    .dataframe thead th {\n",
       "        text-align: right;\n",
       "    }\n",
       "</style>\n",
       "<table border=\"1\" class=\"dataframe\">\n",
       "  <thead>\n",
       "    <tr style=\"text-align: right;\">\n",
       "      <th></th>\n",
       "      <th>model</th>\n",
       "      <th>speed</th>\n",
       "      <th>ram</th>\n",
       "      <th>hd</th>\n",
       "      <th>price</th>\n",
       "      <th>screen</th>\n",
       "    </tr>\n",
       "    <tr>\n",
       "      <th>code</th>\n",
       "      <th></th>\n",
       "      <th></th>\n",
       "      <th></th>\n",
       "      <th></th>\n",
       "      <th></th>\n",
       "      <th></th>\n",
       "    </tr>\n",
       "  </thead>\n",
       "  <tbody>\n",
       "    <tr>\n",
       "      <th>1</th>\n",
       "      <td>1298</td>\n",
       "      <td>350</td>\n",
       "      <td>32</td>\n",
       "      <td>4</td>\n",
       "      <td>700.0</td>\n",
       "      <td>11</td>\n",
       "    </tr>\n",
       "    <tr>\n",
       "      <th>2</th>\n",
       "      <td>1321</td>\n",
       "      <td>500</td>\n",
       "      <td>64</td>\n",
       "      <td>8</td>\n",
       "      <td>970.0</td>\n",
       "      <td>12</td>\n",
       "    </tr>\n",
       "    <tr>\n",
       "      <th>3</th>\n",
       "      <td>1750</td>\n",
       "      <td>750</td>\n",
       "      <td>128</td>\n",
       "      <td>12</td>\n",
       "      <td>1200.0</td>\n",
       "      <td>14</td>\n",
       "    </tr>\n",
       "    <tr>\n",
       "      <th>4</th>\n",
       "      <td>1298</td>\n",
       "      <td>600</td>\n",
       "      <td>64</td>\n",
       "      <td>10</td>\n",
       "      <td>1050.0</td>\n",
       "      <td>15</td>\n",
       "    </tr>\n",
       "    <tr>\n",
       "      <th>5</th>\n",
       "      <td>1752</td>\n",
       "      <td>750</td>\n",
       "      <td>128</td>\n",
       "      <td>10</td>\n",
       "      <td>1150.0</td>\n",
       "      <td>14</td>\n",
       "    </tr>\n",
       "  </tbody>\n",
       "</table>\n",
       "</div>"
      ],
      "text/plain": [
       "      model  speed  ram  hd   price  screen\n",
       "code                                       \n",
       "1      1298    350   32   4   700.0      11\n",
       "2      1321    500   64   8   970.0      12\n",
       "3      1750    750  128  12  1200.0      14\n",
       "4      1298    600   64  10  1050.0      15\n",
       "5      1752    750  128  10  1150.0      14"
      ]
     },
     "execution_count": 2,
     "metadata": {},
     "output_type": "execute_result"
    }
   ],
   "source": [
    "# вывод первых 5 строк\n",
    "lp.head()"
   ]
  },
  {
   "cell_type": "code",
   "execution_count": 3,
   "id": "6971a10b",
   "metadata": {},
   "outputs": [
    {
     "data": {
      "text/html": [
       "<div>\n",
       "<style scoped>\n",
       "    .dataframe tbody tr th:only-of-type {\n",
       "        vertical-align: middle;\n",
       "    }\n",
       "\n",
       "    .dataframe tbody tr th {\n",
       "        vertical-align: top;\n",
       "    }\n",
       "\n",
       "    .dataframe thead th {\n",
       "        text-align: right;\n",
       "    }\n",
       "</style>\n",
       "<table border=\"1\" class=\"dataframe\">\n",
       "  <thead>\n",
       "    <tr style=\"text-align: right;\">\n",
       "      <th></th>\n",
       "      <th>model</th>\n",
       "      <th>speed</th>\n",
       "      <th>ram</th>\n",
       "      <th>hd</th>\n",
       "      <th>cd</th>\n",
       "      <th>price</th>\n",
       "    </tr>\n",
       "    <tr>\n",
       "      <th>code</th>\n",
       "      <th></th>\n",
       "      <th></th>\n",
       "      <th></th>\n",
       "      <th></th>\n",
       "      <th></th>\n",
       "      <th></th>\n",
       "    </tr>\n",
       "  </thead>\n",
       "  <tbody>\n",
       "    <tr>\n",
       "      <th>1</th>\n",
       "      <td>1232</td>\n",
       "      <td>500</td>\n",
       "      <td>64</td>\n",
       "      <td>5</td>\n",
       "      <td>12x</td>\n",
       "      <td>600.0</td>\n",
       "    </tr>\n",
       "    <tr>\n",
       "      <th>10</th>\n",
       "      <td>1260</td>\n",
       "      <td>500</td>\n",
       "      <td>32</td>\n",
       "      <td>10</td>\n",
       "      <td>12x</td>\n",
       "      <td>350.0</td>\n",
       "    </tr>\n",
       "    <tr>\n",
       "      <th>11</th>\n",
       "      <td>1233</td>\n",
       "      <td>900</td>\n",
       "      <td>128</td>\n",
       "      <td>40</td>\n",
       "      <td>40x</td>\n",
       "      <td>980.0</td>\n",
       "    </tr>\n",
       "    <tr>\n",
       "      <th>12</th>\n",
       "      <td>1233</td>\n",
       "      <td>800</td>\n",
       "      <td>128</td>\n",
       "      <td>20</td>\n",
       "      <td>50x</td>\n",
       "      <td>970.0</td>\n",
       "    </tr>\n",
       "    <tr>\n",
       "      <th>2</th>\n",
       "      <td>1121</td>\n",
       "      <td>750</td>\n",
       "      <td>128</td>\n",
       "      <td>14</td>\n",
       "      <td>40x</td>\n",
       "      <td>850.0</td>\n",
       "    </tr>\n",
       "  </tbody>\n",
       "</table>\n",
       "</div>"
      ],
      "text/plain": [
       "      model  speed  ram  hd   cd  price\n",
       "code                                   \n",
       "1      1232    500   64   5  12x  600.0\n",
       "10     1260    500   32  10  12x  350.0\n",
       "11     1233    900  128  40  40x  980.0\n",
       "12     1233    800  128  20  50x  970.0\n",
       "2      1121    750  128  14  40x  850.0"
      ]
     },
     "execution_count": 3,
     "metadata": {},
     "output_type": "execute_result"
    }
   ],
   "source": [
    "pc.head()"
   ]
  },
  {
   "cell_type": "code",
   "execution_count": 4,
   "id": "9a4d16d4",
   "metadata": {},
   "outputs": [
    {
     "data": {
      "text/html": [
       "<div>\n",
       "<style scoped>\n",
       "    .dataframe tbody tr th:only-of-type {\n",
       "        vertical-align: middle;\n",
       "    }\n",
       "\n",
       "    .dataframe tbody tr th {\n",
       "        vertical-align: top;\n",
       "    }\n",
       "\n",
       "    .dataframe thead th {\n",
       "        text-align: right;\n",
       "    }\n",
       "</style>\n",
       "<table border=\"1\" class=\"dataframe\">\n",
       "  <thead>\n",
       "    <tr style=\"text-align: right;\">\n",
       "      <th></th>\n",
       "      <th>model</th>\n",
       "      <th>color</th>\n",
       "      <th>type</th>\n",
       "      <th>price</th>\n",
       "    </tr>\n",
       "    <tr>\n",
       "      <th>code</th>\n",
       "      <th></th>\n",
       "      <th></th>\n",
       "      <th></th>\n",
       "      <th></th>\n",
       "    </tr>\n",
       "  </thead>\n",
       "  <tbody>\n",
       "    <tr>\n",
       "      <th>1</th>\n",
       "      <td>1276</td>\n",
       "      <td>n</td>\n",
       "      <td>Laser</td>\n",
       "      <td>400.0</td>\n",
       "    </tr>\n",
       "    <tr>\n",
       "      <th>2</th>\n",
       "      <td>1433</td>\n",
       "      <td>y</td>\n",
       "      <td>Jet</td>\n",
       "      <td>270.0</td>\n",
       "    </tr>\n",
       "    <tr>\n",
       "      <th>3</th>\n",
       "      <td>1434</td>\n",
       "      <td>y</td>\n",
       "      <td>Jet</td>\n",
       "      <td>290.0</td>\n",
       "    </tr>\n",
       "    <tr>\n",
       "      <th>4</th>\n",
       "      <td>1401</td>\n",
       "      <td>n</td>\n",
       "      <td>Matrix</td>\n",
       "      <td>150.0</td>\n",
       "    </tr>\n",
       "    <tr>\n",
       "      <th>5</th>\n",
       "      <td>1408</td>\n",
       "      <td>n</td>\n",
       "      <td>Matrix</td>\n",
       "      <td>270.0</td>\n",
       "    </tr>\n",
       "  </tbody>\n",
       "</table>\n",
       "</div>"
      ],
      "text/plain": [
       "      model color    type  price\n",
       "code                            \n",
       "1      1276     n   Laser  400.0\n",
       "2      1433     y     Jet  270.0\n",
       "3      1434     y     Jet  290.0\n",
       "4      1401     n  Matrix  150.0\n",
       "5      1408     n  Matrix  270.0"
      ]
     },
     "execution_count": 4,
     "metadata": {},
     "output_type": "execute_result"
    }
   ],
   "source": [
    "pr.head()"
   ]
  },
  {
   "cell_type": "code",
   "execution_count": 5,
   "id": "f4f34e84",
   "metadata": {},
   "outputs": [
    {
     "data": {
      "text/html": [
       "<div>\n",
       "<style scoped>\n",
       "    .dataframe tbody tr th:only-of-type {\n",
       "        vertical-align: middle;\n",
       "    }\n",
       "\n",
       "    .dataframe tbody tr th {\n",
       "        vertical-align: top;\n",
       "    }\n",
       "\n",
       "    .dataframe thead th {\n",
       "        text-align: right;\n",
       "    }\n",
       "</style>\n",
       "<table border=\"1\" class=\"dataframe\">\n",
       "  <thead>\n",
       "    <tr style=\"text-align: right;\">\n",
       "      <th></th>\n",
       "      <th>maker</th>\n",
       "      <th>model</th>\n",
       "      <th>type</th>\n",
       "    </tr>\n",
       "  </thead>\n",
       "  <tbody>\n",
       "    <tr>\n",
       "      <th>0</th>\n",
       "      <td>A</td>\n",
       "      <td>1232</td>\n",
       "      <td>PC</td>\n",
       "    </tr>\n",
       "    <tr>\n",
       "      <th>1</th>\n",
       "      <td>A</td>\n",
       "      <td>1233</td>\n",
       "      <td>PC</td>\n",
       "    </tr>\n",
       "    <tr>\n",
       "      <th>2</th>\n",
       "      <td>A</td>\n",
       "      <td>1276</td>\n",
       "      <td>Printer</td>\n",
       "    </tr>\n",
       "    <tr>\n",
       "      <th>3</th>\n",
       "      <td>A</td>\n",
       "      <td>1298</td>\n",
       "      <td>Laptop</td>\n",
       "    </tr>\n",
       "    <tr>\n",
       "      <th>4</th>\n",
       "      <td>A</td>\n",
       "      <td>1401</td>\n",
       "      <td>Printer</td>\n",
       "    </tr>\n",
       "  </tbody>\n",
       "</table>\n",
       "</div>"
      ],
      "text/plain": [
       "  maker  model     type\n",
       "0     A   1232       PC\n",
       "1     A   1233       PC\n",
       "2     A   1276  Printer\n",
       "3     A   1298   Laptop\n",
       "4     A   1401  Printer"
      ]
     },
     "execution_count": 5,
     "metadata": {},
     "output_type": "execute_result"
    }
   ],
   "source": [
    "p.head()"
   ]
  },
  {
   "cell_type": "markdown",
   "id": "8dce637b",
   "metadata": {},
   "source": [
    "2. Введите информацию о каждой таблицы и изучите их (возможно есть какие-то странности. Опишите полученные данные."
   ]
  },
  {
   "cell_type": "code",
   "execution_count": 6,
   "id": "d329dd8e",
   "metadata": {
    "scrolled": false
   },
   "outputs": [
    {
     "name": "stdout",
     "output_type": "stream",
     "text": [
      "<class 'pandas.core.frame.DataFrame'>\n",
      "Int64Index: 6 entries, 1 to 6\n",
      "Data columns (total 6 columns):\n",
      " #   Column  Non-Null Count  Dtype  \n",
      "---  ------  --------------  -----  \n",
      " 0   model   6 non-null      int64  \n",
      " 1   speed   6 non-null      int64  \n",
      " 2   ram     6 non-null      int64  \n",
      " 3   hd      6 non-null      int64  \n",
      " 4   price   6 non-null      float64\n",
      " 5   screen  6 non-null      int64  \n",
      "dtypes: float64(1), int64(5)\n",
      "memory usage: 336.0 bytes\n"
     ]
    }
   ],
   "source": [
    "lp.info()"
   ]
  },
  {
   "cell_type": "code",
   "execution_count": 7,
   "id": "5924b79f",
   "metadata": {},
   "outputs": [
    {
     "name": "stdout",
     "output_type": "stream",
     "text": [
      "<class 'pandas.core.frame.DataFrame'>\n",
      "Int64Index: 12 entries, 1 to 9\n",
      "Data columns (total 6 columns):\n",
      " #   Column  Non-Null Count  Dtype  \n",
      "---  ------  --------------  -----  \n",
      " 0   model   12 non-null     int64  \n",
      " 1   speed   12 non-null     int64  \n",
      " 2   ram     12 non-null     int64  \n",
      " 3   hd      12 non-null     int64  \n",
      " 4   cd      12 non-null     object \n",
      " 5   price   12 non-null     float64\n",
      "dtypes: float64(1), int64(4), object(1)\n",
      "memory usage: 672.0+ bytes\n"
     ]
    }
   ],
   "source": [
    "pc.info()"
   ]
  },
  {
   "cell_type": "code",
   "execution_count": 8,
   "id": "290dfddd",
   "metadata": {},
   "outputs": [
    {
     "name": "stdout",
     "output_type": "stream",
     "text": [
      "<class 'pandas.core.frame.DataFrame'>\n",
      "Int64Index: 6 entries, 1 to 6\n",
      "Data columns (total 4 columns):\n",
      " #   Column  Non-Null Count  Dtype  \n",
      "---  ------  --------------  -----  \n",
      " 0   model   6 non-null      int64  \n",
      " 1   color   6 non-null      object \n",
      " 2   type    6 non-null      object \n",
      " 3   price   6 non-null      float64\n",
      "dtypes: float64(1), int64(1), object(2)\n",
      "memory usage: 240.0+ bytes\n"
     ]
    }
   ],
   "source": [
    "pr.info()"
   ]
  },
  {
   "cell_type": "code",
   "execution_count": 9,
   "id": "e0634fe0",
   "metadata": {
    "scrolled": true
   },
   "outputs": [
    {
     "name": "stdout",
     "output_type": "stream",
     "text": [
      "<class 'pandas.core.frame.DataFrame'>\n",
      "RangeIndex: 16 entries, 0 to 15\n",
      "Data columns (total 3 columns):\n",
      " #   Column  Non-Null Count  Dtype \n",
      "---  ------  --------------  ----- \n",
      " 0   maker   16 non-null     object\n",
      " 1   model   16 non-null     int64 \n",
      " 2   type    16 non-null     object\n",
      "dtypes: int64(1), object(2)\n",
      "memory usage: 512.0+ bytes\n"
     ]
    }
   ],
   "source": [
    "p.info()"
   ]
  },
  {
   "cell_type": "markdown",
   "id": "ededd9f7",
   "metadata": {},
   "source": [
    "Никаких странностей нет. Таблицы имеют общий столбец `model`, с помощью которого можно устанавливать связь между таблицей `p` (`product`) и остальными тремя."
   ]
  },
  {
   "cell_type": "markdown",
   "id": "23dc7d9c",
   "metadata": {},
   "source": [
    "3. Проверьте данные на пропуски и дубликаты."
   ]
  },
  {
   "cell_type": "code",
   "execution_count": 10,
   "id": "c52b27d9",
   "metadata": {},
   "outputs": [
    {
     "name": "stdout",
     "output_type": "stream",
     "text": [
      "Duplicates in \"laptop.csv\": 0.\n",
      "Duplicates in \"pc.csv\": 0.\n",
      "Duplicates in \"printer.csv\": 0.\n",
      "Duplicates in \"product.csv\": 0.\n"
     ]
    }
   ],
   "source": [
    "# проверка на дубликаты\n",
    "print(f'Duplicates in \"laptop.csv\": {lp.duplicated().sum()}.')\n",
    "print(f'Duplicates in \"pc.csv\": {pc.duplicated().sum()}.')\n",
    "print(f'Duplicates in \"printer.csv\": {pr.duplicated().sum()}.')\n",
    "print(f'Duplicates in \"product.csv\": {p.duplicated().sum()}.')"
   ]
  },
  {
   "cell_type": "code",
   "execution_count": 11,
   "id": "7f6be797",
   "metadata": {},
   "outputs": [
    {
     "name": "stdout",
     "output_type": "stream",
     "text": [
      "Empty entries in \"laptop.csv\": \n",
      "model     0\n",
      "speed     0\n",
      "ram       0\n",
      "hd        0\n",
      "price     0\n",
      "screen    0\n",
      "dtype: int64.\n",
      "\n",
      "Empty entries in \"pc.csv\": \n",
      "model    0\n",
      "speed    0\n",
      "ram      0\n",
      "hd       0\n",
      "cd       0\n",
      "price    0\n",
      "dtype: int64.\n",
      "\n",
      "Empty entries in \"printer.csv\": \n",
      "model    0\n",
      "color    0\n",
      "type     0\n",
      "price    0\n",
      "dtype: int64.\n",
      "\n",
      "Empty entries in \"product.csv\": \n",
      "maker    0\n",
      "model    0\n",
      "type     0\n",
      "dtype: int64.\n",
      "\n"
     ]
    }
   ],
   "source": [
    "# проверка на пропуски \n",
    "print(f'Empty entries in \"laptop.csv\": \\n{lp.isna().sum()}.\\n')\n",
    "print(f'Empty entries in \"pc.csv\": \\n{pc.isna().sum()}.\\n')\n",
    "print(f'Empty entries in \"printer.csv\": \\n{pr.isna().sum()}.\\n')\n",
    "print(f'Empty entries in \"product.csv\": \\n{p.isna().sum()}.\\n')"
   ]
  },
  {
   "cell_type": "markdown",
   "id": "7921940d",
   "metadata": {},
   "source": [
    "4.\tВычислите сводную (описательную) статистику о данных датафреймов (таблиц) и выведите ее."
   ]
  },
  {
   "cell_type": "code",
   "execution_count": 12,
   "id": "4296ee70",
   "metadata": {},
   "outputs": [
    {
     "data": {
      "text/html": [
       "<div>\n",
       "<style scoped>\n",
       "    .dataframe tbody tr th:only-of-type {\n",
       "        vertical-align: middle;\n",
       "    }\n",
       "\n",
       "    .dataframe tbody tr th {\n",
       "        vertical-align: top;\n",
       "    }\n",
       "\n",
       "    .dataframe thead th {\n",
       "        text-align: right;\n",
       "    }\n",
       "</style>\n",
       "<table border=\"1\" class=\"dataframe\">\n",
       "  <thead>\n",
       "    <tr style=\"text-align: right;\">\n",
       "      <th></th>\n",
       "      <th>model</th>\n",
       "      <th>speed</th>\n",
       "      <th>ram</th>\n",
       "      <th>hd</th>\n",
       "      <th>price</th>\n",
       "      <th>screen</th>\n",
       "    </tr>\n",
       "  </thead>\n",
       "  <tbody>\n",
       "    <tr>\n",
       "      <th>count</th>\n",
       "      <td>6.000000</td>\n",
       "      <td>6.000000</td>\n",
       "      <td>6.000000</td>\n",
       "      <td>6.00000</td>\n",
       "      <td>6.000000</td>\n",
       "      <td>6.000000</td>\n",
       "    </tr>\n",
       "    <tr>\n",
       "      <th>mean</th>\n",
       "      <td>1452.833333</td>\n",
       "      <td>566.666667</td>\n",
       "      <td>80.000000</td>\n",
       "      <td>9.00000</td>\n",
       "      <td>1003.333333</td>\n",
       "      <td>13.000000</td>\n",
       "    </tr>\n",
       "    <tr>\n",
       "      <th>std</th>\n",
       "      <td>231.131492</td>\n",
       "      <td>163.299316</td>\n",
       "      <td>39.191836</td>\n",
       "      <td>2.75681</td>\n",
       "      <td>177.951304</td>\n",
       "      <td>1.549193</td>\n",
       "    </tr>\n",
       "    <tr>\n",
       "      <th>min</th>\n",
       "      <td>1298.000000</td>\n",
       "      <td>350.000000</td>\n",
       "      <td>32.000000</td>\n",
       "      <td>4.00000</td>\n",
       "      <td>700.000000</td>\n",
       "      <td>11.000000</td>\n",
       "    </tr>\n",
       "    <tr>\n",
       "      <th>25%</th>\n",
       "      <td>1298.000000</td>\n",
       "      <td>462.500000</td>\n",
       "      <td>64.000000</td>\n",
       "      <td>8.50000</td>\n",
       "      <td>955.000000</td>\n",
       "      <td>12.000000</td>\n",
       "    </tr>\n",
       "    <tr>\n",
       "      <th>50%</th>\n",
       "      <td>1309.500000</td>\n",
       "      <td>550.000000</td>\n",
       "      <td>64.000000</td>\n",
       "      <td>10.00000</td>\n",
       "      <td>1010.000000</td>\n",
       "      <td>13.000000</td>\n",
       "    </tr>\n",
       "    <tr>\n",
       "      <th>75%</th>\n",
       "      <td>1642.750000</td>\n",
       "      <td>712.500000</td>\n",
       "      <td>112.000000</td>\n",
       "      <td>10.00000</td>\n",
       "      <td>1125.000000</td>\n",
       "      <td>14.000000</td>\n",
       "    </tr>\n",
       "    <tr>\n",
       "      <th>max</th>\n",
       "      <td>1752.000000</td>\n",
       "      <td>750.000000</td>\n",
       "      <td>128.000000</td>\n",
       "      <td>12.00000</td>\n",
       "      <td>1200.000000</td>\n",
       "      <td>15.000000</td>\n",
       "    </tr>\n",
       "  </tbody>\n",
       "</table>\n",
       "</div>"
      ],
      "text/plain": [
       "             model       speed         ram        hd        price     screen\n",
       "count     6.000000    6.000000    6.000000   6.00000     6.000000   6.000000\n",
       "mean   1452.833333  566.666667   80.000000   9.00000  1003.333333  13.000000\n",
       "std     231.131492  163.299316   39.191836   2.75681   177.951304   1.549193\n",
       "min    1298.000000  350.000000   32.000000   4.00000   700.000000  11.000000\n",
       "25%    1298.000000  462.500000   64.000000   8.50000   955.000000  12.000000\n",
       "50%    1309.500000  550.000000   64.000000  10.00000  1010.000000  13.000000\n",
       "75%    1642.750000  712.500000  112.000000  10.00000  1125.000000  14.000000\n",
       "max    1752.000000  750.000000  128.000000  12.00000  1200.000000  15.000000"
      ]
     },
     "execution_count": 12,
     "metadata": {},
     "output_type": "execute_result"
    }
   ],
   "source": [
    "# for laptop.csv\n",
    "lp.describe()"
   ]
  },
  {
   "cell_type": "code",
   "execution_count": 13,
   "id": "5bf5edc1",
   "metadata": {},
   "outputs": [
    {
     "data": {
      "text/html": [
       "<div>\n",
       "<style scoped>\n",
       "    .dataframe tbody tr th:only-of-type {\n",
       "        vertical-align: middle;\n",
       "    }\n",
       "\n",
       "    .dataframe tbody tr th {\n",
       "        vertical-align: top;\n",
       "    }\n",
       "\n",
       "    .dataframe thead th {\n",
       "        text-align: right;\n",
       "    }\n",
       "</style>\n",
       "<table border=\"1\" class=\"dataframe\">\n",
       "  <thead>\n",
       "    <tr style=\"text-align: right;\">\n",
       "      <th></th>\n",
       "      <th>model</th>\n",
       "      <th>speed</th>\n",
       "      <th>ram</th>\n",
       "      <th>hd</th>\n",
       "      <th>price</th>\n",
       "    </tr>\n",
       "  </thead>\n",
       "  <tbody>\n",
       "    <tr>\n",
       "      <th>count</th>\n",
       "      <td>12.000000</td>\n",
       "      <td>12.000000</td>\n",
       "      <td>12.000000</td>\n",
       "      <td>12.000000</td>\n",
       "      <td>12.000000</td>\n",
       "    </tr>\n",
       "    <tr>\n",
       "      <th>mean</th>\n",
       "      <td>1206.916667</td>\n",
       "      <td>608.333333</td>\n",
       "      <td>88.000000</td>\n",
       "      <td>13.666667</td>\n",
       "      <td>675.000000</td>\n",
       "    </tr>\n",
       "    <tr>\n",
       "      <th>std</th>\n",
       "      <td>52.397880</td>\n",
       "      <td>153.494645</td>\n",
       "      <td>43.417634</td>\n",
       "      <td>9.670323</td>\n",
       "      <td>261.342687</td>\n",
       "    </tr>\n",
       "    <tr>\n",
       "      <th>min</th>\n",
       "      <td>1121.000000</td>\n",
       "      <td>450.000000</td>\n",
       "      <td>32.000000</td>\n",
       "      <td>5.000000</td>\n",
       "      <td>350.000000</td>\n",
       "    </tr>\n",
       "    <tr>\n",
       "      <th>25%</th>\n",
       "      <td>1204.250000</td>\n",
       "      <td>500.000000</td>\n",
       "      <td>56.000000</td>\n",
       "      <td>8.000000</td>\n",
       "      <td>387.500000</td>\n",
       "    </tr>\n",
       "    <tr>\n",
       "      <th>50%</th>\n",
       "      <td>1232.000000</td>\n",
       "      <td>550.000000</td>\n",
       "      <td>96.000000</td>\n",
       "      <td>10.000000</td>\n",
       "      <td>725.000000</td>\n",
       "    </tr>\n",
       "    <tr>\n",
       "      <th>75%</th>\n",
       "      <td>1233.000000</td>\n",
       "      <td>750.000000</td>\n",
       "      <td>128.000000</td>\n",
       "      <td>15.500000</td>\n",
       "      <td>875.000000</td>\n",
       "    </tr>\n",
       "    <tr>\n",
       "      <th>max</th>\n",
       "      <td>1260.000000</td>\n",
       "      <td>900.000000</td>\n",
       "      <td>128.000000</td>\n",
       "      <td>40.000000</td>\n",
       "      <td>980.000000</td>\n",
       "    </tr>\n",
       "  </tbody>\n",
       "</table>\n",
       "</div>"
      ],
      "text/plain": [
       "             model       speed         ram         hd       price\n",
       "count    12.000000   12.000000   12.000000  12.000000   12.000000\n",
       "mean   1206.916667  608.333333   88.000000  13.666667  675.000000\n",
       "std      52.397880  153.494645   43.417634   9.670323  261.342687\n",
       "min    1121.000000  450.000000   32.000000   5.000000  350.000000\n",
       "25%    1204.250000  500.000000   56.000000   8.000000  387.500000\n",
       "50%    1232.000000  550.000000   96.000000  10.000000  725.000000\n",
       "75%    1233.000000  750.000000  128.000000  15.500000  875.000000\n",
       "max    1260.000000  900.000000  128.000000  40.000000  980.000000"
      ]
     },
     "execution_count": 13,
     "metadata": {},
     "output_type": "execute_result"
    }
   ],
   "source": [
    "# for pc.csv\n",
    "pc.describe()"
   ]
  },
  {
   "cell_type": "code",
   "execution_count": 14,
   "id": "9d0df62e",
   "metadata": {},
   "outputs": [
    {
     "data": {
      "text/html": [
       "<div>\n",
       "<style scoped>\n",
       "    .dataframe tbody tr th:only-of-type {\n",
       "        vertical-align: middle;\n",
       "    }\n",
       "\n",
       "    .dataframe tbody tr th {\n",
       "        vertical-align: top;\n",
       "    }\n",
       "\n",
       "    .dataframe thead th {\n",
       "        text-align: right;\n",
       "    }\n",
       "</style>\n",
       "<table border=\"1\" class=\"dataframe\">\n",
       "  <thead>\n",
       "    <tr style=\"text-align: right;\">\n",
       "      <th></th>\n",
       "      <th>model</th>\n",
       "      <th>price</th>\n",
       "    </tr>\n",
       "  </thead>\n",
       "  <tbody>\n",
       "    <tr>\n",
       "      <th>count</th>\n",
       "      <td>6.000000</td>\n",
       "      <td>6.000000</td>\n",
       "    </tr>\n",
       "    <tr>\n",
       "      <th>mean</th>\n",
       "      <td>1373.333333</td>\n",
       "      <td>296.666667</td>\n",
       "    </tr>\n",
       "    <tr>\n",
       "      <th>std</th>\n",
       "      <td>72.060160</td>\n",
       "      <td>94.162979</td>\n",
       "    </tr>\n",
       "    <tr>\n",
       "      <th>min</th>\n",
       "      <td>1276.000000</td>\n",
       "      <td>150.000000</td>\n",
       "    </tr>\n",
       "    <tr>\n",
       "      <th>25%</th>\n",
       "      <td>1316.250000</td>\n",
       "      <td>270.000000</td>\n",
       "    </tr>\n",
       "    <tr>\n",
       "      <th>50%</th>\n",
       "      <td>1404.500000</td>\n",
       "      <td>280.000000</td>\n",
       "    </tr>\n",
       "    <tr>\n",
       "      <th>75%</th>\n",
       "      <td>1426.750000</td>\n",
       "      <td>372.500000</td>\n",
       "    </tr>\n",
       "    <tr>\n",
       "      <th>max</th>\n",
       "      <td>1434.000000</td>\n",
       "      <td>400.000000</td>\n",
       "    </tr>\n",
       "  </tbody>\n",
       "</table>\n",
       "</div>"
      ],
      "text/plain": [
       "             model       price\n",
       "count     6.000000    6.000000\n",
       "mean   1373.333333  296.666667\n",
       "std      72.060160   94.162979\n",
       "min    1276.000000  150.000000\n",
       "25%    1316.250000  270.000000\n",
       "50%    1404.500000  280.000000\n",
       "75%    1426.750000  372.500000\n",
       "max    1434.000000  400.000000"
      ]
     },
     "execution_count": 14,
     "metadata": {},
     "output_type": "execute_result"
    }
   ],
   "source": [
    "# for printer.csv\n",
    "pr.describe()"
   ]
  },
  {
   "cell_type": "code",
   "execution_count": 15,
   "id": "b7a8f6b2",
   "metadata": {},
   "outputs": [
    {
     "data": {
      "text/html": [
       "<div>\n",
       "<style scoped>\n",
       "    .dataframe tbody tr th:only-of-type {\n",
       "        vertical-align: middle;\n",
       "    }\n",
       "\n",
       "    .dataframe tbody tr th {\n",
       "        vertical-align: top;\n",
       "    }\n",
       "\n",
       "    .dataframe thead th {\n",
       "        text-align: right;\n",
       "    }\n",
       "</style>\n",
       "<table border=\"1\" class=\"dataframe\">\n",
       "  <thead>\n",
       "    <tr style=\"text-align: right;\">\n",
       "      <th></th>\n",
       "      <th>model</th>\n",
       "    </tr>\n",
       "  </thead>\n",
       "  <tbody>\n",
       "    <tr>\n",
       "      <th>count</th>\n",
       "      <td>16.000000</td>\n",
       "    </tr>\n",
       "    <tr>\n",
       "      <th>mean</th>\n",
       "      <td>1464.500000</td>\n",
       "    </tr>\n",
       "    <tr>\n",
       "      <th>std</th>\n",
       "      <td>305.022622</td>\n",
       "    </tr>\n",
       "    <tr>\n",
       "      <th>min</th>\n",
       "      <td>1121.000000</td>\n",
       "    </tr>\n",
       "    <tr>\n",
       "      <th>25%</th>\n",
       "      <td>1272.000000</td>\n",
       "    </tr>\n",
       "    <tr>\n",
       "      <th>50%</th>\n",
       "      <td>1361.000000</td>\n",
       "    </tr>\n",
       "    <tr>\n",
       "      <th>75%</th>\n",
       "      <td>1513.000000</td>\n",
       "    </tr>\n",
       "    <tr>\n",
       "      <th>max</th>\n",
       "      <td>2113.000000</td>\n",
       "    </tr>\n",
       "  </tbody>\n",
       "</table>\n",
       "</div>"
      ],
      "text/plain": [
       "             model\n",
       "count    16.000000\n",
       "mean   1464.500000\n",
       "std     305.022622\n",
       "min    1121.000000\n",
       "25%    1272.000000\n",
       "50%    1361.000000\n",
       "75%    1513.000000\n",
       "max    2113.000000"
      ]
     },
     "execution_count": 15,
     "metadata": {},
     "output_type": "execute_result"
    }
   ],
   "source": [
    "# for product.csv\n",
    "p.describe()"
   ]
  },
  {
   "cell_type": "markdown",
   "id": "883e0f4c",
   "metadata": {},
   "source": [
    "5.\tЕсли в некоторых столбцах нужно изменить данные, измените их и аргументируйте зачем их стоит изменить (например, дата должна иметь тип данных datetime64, а не object).\n",
    "\n",
    "В датафрейме `pr` тип столбца `color` можно сменить с `object` на `bool`, т. к. присутствуют только 2 значения - `y` (цветной принтер, `y` $\\rightarrow$ `True`) и `n` (ч/б принтер, `n` $\\rightarrow$ `False`).  "
   ]
  },
  {
   "cell_type": "code",
   "execution_count": 16,
   "id": "bc6b2d06",
   "metadata": {},
   "outputs": [
    {
     "data": {
      "text/plain": [
       "model      int64\n",
       "color       bool\n",
       "type      object\n",
       "price    float64\n",
       "dtype: object"
      ]
     },
     "execution_count": 16,
     "metadata": {},
     "output_type": "execute_result"
    }
   ],
   "source": [
    "pr['color'] = pr['color'].apply(lambda x: True if x == 'y' else False)\n",
    "pr.dtypes"
   ]
  },
  {
   "cell_type": "code",
   "execution_count": 17,
   "id": "7c1a59b3",
   "metadata": {},
   "outputs": [
    {
     "data": {
      "text/html": [
       "<div>\n",
       "<style scoped>\n",
       "    .dataframe tbody tr th:only-of-type {\n",
       "        vertical-align: middle;\n",
       "    }\n",
       "\n",
       "    .dataframe tbody tr th {\n",
       "        vertical-align: top;\n",
       "    }\n",
       "\n",
       "    .dataframe thead th {\n",
       "        text-align: right;\n",
       "    }\n",
       "</style>\n",
       "<table border=\"1\" class=\"dataframe\">\n",
       "  <thead>\n",
       "    <tr style=\"text-align: right;\">\n",
       "      <th></th>\n",
       "      <th>model</th>\n",
       "      <th>color</th>\n",
       "      <th>type</th>\n",
       "      <th>price</th>\n",
       "    </tr>\n",
       "    <tr>\n",
       "      <th>code</th>\n",
       "      <th></th>\n",
       "      <th></th>\n",
       "      <th></th>\n",
       "      <th></th>\n",
       "    </tr>\n",
       "  </thead>\n",
       "  <tbody>\n",
       "    <tr>\n",
       "      <th>1</th>\n",
       "      <td>1276</td>\n",
       "      <td>False</td>\n",
       "      <td>Laser</td>\n",
       "      <td>400.0</td>\n",
       "    </tr>\n",
       "    <tr>\n",
       "      <th>2</th>\n",
       "      <td>1433</td>\n",
       "      <td>True</td>\n",
       "      <td>Jet</td>\n",
       "      <td>270.0</td>\n",
       "    </tr>\n",
       "    <tr>\n",
       "      <th>3</th>\n",
       "      <td>1434</td>\n",
       "      <td>True</td>\n",
       "      <td>Jet</td>\n",
       "      <td>290.0</td>\n",
       "    </tr>\n",
       "    <tr>\n",
       "      <th>4</th>\n",
       "      <td>1401</td>\n",
       "      <td>False</td>\n",
       "      <td>Matrix</td>\n",
       "      <td>150.0</td>\n",
       "    </tr>\n",
       "    <tr>\n",
       "      <th>5</th>\n",
       "      <td>1408</td>\n",
       "      <td>False</td>\n",
       "      <td>Matrix</td>\n",
       "      <td>270.0</td>\n",
       "    </tr>\n",
       "  </tbody>\n",
       "</table>\n",
       "</div>"
      ],
      "text/plain": [
       "      model  color    type  price\n",
       "code                             \n",
       "1      1276  False   Laser  400.0\n",
       "2      1433   True     Jet  270.0\n",
       "3      1434   True     Jet  290.0\n",
       "4      1401  False  Matrix  150.0\n",
       "5      1408  False  Matrix  270.0"
      ]
     },
     "execution_count": 17,
     "metadata": {},
     "output_type": "execute_result"
    }
   ],
   "source": [
    "pr.head()"
   ]
  },
  {
   "cell_type": "markdown",
   "id": "5fbbfab3",
   "metadata": {},
   "source": [
    "### Задания.\n",
    "\n",
    "1. Найдите все параметры ПК, имеющие 8x или 40x CD и цену более 600. Отсортируйте по скорости и цене."
   ]
  },
  {
   "cell_type": "code",
   "execution_count": 18,
   "id": "4b5aa6e0",
   "metadata": {},
   "outputs": [
    {
     "data": {
      "text/html": [
       "<div>\n",
       "<style scoped>\n",
       "    .dataframe tbody tr th:only-of-type {\n",
       "        vertical-align: middle;\n",
       "    }\n",
       "\n",
       "    .dataframe tbody tr th {\n",
       "        vertical-align: top;\n",
       "    }\n",
       "\n",
       "    .dataframe thead th {\n",
       "        text-align: right;\n",
       "    }\n",
       "</style>\n",
       "<table border=\"1\" class=\"dataframe\">\n",
       "  <thead>\n",
       "    <tr style=\"text-align: right;\">\n",
       "      <th></th>\n",
       "      <th>model</th>\n",
       "      <th>speed</th>\n",
       "      <th>ram</th>\n",
       "      <th>hd</th>\n",
       "      <th>cd</th>\n",
       "      <th>price</th>\n",
       "    </tr>\n",
       "    <tr>\n",
       "      <th>code</th>\n",
       "      <th></th>\n",
       "      <th></th>\n",
       "      <th></th>\n",
       "      <th></th>\n",
       "      <th></th>\n",
       "      <th></th>\n",
       "    </tr>\n",
       "  </thead>\n",
       "  <tbody>\n",
       "    <tr>\n",
       "      <th>4</th>\n",
       "      <td>1121</td>\n",
       "      <td>600</td>\n",
       "      <td>128</td>\n",
       "      <td>14</td>\n",
       "      <td>40x</td>\n",
       "      <td>850.0</td>\n",
       "    </tr>\n",
       "    <tr>\n",
       "      <th>5</th>\n",
       "      <td>1121</td>\n",
       "      <td>600</td>\n",
       "      <td>128</td>\n",
       "      <td>8</td>\n",
       "      <td>40x</td>\n",
       "      <td>850.0</td>\n",
       "    </tr>\n",
       "    <tr>\n",
       "      <th>2</th>\n",
       "      <td>1121</td>\n",
       "      <td>750</td>\n",
       "      <td>128</td>\n",
       "      <td>14</td>\n",
       "      <td>40x</td>\n",
       "      <td>850.0</td>\n",
       "    </tr>\n",
       "    <tr>\n",
       "      <th>11</th>\n",
       "      <td>1233</td>\n",
       "      <td>900</td>\n",
       "      <td>128</td>\n",
       "      <td>40</td>\n",
       "      <td>40x</td>\n",
       "      <td>980.0</td>\n",
       "    </tr>\n",
       "  </tbody>\n",
       "</table>\n",
       "</div>"
      ],
      "text/plain": [
       "      model  speed  ram  hd   cd  price\n",
       "code                                   \n",
       "4      1121    600  128  14  40x  850.0\n",
       "5      1121    600  128   8  40x  850.0\n",
       "2      1121    750  128  14  40x  850.0\n",
       "11     1233    900  128  40  40x  980.0"
      ]
     },
     "execution_count": 18,
     "metadata": {},
     "output_type": "execute_result"
    }
   ],
   "source": [
    "pc[(pc['price'] > 600) & ((pc['cd'] == '40x') | (pc['cd'] == '8x'))].sort_values(['speed', 'price'])"
   ]
  },
  {
   "cell_type": "markdown",
   "id": "644830ff",
   "metadata": {},
   "source": [
    "2. Для каждого производителя, выпускающего лаптопы c объёмом жесткого диска не менее 10 Гбайт и ОЗУ не менее 64 мб, найти скорости таких лаптопов. Выведите производителей и скорость. *Нарисуйте график зависимости скоростей от полученных моделей ноутбуков.*"
   ]
  },
  {
   "cell_type": "code",
   "execution_count": 19,
   "id": "293bebec",
   "metadata": {},
   "outputs": [
    {
     "data": {
      "text/html": [
       "<div>\n",
       "<style scoped>\n",
       "    .dataframe tbody tr th:only-of-type {\n",
       "        vertical-align: middle;\n",
       "    }\n",
       "\n",
       "    .dataframe tbody tr th {\n",
       "        vertical-align: top;\n",
       "    }\n",
       "\n",
       "    .dataframe thead th {\n",
       "        text-align: right;\n",
       "    }\n",
       "</style>\n",
       "<table border=\"1\" class=\"dataframe\">\n",
       "  <thead>\n",
       "    <tr style=\"text-align: right;\">\n",
       "      <th></th>\n",
       "      <th>maker</th>\n",
       "      <th>speed</th>\n",
       "    </tr>\n",
       "  </thead>\n",
       "  <tbody>\n",
       "    <tr>\n",
       "      <th>0</th>\n",
       "      <td>A</td>\n",
       "      <td>350</td>\n",
       "    </tr>\n",
       "    <tr>\n",
       "      <th>1</th>\n",
       "      <td>C</td>\n",
       "      <td>500</td>\n",
       "    </tr>\n",
       "    <tr>\n",
       "      <th>2</th>\n",
       "      <td>B</td>\n",
       "      <td>750</td>\n",
       "    </tr>\n",
       "    <tr>\n",
       "      <th>3</th>\n",
       "      <td>A</td>\n",
       "      <td>600</td>\n",
       "    </tr>\n",
       "    <tr>\n",
       "      <th>4</th>\n",
       "      <td>A</td>\n",
       "      <td>750</td>\n",
       "    </tr>\n",
       "    <tr>\n",
       "      <th>5</th>\n",
       "      <td>A</td>\n",
       "      <td>450</td>\n",
       "    </tr>\n",
       "  </tbody>\n",
       "</table>\n",
       "</div>"
      ],
      "text/plain": [
       "  maker  speed\n",
       "0     A    350\n",
       "1     C    500\n",
       "2     B    750\n",
       "3     A    600\n",
       "4     A    750\n",
       "5     A    450"
      ]
     },
     "execution_count": 19,
     "metadata": {},
     "output_type": "execute_result"
    }
   ],
   "source": [
    "lp_p = pd.merge(lp, p, how = 'left', on = 'model')\n",
    "\n",
    "lp_p_df = lp_p[(lp_p['hd'] >= 10) & (lp_p['ram'] >= 64)]\n",
    "lp_p_df = lp_p[['maker', 'speed']]\n",
    "lp_p_df"
   ]
  },
  {
   "cell_type": "code",
   "execution_count": 20,
   "id": "eb3c4739",
   "metadata": {},
   "outputs": [
    {
     "data": {
      "text/plain": [
       "<AxesSubplot:title={'center':\"Laptops' Speed\"}, xlabel='Model', ylabel='Speed'>"
      ]
     },
     "execution_count": 20,
     "metadata": {},
     "output_type": "execute_result"
    },
    {
     "data": {
      "image/png": "[encoded data removed]",
      "text/plain": [
       "<Figure size 432x288 with 1 Axes>"
      ]
     },
     "metadata": {
      "needs_background": "light"
     },
     "output_type": "display_data"
    }
   ],
   "source": [
    "import matplotlib.pyplot as plt\n",
    "%matplotlib inline\n",
    "import numpy as np\n",
    "\n",
    "lp_p.plot.bar(x = 'model', \n",
    "              y = 'speed', \n",
    "              xlabel = 'Model', \n",
    "              ylabel = 'Speed', \n",
    "              title = \"Laptops' Speed\", \n",
    "              color = 'mistyrose',\n",
    "              edgecolor = 'salmon',\n",
    "              linewidth = 2)"
   ]
  },
  {
   "cell_type": "markdown",
   "id": "70489118",
   "metadata": {},
   "source": [
    "3.\tНайдите номера моделей, тип и цены всех ноутбуков производителя А. Отсортируйте по убыванию цены. Постройте гистограмму изменения цены."
   ]
  },
  {
   "cell_type": "code",
   "execution_count": 21,
   "id": "e3efd81e",
   "metadata": {},
   "outputs": [
    {
     "data": {
      "text/html": [
       "<div>\n",
       "<style scoped>\n",
       "    .dataframe tbody tr th:only-of-type {\n",
       "        vertical-align: middle;\n",
       "    }\n",
       "\n",
       "    .dataframe tbody tr th {\n",
       "        vertical-align: top;\n",
       "    }\n",
       "\n",
       "    .dataframe thead th {\n",
       "        text-align: right;\n",
       "    }\n",
       "</style>\n",
       "<table border=\"1\" class=\"dataframe\">\n",
       "  <thead>\n",
       "    <tr style=\"text-align: right;\">\n",
       "      <th></th>\n",
       "      <th>maker</th>\n",
       "      <th>model</th>\n",
       "      <th>type</th>\n",
       "      <th>price</th>\n",
       "    </tr>\n",
       "  </thead>\n",
       "  <tbody>\n",
       "    <tr>\n",
       "      <th>4</th>\n",
       "      <td>A</td>\n",
       "      <td>1752</td>\n",
       "      <td>Laptop</td>\n",
       "      <td>1150.0</td>\n",
       "    </tr>\n",
       "    <tr>\n",
       "      <th>3</th>\n",
       "      <td>A</td>\n",
       "      <td>1298</td>\n",
       "      <td>Laptop</td>\n",
       "      <td>1050.0</td>\n",
       "    </tr>\n",
       "    <tr>\n",
       "      <th>5</th>\n",
       "      <td>A</td>\n",
       "      <td>1298</td>\n",
       "      <td>Laptop</td>\n",
       "      <td>950.0</td>\n",
       "    </tr>\n",
       "    <tr>\n",
       "      <th>0</th>\n",
       "      <td>A</td>\n",
       "      <td>1298</td>\n",
       "      <td>Laptop</td>\n",
       "      <td>700.0</td>\n",
       "    </tr>\n",
       "  </tbody>\n",
       "</table>\n",
       "</div>"
      ],
      "text/plain": [
       "  maker  model    type   price\n",
       "4     A   1752  Laptop  1150.0\n",
       "3     A   1298  Laptop  1050.0\n",
       "5     A   1298  Laptop   950.0\n",
       "0     A   1298  Laptop   700.0"
      ]
     },
     "execution_count": 21,
     "metadata": {},
     "output_type": "execute_result"
    }
   ],
   "source": [
    "lp_p_maker_A = lp_p[lp_p['maker'] == 'A']\n",
    "lp_p_maker_A = lp_p_maker_A[['maker', 'model', 'type', 'price']]\n",
    "lp_p_maker_A = lp_p_maker_A.sort_values('price', ascending = False)\n",
    "lp_p_maker_A"
   ]
  },
  {
   "cell_type": "code",
   "execution_count": 22,
   "id": "76afbc5c",
   "metadata": {},
   "outputs": [
    {
     "data": {
      "text/plain": [
       "<AxesSubplot:title={'center':\"Maker's A Laptops Price\"}, xlabel='Model', ylabel='Price'>"
      ]
     },
     "execution_count": 22,
     "metadata": {},
     "output_type": "execute_result"
    },
    {
     "data": {
      "image/png": "[encoded data removed]",
      "text/plain": [
       "<Figure size 432x288 with 1 Axes>"
      ]
     },
     "metadata": {
      "needs_background": "light"
     },
     "output_type": "display_data"
    }
   ],
   "source": [
    "lp_p_maker_A.plot.bar(x = 'model', \n",
    "                      y = 'price', \n",
    "                      xlabel = 'Model', \n",
    "                      ylabel = 'Price', \n",
    "                      title = \"Maker's A Laptops Price\", \n",
    "                      color = 'mistyrose',\n",
    "                      edgecolor = 'salmon',\n",
    "                      linewidth = 2)"
   ]
  },
  {
   "cell_type": "markdown",
   "id": "2c621d4d",
   "metadata": {},
   "source": [
    "4.\tНайдите производителя, номер модели и цену среди ноутбуков с наибольшей стоимостью до 1000; *Нарисуйте график зависимости цен от всех производителей ноутбуков.*"
   ]
  },
  {
   "cell_type": "code",
   "execution_count": 23,
   "id": "f5f342e0",
   "metadata": {},
   "outputs": [
    {
     "data": {
      "text/html": [
       "<div>\n",
       "<style scoped>\n",
       "    .dataframe tbody tr th:only-of-type {\n",
       "        vertical-align: middle;\n",
       "    }\n",
       "\n",
       "    .dataframe tbody tr th {\n",
       "        vertical-align: top;\n",
       "    }\n",
       "\n",
       "    .dataframe thead th {\n",
       "        text-align: right;\n",
       "    }\n",
       "</style>\n",
       "<table border=\"1\" class=\"dataframe\">\n",
       "  <thead>\n",
       "    <tr style=\"text-align: right;\">\n",
       "      <th></th>\n",
       "      <th>maker</th>\n",
       "      <th>model</th>\n",
       "      <th>price</th>\n",
       "    </tr>\n",
       "  </thead>\n",
       "  <tbody>\n",
       "    <tr>\n",
       "      <th>0</th>\n",
       "      <td>A</td>\n",
       "      <td>1298</td>\n",
       "      <td>700.0</td>\n",
       "    </tr>\n",
       "    <tr>\n",
       "      <th>1</th>\n",
       "      <td>C</td>\n",
       "      <td>1321</td>\n",
       "      <td>970.0</td>\n",
       "    </tr>\n",
       "    <tr>\n",
       "      <th>5</th>\n",
       "      <td>A</td>\n",
       "      <td>1298</td>\n",
       "      <td>950.0</td>\n",
       "    </tr>\n",
       "  </tbody>\n",
       "</table>\n",
       "</div>"
      ],
      "text/plain": [
       "  maker  model  price\n",
       "0     A   1298  700.0\n",
       "1     C   1321  970.0\n",
       "5     A   1298  950.0"
      ]
     },
     "execution_count": 23,
     "metadata": {},
     "output_type": "execute_result"
    }
   ],
   "source": [
    "lp_p_price_under_1000 = lp_p[lp_p['price'] < 1000]\n",
    "lp_p_price_under_1000 = lp_p_price_under_1000[['maker', 'model', 'price']]\n",
    "lp_p_price_under_1000"
   ]
  },
  {
   "cell_type": "code",
   "execution_count": 24,
   "id": "699b6c4f",
   "metadata": {},
   "outputs": [
    {
     "data": {
      "text/plain": [
       "<AxesSubplot:title={'center':'Prices of Laptops under 1000'}, xlabel='Maker', ylabel='Price'>"
      ]
     },
     "execution_count": 24,
     "metadata": {},
     "output_type": "execute_result"
    },
    {
     "data": {
      "image/png": "[encoded data removed]",
      "text/plain": [
       "<Figure size 432x288 with 1 Axes>"
      ]
     },
     "metadata": {
      "needs_background": "light"
     },
     "output_type": "display_data"
    }
   ],
   "source": [
    "lp_p = lp_p.sort_values('maker')\n",
    "\n",
    "lp_p.plot(x = 'maker',\n",
    "          y = 'price',\n",
    "          xlabel = 'Maker',\n",
    "          ylabel = 'Price',\n",
    "          title = \"Prices of Laptops under 1000\",\n",
    "          color = 'salmon',\n",
    "          linewidth = 5)"
   ]
  },
  {
   "cell_type": "markdown",
   "id": "57f81058",
   "metadata": {},
   "source": [
    "5.\tНайдите для каждой модели ПК их количество и максимальное и минимальное ram, сгруппируйте по моделям; переименуйте колонки макс. и мин. в “max/min_ram”."
   ]
  },
  {
   "cell_type": "code",
   "execution_count": 25,
   "id": "30a07fb2",
   "metadata": {},
   "outputs": [
    {
     "name": "stderr",
     "output_type": "stream",
     "text": [
      "C:\\Users\\E784~1\\AppData\\Local\\Temp/ipykernel_19660/739066355.py:16: FutureWarning: merging between different levels is deprecated and will be removed in a future version. (1 levels on the left,2 on the right)\n",
      "  pc_models_ram = pd.merge(pc_models_number,\n"
     ]
    },
    {
     "data": {
      "text/html": [
       "<div>\n",
       "<style scoped>\n",
       "    .dataframe tbody tr th:only-of-type {\n",
       "        vertical-align: middle;\n",
       "    }\n",
       "\n",
       "    .dataframe tbody tr th {\n",
       "        vertical-align: top;\n",
       "    }\n",
       "\n",
       "    .dataframe thead th {\n",
       "        text-align: right;\n",
       "    }\n",
       "</style>\n",
       "<table border=\"1\" class=\"dataframe\">\n",
       "  <thead>\n",
       "    <tr style=\"text-align: right;\">\n",
       "      <th></th>\n",
       "      <th>number</th>\n",
       "      <th>min_ram</th>\n",
       "      <th>max_ram</th>\n",
       "    </tr>\n",
       "    <tr>\n",
       "      <th>model</th>\n",
       "      <th></th>\n",
       "      <th></th>\n",
       "      <th></th>\n",
       "    </tr>\n",
       "  </thead>\n",
       "  <tbody>\n",
       "    <tr>\n",
       "      <th>1232</th>\n",
       "      <td>4</td>\n",
       "      <td>32</td>\n",
       "      <td>64</td>\n",
       "    </tr>\n",
       "    <tr>\n",
       "      <th>1233</th>\n",
       "      <td>4</td>\n",
       "      <td>64</td>\n",
       "      <td>128</td>\n",
       "    </tr>\n",
       "    <tr>\n",
       "      <th>1121</th>\n",
       "      <td>3</td>\n",
       "      <td>128</td>\n",
       "      <td>128</td>\n",
       "    </tr>\n",
       "    <tr>\n",
       "      <th>1260</th>\n",
       "      <td>1</td>\n",
       "      <td>32</td>\n",
       "      <td>32</td>\n",
       "    </tr>\n",
       "  </tbody>\n",
       "</table>\n",
       "</div>"
      ],
      "text/plain": [
       "       number  min_ram  max_ram\n",
       "model                          \n",
       "1232        4       32       64\n",
       "1233        4       64      128\n",
       "1121        3      128      128\n",
       "1260        1       32       32"
      ]
     },
     "execution_count": 25,
     "metadata": {},
     "output_type": "execute_result"
    }
   ],
   "source": [
    "pc_models = pc['model']\n",
    "pc_models_number = pc_models.value_counts()\n",
    "pc_models_number = pd.DataFrame(pc_models_number)\n",
    "pc_models_number.sort_index()\n",
    "\n",
    "columns = list(pc_models_number.columns)\n",
    "columns[0] = 'number'\n",
    "pc_models_number.columns = columns\n",
    "pc_models_number.index.name = 'model'\n",
    "\n",
    "pc_ram = pd.pivot_table(pc,\n",
    "                       index = 'model',\n",
    "                       values = 'ram',\n",
    "                       aggfunc = [min, max])\n",
    "\n",
    "pc_models_ram = pd.merge(pc_models_number,\n",
    "                        pc_ram,\n",
    "                        on = 'model')\n",
    "\n",
    "columns = list(pc_models_ram.columns)\n",
    "columns[1] = 'min_ram'\n",
    "columns[2] = 'max_ram'\n",
    "pc_models_ram.columns = columns\n",
    "\n",
    "pc_models_ram"
   ]
  },
  {
   "cell_type": "markdown",
   "id": "493b46fd",
   "metadata": {},
   "source": [
    "6.\tПроверьте гипотезу: «Самые дорогие ноутбуки у производителя А». Опишите полученный результат."
   ]
  },
  {
   "cell_type": "code",
   "execution_count": 26,
   "id": "2706300e",
   "metadata": {},
   "outputs": [
    {
     "data": {
      "text/html": [
       "<div>\n",
       "<style scoped>\n",
       "    .dataframe tbody tr th:only-of-type {\n",
       "        vertical-align: middle;\n",
       "    }\n",
       "\n",
       "    .dataframe tbody tr th {\n",
       "        vertical-align: top;\n",
       "    }\n",
       "\n",
       "    .dataframe thead tr th {\n",
       "        text-align: left;\n",
       "    }\n",
       "\n",
       "    .dataframe thead tr:last-of-type th {\n",
       "        text-align: right;\n",
       "    }\n",
       "</style>\n",
       "<table border=\"1\" class=\"dataframe\">\n",
       "  <thead>\n",
       "    <tr>\n",
       "      <th></th>\n",
       "      <th>min</th>\n",
       "      <th>max</th>\n",
       "      <th>mean</th>\n",
       "      <th>median</th>\n",
       "    </tr>\n",
       "    <tr>\n",
       "      <th></th>\n",
       "      <th>price</th>\n",
       "      <th>price</th>\n",
       "      <th>price</th>\n",
       "      <th>price</th>\n",
       "    </tr>\n",
       "    <tr>\n",
       "      <th>maker</th>\n",
       "      <th></th>\n",
       "      <th></th>\n",
       "      <th></th>\n",
       "      <th></th>\n",
       "    </tr>\n",
       "  </thead>\n",
       "  <tbody>\n",
       "    <tr>\n",
       "      <th>A</th>\n",
       "      <td>700.0</td>\n",
       "      <td>1150.0</td>\n",
       "      <td>962.5</td>\n",
       "      <td>1000.0</td>\n",
       "    </tr>\n",
       "    <tr>\n",
       "      <th>B</th>\n",
       "      <td>1200.0</td>\n",
       "      <td>1200.0</td>\n",
       "      <td>1200.0</td>\n",
       "      <td>1200.0</td>\n",
       "    </tr>\n",
       "    <tr>\n",
       "      <th>C</th>\n",
       "      <td>970.0</td>\n",
       "      <td>970.0</td>\n",
       "      <td>970.0</td>\n",
       "      <td>970.0</td>\n",
       "    </tr>\n",
       "  </tbody>\n",
       "</table>\n",
       "</div>"
      ],
      "text/plain": [
       "          min     max    mean  median\n",
       "        price   price   price   price\n",
       "maker                                \n",
       "A       700.0  1150.0   962.5  1000.0\n",
       "B      1200.0  1200.0  1200.0  1200.0\n",
       "C       970.0   970.0   970.0   970.0"
      ]
     },
     "execution_count": 26,
     "metadata": {},
     "output_type": "execute_result"
    }
   ],
   "source": [
    "lp_p_price = pd.pivot_table(lp_p,\n",
    "                           index = 'maker',\n",
    "                           values = 'price',\n",
    "                           aggfunc = [min, max, np.mean, np.median])\n",
    "\n",
    "lp_p_price"
   ]
  },
  {
   "cell_type": "markdown",
   "id": "ced956e2",
   "metadata": {},
   "source": [
    "Из полученных значений видим, что и медианная (колонка `median`), и средняя (колонка `mean`) цена ноутбуков производителя А ниже, чем у производителя B, но выше, чем у производителя C. Более того, максимальная (колонка `max`) цена ноутбуков производителя А ниже, чем максимальная цена ноутбуков производителя В. **Таким образом, гипотеза \"Самые дорогие ноутбуки у производителя А\" неверна.**"
   ]
  },
  {
   "cell_type": "markdown",
   "id": "ec203689",
   "metadata": {},
   "source": [
    "7.\tПостройте матрицы корреляции для всех таблиц. Необязательно, но, если будет желание, нарисовать график тепловой карты матриц корреляции используя функцию heatmap из библиотеки seaborn."
   ]
  },
  {
   "cell_type": "code",
   "execution_count": 27,
   "id": "36e53479",
   "metadata": {},
   "outputs": [
    {
     "data": {
      "text/html": [
       "<div>\n",
       "<style scoped>\n",
       "    .dataframe tbody tr th:only-of-type {\n",
       "        vertical-align: middle;\n",
       "    }\n",
       "\n",
       "    .dataframe tbody tr th {\n",
       "        vertical-align: top;\n",
       "    }\n",
       "\n",
       "    .dataframe thead th {\n",
       "        text-align: right;\n",
       "    }\n",
       "</style>\n",
       "<table border=\"1\" class=\"dataframe\">\n",
       "  <thead>\n",
       "    <tr style=\"text-align: right;\">\n",
       "      <th></th>\n",
       "      <th>model</th>\n",
       "      <th>speed</th>\n",
       "      <th>ram</th>\n",
       "      <th>hd</th>\n",
       "      <th>price</th>\n",
       "    </tr>\n",
       "  </thead>\n",
       "  <tbody>\n",
       "    <tr>\n",
       "      <th>model</th>\n",
       "      <td>1.000000</td>\n",
       "      <td>-0.185278</td>\n",
       "      <td>-0.591091</td>\n",
       "      <td>0.086596</td>\n",
       "      <td>-0.441972</td>\n",
       "    </tr>\n",
       "    <tr>\n",
       "      <th>speed</th>\n",
       "      <td>-0.185278</td>\n",
       "      <td>1.000000</td>\n",
       "      <td>0.818463</td>\n",
       "      <td>0.859476</td>\n",
       "      <td>0.884962</td>\n",
       "    </tr>\n",
       "    <tr>\n",
       "      <th>ram</th>\n",
       "      <td>-0.591091</td>\n",
       "      <td>0.818463</td>\n",
       "      <td>1.000000</td>\n",
       "      <td>0.547365</td>\n",
       "      <td>0.955008</td>\n",
       "    </tr>\n",
       "    <tr>\n",
       "      <th>hd</th>\n",
       "      <td>0.086596</td>\n",
       "      <td>0.859476</td>\n",
       "      <td>0.547365</td>\n",
       "      <td>1.000000</td>\n",
       "      <td>0.622303</td>\n",
       "    </tr>\n",
       "    <tr>\n",
       "      <th>price</th>\n",
       "      <td>-0.441972</td>\n",
       "      <td>0.884962</td>\n",
       "      <td>0.955008</td>\n",
       "      <td>0.622303</td>\n",
       "      <td>1.000000</td>\n",
       "    </tr>\n",
       "  </tbody>\n",
       "</table>\n",
       "</div>"
      ],
      "text/plain": [
       "          model     speed       ram        hd     price\n",
       "model  1.000000 -0.185278 -0.591091  0.086596 -0.441972\n",
       "speed -0.185278  1.000000  0.818463  0.859476  0.884962\n",
       "ram   -0.591091  0.818463  1.000000  0.547365  0.955008\n",
       "hd     0.086596  0.859476  0.547365  1.000000  0.622303\n",
       "price -0.441972  0.884962  0.955008  0.622303  1.000000"
      ]
     },
     "execution_count": 27,
     "metadata": {},
     "output_type": "execute_result"
    }
   ],
   "source": [
    "pc.corr()"
   ]
  },
  {
   "cell_type": "code",
   "execution_count": 28,
   "id": "de7a32c9",
   "metadata": {},
   "outputs": [
    {
     "data": {
      "text/html": [
       "<div>\n",
       "<style scoped>\n",
       "    .dataframe tbody tr th:only-of-type {\n",
       "        vertical-align: middle;\n",
       "    }\n",
       "\n",
       "    .dataframe tbody tr th {\n",
       "        vertical-align: top;\n",
       "    }\n",
       "\n",
       "    .dataframe thead th {\n",
       "        text-align: right;\n",
       "    }\n",
       "</style>\n",
       "<table border=\"1\" class=\"dataframe\">\n",
       "  <thead>\n",
       "    <tr style=\"text-align: right;\">\n",
       "      <th></th>\n",
       "      <th>model</th>\n",
       "      <th>speed</th>\n",
       "      <th>ram</th>\n",
       "      <th>hd</th>\n",
       "      <th>price</th>\n",
       "      <th>screen</th>\n",
       "    </tr>\n",
       "  </thead>\n",
       "  <tbody>\n",
       "    <tr>\n",
       "      <th>model</th>\n",
       "      <td>1.000000</td>\n",
       "      <td>0.872024</td>\n",
       "      <td>0.952037</td>\n",
       "      <td>0.560904</td>\n",
       "      <td>0.752311</td>\n",
       "      <td>0.493203</td>\n",
       "    </tr>\n",
       "    <tr>\n",
       "      <th>speed</th>\n",
       "      <td>0.872024</td>\n",
       "      <td>1.000000</td>\n",
       "      <td>0.950000</td>\n",
       "      <td>0.799671</td>\n",
       "      <td>0.954369</td>\n",
       "      <td>0.830098</td>\n",
       "    </tr>\n",
       "    <tr>\n",
       "      <th>ram</th>\n",
       "      <td>0.952037</td>\n",
       "      <td>0.950000</td>\n",
       "      <td>1.000000</td>\n",
       "      <td>0.770054</td>\n",
       "      <td>0.908486</td>\n",
       "      <td>0.632456</td>\n",
       "    </tr>\n",
       "    <tr>\n",
       "      <th>hd</th>\n",
       "      <td>0.560904</td>\n",
       "      <td>0.799671</td>\n",
       "      <td>0.770054</td>\n",
       "      <td>1.000000</td>\n",
       "      <td>0.929516</td>\n",
       "      <td>0.749269</td>\n",
       "    </tr>\n",
       "    <tr>\n",
       "      <th>price</th>\n",
       "      <td>0.752311</td>\n",
       "      <td>0.954369</td>\n",
       "      <td>0.908486</td>\n",
       "      <td>0.929516</td>\n",
       "      <td>1.000000</td>\n",
       "      <td>0.819788</td>\n",
       "    </tr>\n",
       "    <tr>\n",
       "      <th>screen</th>\n",
       "      <td>0.493203</td>\n",
       "      <td>0.830098</td>\n",
       "      <td>0.632456</td>\n",
       "      <td>0.749269</td>\n",
       "      <td>0.819788</td>\n",
       "      <td>1.000000</td>\n",
       "    </tr>\n",
       "  </tbody>\n",
       "</table>\n",
       "</div>"
      ],
      "text/plain": [
       "           model     speed       ram        hd     price    screen\n",
       "model   1.000000  0.872024  0.952037  0.560904  0.752311  0.493203\n",
       "speed   0.872024  1.000000  0.950000  0.799671  0.954369  0.830098\n",
       "ram     0.952037  0.950000  1.000000  0.770054  0.908486  0.632456\n",
       "hd      0.560904  0.799671  0.770054  1.000000  0.929516  0.749269\n",
       "price   0.752311  0.954369  0.908486  0.929516  1.000000  0.819788\n",
       "screen  0.493203  0.830098  0.632456  0.749269  0.819788  1.000000"
      ]
     },
     "execution_count": 28,
     "metadata": {},
     "output_type": "execute_result"
    }
   ],
   "source": [
    "lp.corr()"
   ]
  },
  {
   "cell_type": "code",
   "execution_count": 29,
   "id": "7cc6d73f",
   "metadata": {},
   "outputs": [
    {
     "data": {
      "text/html": [
       "<div>\n",
       "<style scoped>\n",
       "    .dataframe tbody tr th:only-of-type {\n",
       "        vertical-align: middle;\n",
       "    }\n",
       "\n",
       "    .dataframe tbody tr th {\n",
       "        vertical-align: top;\n",
       "    }\n",
       "\n",
       "    .dataframe thead th {\n",
       "        text-align: right;\n",
       "    }\n",
       "</style>\n",
       "<table border=\"1\" class=\"dataframe\">\n",
       "  <thead>\n",
       "    <tr style=\"text-align: right;\">\n",
       "      <th></th>\n",
       "      <th>model</th>\n",
       "      <th>color</th>\n",
       "      <th>price</th>\n",
       "    </tr>\n",
       "  </thead>\n",
       "  <tbody>\n",
       "    <tr>\n",
       "      <th>model</th>\n",
       "      <td>1.000000</td>\n",
       "      <td>0.646750</td>\n",
       "      <td>-0.762028</td>\n",
       "    </tr>\n",
       "    <tr>\n",
       "      <th>color</th>\n",
       "      <td>0.646750</td>\n",
       "      <td>1.000000</td>\n",
       "      <td>-0.137102</td>\n",
       "    </tr>\n",
       "    <tr>\n",
       "      <th>price</th>\n",
       "      <td>-0.762028</td>\n",
       "      <td>-0.137102</td>\n",
       "      <td>1.000000</td>\n",
       "    </tr>\n",
       "  </tbody>\n",
       "</table>\n",
       "</div>"
      ],
      "text/plain": [
       "          model     color     price\n",
       "model  1.000000  0.646750 -0.762028\n",
       "color  0.646750  1.000000 -0.137102\n",
       "price -0.762028 -0.137102  1.000000"
      ]
     },
     "execution_count": 29,
     "metadata": {},
     "output_type": "execute_result"
    }
   ],
   "source": [
    "pr.corr()"
   ]
  },
  {
   "cell_type": "code",
   "execution_count": 30,
   "id": "d5afcfb1",
   "metadata": {},
   "outputs": [
    {
     "data": {
      "text/html": [
       "<div>\n",
       "<style scoped>\n",
       "    .dataframe tbody tr th:only-of-type {\n",
       "        vertical-align: middle;\n",
       "    }\n",
       "\n",
       "    .dataframe tbody tr th {\n",
       "        vertical-align: top;\n",
       "    }\n",
       "\n",
       "    .dataframe thead th {\n",
       "        text-align: right;\n",
       "    }\n",
       "</style>\n",
       "<table border=\"1\" class=\"dataframe\">\n",
       "  <thead>\n",
       "    <tr style=\"text-align: right;\">\n",
       "      <th></th>\n",
       "      <th>model</th>\n",
       "    </tr>\n",
       "  </thead>\n",
       "  <tbody>\n",
       "    <tr>\n",
       "      <th>model</th>\n",
       "      <td>1.0</td>\n",
       "    </tr>\n",
       "  </tbody>\n",
       "</table>\n",
       "</div>"
      ],
      "text/plain": [
       "       model\n",
       "model    1.0"
      ]
     },
     "execution_count": 30,
     "metadata": {},
     "output_type": "execute_result"
    }
   ],
   "source": [
    "# бесполезная матрица, но пусть будет\n",
    "p.corr()"
   ]
  },
  {
   "cell_type": "code",
   "execution_count": 31,
   "id": "530dd9b5",
   "metadata": {},
   "outputs": [
    {
     "data": {
      "text/plain": [
       "<AxesSubplot:>"
      ]
     },
     "execution_count": 31,
     "metadata": {},
     "output_type": "execute_result"
    },
    {
     "data": {
      "image/png": "[encoded data removed]",
      "text/plain": [
       "<Figure size 432x288 with 2 Axes>"
      ]
     },
     "metadata": {
      "needs_background": "light"
     },
     "output_type": "display_data"
    }
   ],
   "source": [
    "import seaborn as sbs\n",
    "\n",
    "sbs.heatmap(pc.corr(), \n",
    "            annot = True,\n",
    "            fmt = '.2g',\n",
    "            vmin = -1, \n",
    "            vmax = 1, \n",
    "            center = 0,\n",
    "            cmap = 'PuBu')"
   ]
  },
  {
   "cell_type": "code",
   "execution_count": 32,
   "id": "6c856325",
   "metadata": {},
   "outputs": [
    {
     "data": {
      "text/plain": [
       "<AxesSubplot:>"
      ]
     },
     "execution_count": 32,
     "metadata": {},
     "output_type": "execute_result"
    },
    {
     "data": {
      "image/png": "[encoded data removed]",
      "text/plain": [
       "<Figure size 432x288 with 2 Axes>"
      ]
     },
     "metadata": {
      "needs_background": "light"
     },
     "output_type": "display_data"
    }
   ],
   "source": [
    "sbs.heatmap(lp.corr(), \n",
    "            annot = True,\n",
    "            fmt = '.2g',\n",
    "            vmin = -1, \n",
    "            vmax = 1, \n",
    "            center = 0,\n",
    "            cmap = 'PuBu')"
   ]
  },
  {
   "cell_type": "code",
   "execution_count": 33,
   "id": "f55b08ed",
   "metadata": {},
   "outputs": [
    {
     "data": {
      "text/plain": [
       "<AxesSubplot:>"
      ]
     },
     "execution_count": 33,
     "metadata": {},
     "output_type": "execute_result"
    },
    {
     "data": {
      "image/png": "[encoded data removed]",
      "text/plain": [
       "<Figure size 432x288 with 2 Axes>"
      ]
     },
     "metadata": {
      "needs_background": "light"
     },
     "output_type": "display_data"
    }
   ],
   "source": [
    "sbs.heatmap(pr.corr(), \n",
    "            annot = True,\n",
    "            fmt = '.2g',\n",
    "            vmin = -1, \n",
    "            vmax = 1, \n",
    "            center = 0,\n",
    "            cmap = 'PuBu')"
   ]
  },
  {
   "cell_type": "markdown",
   "id": "776ac3e3",
   "metadata": {},
   "source": [
    "8.\tНарисуйте график (*не графики, на одном графике должно отображаться всё*) зависимости цены ноутбука/ПК от объёма жесткого диска. Опишите ваши наблюдения, существует ли какая-то зависимость и т.п.\n"
   ]
  },
  {
   "cell_type": "code",
   "execution_count": 34,
   "id": "bd7e621f",
   "metadata": {},
   "outputs": [
    {
     "data": {
      "text/plain": [
       "Text(0.5, 1.0, 'PC/Laptop Price Dependence from HD')"
      ]
     },
     "execution_count": 34,
     "metadata": {},
     "output_type": "execute_result"
    },
    {
     "data": {
      "image/png": "[encoded data removed]",
      "text/plain": [
       "<Figure size 432x288 with 1 Axes>"
      ]
     },
     "metadata": {
      "needs_background": "light"
     },
     "output_type": "display_data"
    }
   ],
   "source": [
    "pc_price = pc[['hd', 'price']].sort_values(['hd', 'price'])\n",
    "lp_price = lp[['hd', 'price']].sort_values(['hd', 'price'])\n",
    "\n",
    "x1 = pc_price['hd']\n",
    "y1 = pc_price['price']\n",
    "x2 = lp_price['hd']\n",
    "y2 = lp_price['price']\n",
    "\n",
    "pc = plt.bar(x1, y1, color = 'None', edgecolor = 'salmon', linewidth = 1, alpha = 0.5)\n",
    "lp = plt.bar(x2, y2, color = 'None', edgecolor = 'steelblue', linewidth = 1, alpha = 0.3)\n",
    "\n",
    "plt.xlabel('HD')\n",
    "plt.ylabel('Price')\n",
    "plt.legend((pc, lp), ['PC', 'Laptop'], title = 'Product Type: ', loc = (1.1, 0))\n",
    "plt.title('PC/Laptop Price Dependence from HD')"
   ]
  },
  {
   "cell_type": "markdown",
   "id": "1b71b445",
   "metadata": {},
   "source": [
    "В основном видим, что чем больше объём жёсткого диска у ноутбука/ПК, тем выше цена, однако эта зависимость нелинейная и не всегда верна для частных рассматриваемых моделей."
   ]
  },
  {
   "cell_type": "markdown",
   "id": "0d62d185",
   "metadata": {},
   "source": [
    "9.\tНайдите:  \n",
    "    a.\tколичество товаров каждого типа у каждого производителя; постройте график pie, на котором должна отображаться доля каждого производителя.  \n",
    "    b.\tсамый дорогой товар каждого типа, вывести тип и цену.  \n",
    "    c.\tпроизводителей, делающих ноутбуки и пк ценой более 600 долларов, но которые не производят принтеры, вывести производителя."
   ]
  },
  {
   "cell_type": "code",
   "execution_count": null,
   "id": "6df31027",
   "metadata": {},
   "outputs": [],
   "source": [
    "# a\n",
    "\n",
    "\n",
    "\n",
    "pc_ram = pd.pivot_table(pc,\n",
    "                       index = 'model',\n",
    "                       values = 'ram',\n",
    "                       aggfunc = [min, max])"
   ]
  }
 ],
 "metadata": {
  "kernelspec": {
   "display_name": "Python 3 (ipykernel)",
   "language": "python",
   "name": "python3"
  },
  "language_info": {
   "codemirror_mode": {
    "name": "ipython",
    "version": 3
   },
   "file_extension": ".py",
   "mimetype": "text/x-python",
   "name": "python",
   "nbconvert_exporter": "python",
   "pygments_lexer": "ipython3",
   "version": "3.9.7"
  },
  "toc": {
   "base_numbering": 1,
   "nav_menu": {},
   "number_sections": false,
   "sideBar": true,
   "skip_h1_title": false,
   "title_cell": "Table of Contents",
   "title_sidebar": "Contents",
   "toc_cell": false,
   "toc_position": {},
   "toc_section_display": true,
   "toc_window_display": false
  }
 },
 "nbformat": 4,
 "nbformat_minor": 5
}
