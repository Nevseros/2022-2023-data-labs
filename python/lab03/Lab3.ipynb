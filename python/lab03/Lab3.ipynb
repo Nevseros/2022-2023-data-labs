{
 "cells": [
  {
   "cell_type": "markdown",
   "id": "b98d1f5f",
   "metadata": {},
   "source": [
    "# <center> Лабораторная работа № 3</center>\n",
    "Перед началом выполнения каждой лабораторной работы, необходимо выполнить код в двух ячейках ниже. В случае если модуль `datetime` не установлен нужно установить. В последнем принте, вывести свою фамилию и инициалы."
   ]
  },
  {
   "cell_type": "code",
   "execution_count": 1,
   "id": "f8704410",
   "metadata": {
    "scrolled": true
   },
   "outputs": [
    {
     "name": "stdout",
     "output_type": "stream",
     "text": [
      "nevseros\\ҐЄ вҐаЁ­ \n"
     ]
    }
   ],
   "source": [
    "!whoami"
   ]
  },
  {
   "cell_type": "code",
   "execution_count": 2,
   "id": "7be587bf",
   "metadata": {
    "scrolled": true
   },
   "outputs": [
    {
     "name": "stdout",
     "output_type": "stream",
     "text": [
      "2022-11-30 15:48:35.437097\n",
      "Kaneva E.P.\n"
     ]
    }
   ],
   "source": [
    "from datetime import datetime\n",
    "\n",
    "current_time = datetime.now()\n",
    "print(current_time)\n",
    "print(\"Kaneva E.P.\") # написать здесь свою фамилию и инициалы"
   ]
  },
  {
   "cell_type": "markdown",
   "id": "8de792ce",
   "metadata": {},
   "source": [
    "# Задания"
   ]
  },
  {
   "cell_type": "markdown",
   "id": "29181d2d",
   "metadata": {},
   "source": [
    "**Задание 1.** Создайте файл с расширением .txt, содержащий несколько чисел, записанных через пробел. Напишите программу или функцию, которая подсчитывает и выводит на экран общую сумму чисел, хранящихся в этом файле."
   ]
  },
  {
   "cell_type": "code",
   "execution_count": 11,
   "id": "f56d134c",
   "metadata": {},
   "outputs": [
    {
     "name": "stdout",
     "output_type": "stream",
     "text": [
      "300\n"
     ]
    }
   ],
   "source": [
    "file = open(path_goes_here, mode = 'r')\n",
    "print(sum([int(item) for item in file.read().split()]))"
   ]
  },
  {
   "cell_type": "markdown",
   "id": "5ae9f722",
   "metadata": {},
   "source": [
    "**Задание 2.** Напишите функцию `read_file`, которая принимает имя файла, и печатает его содержимое. Учитывайте, что содержимое файла может быть как на русском языке, так и на английском (т.е. не забываем про кодировку)."
   ]
  },
  {
   "cell_type": "code",
   "execution_count": 16,
   "id": "616e9bec",
   "metadata": {},
   "outputs": [
    {
     "name": "stdout",
     "output_type": "stream",
     "text": [
      "Input file path: C:\\\\Users\\\\Екатерина\\\\Documents\\\\pfur\\\\data\\\\Python\\\\lab03\\\\text.txt\n",
      "1 4 2 3 4 5 53 \n",
      "223 3 2\n",
      "dcfgvhbjn jdnkk xkj\n",
      "грив adjnd лтлыты\n",
      ".%?*!(?()\n"
     ]
    }
   ],
   "source": [
    "file_name = input(\"Input file path: \")\n",
    "file = open(file_name, mode = 'r', encoding = \"UTF-8\")\n",
    "print(file.read())"
   ]
  },
  {
   "cell_type": "markdown",
   "id": "b21b69ff",
   "metadata": {},
   "source": [
    "**Задание 3.** \n",
    "\n",
    "3.1.  Напишите цикл, который выводит только запросы, содержащие набор букв «эпл».\n",
    "Внимательно просмотрите полученный список и найдите лишние слова.\n",
    "\n",
    ">queries = [\"эпл айфоны\",\n",
    "\"купить эпл телефон\",\n",
    "\"лучшие смартфоны\",\n",
    "\"барон фон\",\n",
    "\"смартфон эпл айфон\",\n",
    "\"смартфоны 2019\",\n",
    "\"эплан\",\n",
    "\"фоновая музыка\",\n",
    "\"эпл айфоны икс\",\n",
    "\"эпл айфон 64гб\",\n",
    "\"фон для фото\",\n",
    "\"купить эпл\",\n",
    "\"эпл айфон купить\",\n",
    "\"эплеренон купить\",\n",
    "\"смартфон где купить\",\n",
    "\"эплан показания\",\n",
    "\"смартфон huawei\",\n",
    "\"эпл\"]\n",
    "\n",
    "3.2. Проведите стемминг в списке words. Результат выведите на экран в следующем виде:\n",
    ">Исходное слово - ..., после стемминга - ...\n",
    "\n",
    "3.3 Сформируйте список запросов с «эпл»."
   ]
  },
  {
   "cell_type": "code",
   "execution_count": 46,
   "id": "85f8c383",
   "metadata": {},
   "outputs": [
    {
     "name": "stdout",
     "output_type": "stream",
     "text": [
      "['эпл айфоны', 'купить эпл телефон', 'смартфон эпл айфон', 'эплан', 'эпл айфоны икс', 'эпл айфон 64гб', 'купить эпл', 'эпл айфон купить', 'эплеренон купить', 'эплан показания', 'эпл']\n"
     ]
    }
   ],
   "source": [
    "# 3.1\n",
    "queries = [\"эпл айфоны\", \"купить эпл телефон\", \"лучшие смартфоны\", \"барон фон\", \"смартфон эпл айфон\", \"смартфоны 2019\", \n",
    "           \"эплан\", \"фоновая музыка\", \n",
    "           \"эпл айфоны икс\", \"эпл айфон 64гб\", \"фон для фото\", \"купить эпл\", \n",
    "           \"эпл айфон купить\", \"эплеренон купить\", \"смартфон где купить\", \n",
    "           \"эплан показания\", \"смартфон huawei\", \"эпл\"]\n",
    "\n",
    "temp_array = [query.find('эпл') for query in queries]\n",
    "new_queries = []\n",
    "\n",
    "for i in range(len(chto_to)):\n",
    "    if temp_array[i] != -1:\n",
    "        new_queries.append(queries[i])\n",
    "\n",
    "del temp_array\n",
    "print(new_queries)"
   ]
  },
  {
   "cell_type": "code",
   "execution_count": 7,
   "id": "7b68f9cd",
   "metadata": {},
   "outputs": [],
   "source": [
    "# 3.2\n",
    "from nltk.stem import SnowballStemmer\n",
    "russian_stemmer = SnowballStemmer('russian')\n",
    "words = [\"эпл\", \"эплан\", \"эплеренон\"]\n",
    "\n"
   ]
  },
  {
   "cell_type": "code",
   "execution_count": 8,
   "id": "9aa53943",
   "metadata": {},
   "outputs": [],
   "source": [
    "# 3.3\n",
    "# ваш код"
   ]
  }
 ],
 "metadata": {
  "kernelspec": {
   "display_name": "Python 3 (ipykernel)",
   "language": "python",
   "name": "python3"
  },
  "language_info": {
   "codemirror_mode": {
    "name": "ipython",
    "version": 3
   },
   "file_extension": ".py",
   "mimetype": "text/x-python",
   "name": "python",
   "nbconvert_exporter": "python",
   "pygments_lexer": "ipython3",
   "version": "3.9.7"
  },
  "toc": {
   "base_numbering": 1,
   "nav_menu": {},
   "number_sections": false,
   "sideBar": true,
   "skip_h1_title": false,
   "title_cell": "Table of Contents",
   "title_sidebar": "Contents",
   "toc_cell": false,
   "toc_position": {},
   "toc_section_display": true,
   "toc_window_display": false
  }
 },
 "nbformat": 4,
 "nbformat_minor": 5
}
