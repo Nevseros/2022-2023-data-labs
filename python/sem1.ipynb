{
 "cells": [
  {
   "cell_type": "markdown",
   "id": "e78b9fae",
   "metadata": {},
   "source": [
    "## Python. Семинар 1.\n",
    "\n",
    "**Задача 1.** Программа должна запрашивать у пользователя ввести любое положительное число и вывести последнюю цифру числа."
   ]
  },
  {
   "cell_type": "code",
   "execution_count": 3,
   "id": "de36bab7",
   "metadata": {},
   "outputs": [
    {
     "name": "stdout",
     "output_type": "stream",
     "text": [
      "Введите положительное число: \n",
      "-67263\n",
      "Ошибка, попробуйте снова.\n",
      "Введите положительное число: \n",
      "-9\n",
      "Ошибка, попробуйте снова.\n",
      "Введите положительное число: \n",
      "6573\n",
      "Последняя цифра: \n",
      "3\n"
     ]
    }
   ],
   "source": [
    "print(\"Введите положительное число: \")\n",
    "a = float(input())\n",
    "\n",
    "while a < 0:\n",
    "    print(\"Ошибка, попробуйте снова.\")\n",
    "    print(\"Введите положительное число: \")\n",
    "    a = float(input())\n",
    "\n",
    "while a % 1 != 0:\n",
    "    a *= 10\n",
    "\n",
    "print(\"Последняя цифра: \")\n",
    "print(int(a % 10))"
   ]
  },
  {
   "cell_type": "markdown",
   "id": "e72387f7",
   "metadata": {},
   "source": [
    "**Задача 2.** Программа должна запрашивать у пользователя ввести любое положительное число и вывести первое цифру этого числа."
   ]
  },
  {
   "cell_type": "code",
   "execution_count": 23,
   "id": "5a7ef392",
   "metadata": {},
   "outputs": [
    {
     "name": "stdout",
     "output_type": "stream",
     "text": [
      "Введите положительное число: \n",
      "54344\n",
      "5\n"
     ]
    }
   ],
   "source": [
    "print(\"Введите положительное число: \")\n",
    "a = float(input())\n",
    "\n",
    "while a < 0:\n",
    "    print(\"Ошибка, попробуйте снова.\")\n",
    "    print(\"Введите положительное число: \")\n",
    "    a = float(input())\n",
    "\n",
    "if a < 1:\n",
    "    print(0)\n",
    "else:\n",
    "    while a > 10:\n",
    "        a //= 10\n",
    "    \n",
    "    print(int(a))"
   ]
  },
  {
   "cell_type": "markdown",
   "id": "5b9b7868",
   "metadata": {},
   "source": [
    "**Задача 3.** Программа должна запрашивать у пользователя ввести любое положительное число и вывести первую и последню цифру этого числа, кол-во цифр в числе, сумму чисел в числе."
   ]
  },
  {
   "cell_type": "code",
   "execution_count": 2,
   "id": "7056db31",
   "metadata": {},
   "outputs": [
    {
     "name": "stdout",
     "output_type": "stream",
     "text": [
      "Введите положительное число: \n",
      "-6537\n",
      "Ошибка, попробуйте снова.\n",
      "Введите положительное число: \n",
      "765\n",
      "Первая цифра: 7\n",
      "Последняя цифра: 5\n",
      "Количество цифр: 3\n",
      "Сумма цифр числа: 18\n"
     ]
    }
   ],
   "source": [
    "print(\"Введите положительное число: \")\n",
    "a = float(input())\n",
    "b = str(a)\n",
    "d = a\n",
    "\n",
    "while a < 0:\n",
    "    print(\"Ошибка, попробуйте снова.\")\n",
    "    print(\"Введите положительное число: \")\n",
    "    a = float(input())\n",
    "    b = str(a)\n",
    "    d = a\n",
    "\n",
    "if a < 1:\n",
    "    print(\"Первая цифра:\", 0)\n",
    "else:\n",
    "    c = a\n",
    "    while c > 10:\n",
    "        c //= 10\n",
    "    print(\"Первая цифра:\", int(c))\n",
    "\n",
    "while a % 1 != 0:\n",
    "    a *= 10\n",
    "print(\"Последняя цифра:\", int(a % 10))\n",
    "\n",
    "if d == int(d):\n",
    "    print(\"Количество цифр:\", len(b) - 2)\n",
    "else:\n",
    "    print(\"Количество цифр:\", len(b) - 1)\n",
    "\n",
    "sum = 0\n",
    "e = len(b)\n",
    "for i in range (e):\n",
    "    sum += a % 10\n",
    "    a //= 10\n",
    "print(\"Сумма цифр числа:\", int(sum))"
   ]
  },
  {
   "cell_type": "markdown",
   "id": "636403aa",
   "metadata": {},
   "source": [
    "**Задача 4.** Программа должна заращивать у пользователя ввести любое положительное пятизначное число и вывести третью цифру этого числа."
   ]
  },
  {
   "cell_type": "code",
   "execution_count": 7,
   "id": "499adc5e",
   "metadata": {},
   "outputs": [
    {
     "name": "stdout",
     "output_type": "stream",
     "text": [
      "Введите положительное пятизначное число:\n",
      "-7657\n",
      "Ошибка, попробуйте снова.\n",
      "Введите положительное пятизначное число:\n",
      "767\n",
      "Ошибка, попробуйте снова.\n",
      "Введите положительное пятизначное число:\n",
      "45354\n",
      "Третья цифра числа: 3\n"
     ]
    }
   ],
   "source": [
    "print(\"Введите положительное пятизначное число:\")\n",
    "a = int(input())\n",
    "\n",
    "while a < 10000 or a > 99999:\n",
    "    print(\"Ошибка, попробуйте снова.\")\n",
    "    print(\"Введите положительное пятизначное число:\")\n",
    "    a = int(input())\n",
    "\n",
    "a //= 100\n",
    "a %= 10\n",
    "print(\"Третья цифра числа:\", int(a))"
   ]
  },
  {
   "cell_type": "markdown",
   "id": "b7d504a0",
   "metadata": {},
   "source": [
    "**Задача 5.** Определить, чему равны выражение `21//-5` и выражение `21%-5` в Python? Объясните ответ в комментарии или ячейке типа Markdown."
   ]
  },
  {
   "cell_type": "code",
   "execution_count": 6,
   "id": "271c6599",
   "metadata": {},
   "outputs": [
    {
     "name": "stdout",
     "output_type": "stream",
     "text": [
      "-5\n",
      "-4\n"
     ]
    }
   ],
   "source": [
    "print(21 // -5)\n",
    "print(21 % -5)"
   ]
  },
  {
   "cell_type": "markdown",
   "id": "3df5e2cc",
   "metadata": {},
   "source": [
    "`21//-5` = -5, `21%-5` = -4, т.к. 21 = (-5) * (-5) + (-4) = 25 - 4."
   ]
  },
  {
   "cell_type": "markdown",
   "id": "bca08635",
   "metadata": {},
   "source": [
    "**Задача 6.** Вычислить площадь прямоугольного треугольника."
   ]
  },
  {
   "cell_type": "code",
   "execution_count": null,
   "id": "e5af17d7",
   "metadata": {},
   "outputs": [
    {
     "name": "stdout",
     "output_type": "stream",
     "text": [
      "Введите 6 координат вершин треугольника в формате `x1, y1, x2,...`:\n",
      "1, 2, 3, 4, 5, 6\n",
      "Ошибка. Попробуйте ещё раз.\n",
      "Введите 6 координат вершин треугольника в формате `x1, y1, x2,...`:\n"
     ]
    }
   ],
   "source": [
    "import time\n",
    "\n",
    "print(\"Введите 6 координат вершин треугольника в формате `x1, y1, x2,...`:\")\n",
    "time.sleep(1)\n",
    "\n",
    "def errorMessage():\n",
    "    print(\"Ошибка. Попробуйте ещё раз.\")\n",
    "    print(\"Введите 6 координат вершин треугольника в формате `x1, y1, x2,...`:\")\n",
    "    vershiny()\n",
    "\n",
    "def vershiny():\n",
    "    try:\n",
    "        [x1, y1, x2, y2, x3, y3] = [int(s) for s in (input().split(', ', maxsplit = 6))]\n",
    "        a = ((x1 - x2)**2 + (y1 - y2)**2)**0.5\n",
    "        b = ((x1 - x3)**2 + (y1 - y3)**2)**0.5\n",
    "        c = ((x3 - x2)**2 + (y3 - y2)**2)**0.5\n",
    "        if a + b < c or a + c < b or b + c < a or (x1-x2) * (x2-x3) == (y1-y2) * (y2-y3):\n",
    "            errorMessage()\n",
    "        else:\n",
    "            p = (a+b+c) / 2\n",
    "            S = ((p-a) * (p-b) * (p-c) * p) ** 0.5\n",
    "            S = round(S, 10)\n",
    "            print(\"Площадь треугольника S =\", S)\n",
    "    except ValueError:\n",
    "        errorMessage()\n",
    "    \n",
    "vershiny()"
   ]
  },
  {
   "cell_type": "markdown",
   "id": "697b2664",
   "metadata": {},
   "source": [
    "**Задача 7.**  «Дележ яблок». N школьников делят k яблок поровну, неделящийся остаток остается в корзинке. Сколько яблок достанется каждому школьнику? Сколько яблок останется в корзинке? Программа получает на вход числа N и k и должна вывести искомое количество яблок (два числа)."
   ]
  },
  {
   "cell_type": "code",
   "execution_count": 1,
   "id": "05d42c8f",
   "metadata": {},
   "outputs": [
    {
     "name": "stdout",
     "output_type": "stream",
     "text": [
      "Введите количество школьников N и количество яблок k в формате `N, k`:\n",
      "2, 37\n",
      "Каждый получит: 18\n",
      "В корзине останется: 1\n"
     ]
    }
   ],
   "source": [
    "import time\n",
    "\n",
    "print(\"Введите количество школьников N и количество яблок k в формате `N, k`:\")\n",
    "time.sleep(1)\n",
    "\n",
    "def errorMessage():\n",
    "    print(\"Ошибка. Попробуйте ещё раз.\")\n",
    "    print(\"Введите количество школьников N и количество яблок k в формате `N, k`:\")\n",
    "    inputApples()\n",
    "    \n",
    "def inputApples():\n",
    "    try:\n",
    "        [N, k] = [s for s in (input().split(', ', maxsplit = 2))]\n",
    "        if float(N) == int(float(N)) and float(k) == int(float(k)):\n",
    "            k = int(k)\n",
    "            N = int(N)\n",
    "            get = k // N\n",
    "            remain = k % N\n",
    "            print(\"Каждый получит:\", get)\n",
    "            print(\"В корзине останется:\", remain)\n",
    "        else:\n",
    "            errorMessage()\n",
    "    except ValueError:\n",
    "        errorMessage()\n",
    "\n",
    "inputApples()"
   ]
  },
  {
   "cell_type": "markdown",
   "id": "37b2861f",
   "metadata": {},
   "source": [
    "**Задание 8.** Напишите, программу, чтобы текст выводился в таком виде, как представлен ниже. Программа должна запращивать два значения размер партии и кол-во бракованных единиц `batch_size, number_of_defective`, и посчитать долю брака в процентах `percentage_of_defective`. \n",
    "\n",
    "\n",
    "    Хотим сообщить, что наши ноутбуки прекрасны и брака почти нет.\n",
    "    Из партии, которую мы вам переслали, в размере\n",
    "    batch_size\n",
    "    единиц, всего лишь\n",
    "    number_of_defective\n",
    "    ноутбуков были бракованными. Что составляет всего лишь\n",
    "    percentage_of_defective %. \n",
    "\n",
    "    С уважением и любовью,\n",
    "    Иван Иванович\n",
    "    тел. +7234567891"
   ]
  },
  {
   "cell_type": "code",
   "execution_count": 1,
   "id": "e29a80f1",
   "metadata": {},
   "outputs": [
    {
     "name": "stdout",
     "output_type": "stream",
     "text": [
      "Введите размер партии:\n",
      "767687\n",
      "Введите количество бракованных ноутбуков:\n",
      "989\n",
      "\n",
      "    Хотим сообщить, что наши ноутбуки прекрасны и брака почти нет.\n",
      "    Из партии, которую мы вам переслали, в размере\n",
      "    767687\n",
      "    единиц всего лишь\n",
      "    989\n",
      "ноутбуков были бракованными, что составляет всего лишь\n",
      "    0.13%.\n",
      "\n",
      "    С уважением и любовью,\n",
      "    Иван Иванович\n",
      "тел. +7234567891\n"
     ]
    }
   ],
   "source": [
    "import time\n",
    "\n",
    "def errorMessage():\n",
    "    print(\"Ошибка. Попробуйте ещё раз.\")\n",
    "    inputLaptops()\n",
    "    \n",
    "def outputLaptops(n):\n",
    "    if 10 <= int(n) <= 20 or int(n) % 10 == 0 or 5 <= int(n) % 10 <= 9:\n",
    "        return n + \"\\nноутбуков были бракованными, что составляет всего лишь\"\n",
    "    elif int(n) % 10 == 1:\n",
    "        return n + \"\\nноутбук был бракованный, что составляет всего лишь\"\n",
    "    else:\n",
    "        return n + \"\\nноутбука были бракованными, что составляет всего лишь\"\n",
    "\n",
    "def inputLaptops():\n",
    "    print(\"Введите размер партии:\")\n",
    "    time.sleep(1.5)\n",
    "    batch_size = input()\n",
    "    print(\"Введите количество бракованных ноутбуков:\")\n",
    "    time.sleep(1.5)\n",
    "    number_of_defective = input()\n",
    "    eq1 = float(batch_size) == int(batch_size)\n",
    "    eq2 = float(number_of_defective) == int(number_of_defective)\n",
    "    neq3 = bool(float(number_of_defective) <= float(batch_size))\n",
    "    if eq1 and eq2 and neq3:\n",
    "            percentage_of_defective = int(number_of_defective) / int(batch_size) * 100\n",
    "            percentage_of_defective = round(percentage_of_defective, 2)\n",
    "            number_of_defective = outputLaptops(number_of_defective)\n",
    "            print(\"\\n    Хотим сообщить, что наши ноутбуки прекрасны и брака почти нет.\\n    Из партии, которую \" \n",
    "                  + \"мы вам переслали, в размере\\n\" + str(batch_size) + \"\\n    единиц всего лишь\\n    \" \n",
    "                  + str(number_of_defective) + \"\\n\" + str(percentage_of_defective)  \n",
    "                  + \"%.\\n\\nС уважением и любовью,\\n\" + \"Иван Иванович\\nтел. +7234567891\")\n",
    "    else:\n",
    "        errorMessage()\n",
    "        \n",
    "inputLaptops()"
   ]
  },
  {
   "cell_type": "code",
   "execution_count": null,
   "id": "d98e2876",
   "metadata": {},
   "outputs": [],
   "source": []
  }
 ],
 "metadata": {
  "kernelspec": {
   "display_name": "Python 3 (ipykernel)",
   "language": "python",
   "name": "python3"
  },
  "language_info": {
   "codemirror_mode": {
    "name": "ipython",
    "version": 3
   },
   "file_extension": ".py",
   "mimetype": "text/x-python",
   "name": "python",
   "nbconvert_exporter": "python",
   "pygments_lexer": "ipython3",
   "version": "3.9.7"
  }
 },
 "nbformat": 4,
 "nbformat_minor": 5
}
